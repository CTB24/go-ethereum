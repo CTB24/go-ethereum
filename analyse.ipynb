{
 "cells": [
  {
   "cell_type": "code",
   "execution_count": 36,
   "metadata": {},
   "outputs": [
    {
     "ename": "FileNotFoundError",
     "evalue": "[Errno 2] No such file or directory: './discv5-test/logs/logs.json'",
     "output_type": "error",
     "traceback": [
      "\u001b[0;31m---------------------------------------------------------------------------\u001b[0m",
      "\u001b[0;31mFileNotFoundError\u001b[0m                         Traceback (most recent call last)",
      "Cell \u001b[0;32mIn [36], line 3\u001b[0m\n\u001b[1;32m      1\u001b[0m \u001b[39mfrom\u001b[39;00m \u001b[39mpython\u001b[39;00m\u001b[39m.\u001b[39;00m\u001b[39manalyse_logs\u001b[39;00m \u001b[39mimport\u001b[39;00m \u001b[39m*\u001b[39m\n\u001b[0;32m----> 3\u001b[0m op_df \u001b[39m=\u001b[39m get_op_df(log_path)\n\u001b[1;32m      4\u001b[0m op_df\n",
      "File \u001b[0;32m~/workspace/go-ethereum/python/analyse_logs.py:107\u001b[0m, in \u001b[0;36mget_op_df\u001b[0;34m(log_path)\u001b[0m\n\u001b[1;32m    104\u001b[0m     topic_mapping[hashlib\u001b[39m.\u001b[39msha256((\u001b[39m'\u001b[39m\u001b[39mt\u001b[39m\u001b[39m'\u001b[39m\u001b[39m+\u001b[39m\u001b[39mstr\u001b[39m(i))\u001b[39m.\u001b[39mencode(\u001b[39m'\u001b[39m\u001b[39mutf-8\u001b[39m\u001b[39m'\u001b[39m))\u001b[39m.\u001b[39mhexdigest()] \u001b[39m=\u001b[39m i\n\u001b[1;32m    106\u001b[0m operations \u001b[39m=\u001b[39m {} \u001b[39m#indexed by opid\u001b[39;00m\n\u001b[0;32m--> 107\u001b[0m \u001b[39mfor\u001b[39;00m line \u001b[39min\u001b[39;00m \u001b[39mopen\u001b[39;49m(log_path \u001b[39m+\u001b[39;49m \u001b[39m'\u001b[39;49m\u001b[39m/logs.json\u001b[39;49m\u001b[39m'\u001b[39;49m, \u001b[39m'\u001b[39;49m\u001b[39mr\u001b[39;49m\u001b[39m'\u001b[39;49m)\u001b[39m.\u001b[39mreadlines():\n\u001b[1;32m    108\u001b[0m     \u001b[39m#not a json line\u001b[39;00m\n\u001b[1;32m    109\u001b[0m     \u001b[39mif\u001b[39;00m(line[\u001b[39m0\u001b[39m] \u001b[39m!=\u001b[39m \u001b[39m'\u001b[39m\u001b[39m{\u001b[39m\u001b[39m'\u001b[39m):\n\u001b[1;32m    110\u001b[0m         \u001b[39mcontinue\u001b[39;00m\n",
      "\u001b[0;31mFileNotFoundError\u001b[0m: [Errno 2] No such file or directory: './discv5-test/logs/logs.json'"
     ]
    }
   ],
   "source": [
    "from python.analyse_logs import *\n",
    "\n",
    "op_df = get_op_df(log_path)\n",
    "op_df\n"
   ]
  },
  {
   "cell_type": "code",
   "execution_count": null,
   "metadata": {},
   "outputs": [],
   "source": [
    "op_df['reply_received'].value_counts().plot(kind = 'pie', autopct='%1.0f%%', legend=True, title='Operation returned')"
   ]
  },
  {
   "cell_type": "code",
   "execution_count": null,
   "metadata": {},
   "outputs": [],
   "source": [
    "import matplotlib.pyplot as plt\n",
    "import seaborn as sns\n",
    "\n",
    "fig, axes = plt.subplots()\n",
    "df = op_df[~op_df['time'].isna()]\n",
    "df\n",
    "sns.violinplot(x='method',y='time', data=df, ax = axes, cut=0)\n",
    "#axes.set_title('Day Ahead Market')"
   ]
  },
  {
   "cell_type": "code",
   "execution_count": null,
   "metadata": {},
   "outputs": [],
   "source": [
    "from python.analyse_logs import *\n",
    "\n",
    "msg_df = get_msg_df(log_path, op_df)\n",
    "msg_df"
   ]
  },
  {
   "cell_type": "code",
   "execution_count": null,
   "metadata": {},
   "outputs": [],
   "source": [
    "#set the missing opids and op_types to all the messages being part of operations\n",
    "#print(msg_df)\n",
    "#for opid in set([i for i in op_df['opid']]):\n",
    "#    print(opid)\n",
    "#    op_type = op_df.loc[op_df['opid'] == opid, 'method'].values[0]\n",
    "#    topic = op_df.loc[op_df['opid'] == opid, 'topic'].values[0]\n",
    "#    for req_id in set([i for i in msg_df[msg_df['opid'] == opid]['req_id']]):\n",
    "#        msg_df.loc[msg_df[\"req_id\"] == req_id, \"opid\"] = opid\n",
    "#        msg_df.loc[msg_df['req_id'] == req_id, 'op_type'] = op_type\n",
    "#        msg_df.loc[msg_df['req_id'] == req_id, 'topic'] = topic\n",
    "\n",
    "\n",
    "# TODO: this is very slow now! \n",
    "#msg_df"
   ]
  },
  {
   "cell_type": "code",
   "execution_count": null,
   "metadata": {},
   "outputs": [],
   "source": [
    "from matplotlib.lines import Line2D\n",
    "\n",
    "msg_df = msg_df.dropna(subset=['opid'])\n",
    "\n",
    "colors = ['red', 'green', 'blue', 'yellow']\n",
    "for op_type, group_op_type in msg_df.groupby('op_type'):\n",
    "    #if(op_type != 'discv5_registerTopic'):\n",
    "        #continue\n",
    "    print(op_type)\n",
    "    fig, ax = plt.subplots()\n",
    "    legend_elements = []\n",
    "    added = set()\n",
    "    for opid, group_opid in group_op_type.groupby('opid'):\n",
    "        print(\"\\t\", op_type)\n",
    "        i = 0\n",
    "        sum = 0\n",
    "        for msg_type, group_msg_type in group_opid.groupby('msg_type'):\n",
    "            val = len(group_msg_type)\n",
    "            ax.bar(opid, val, color=colors[i], bottom = sum)\n",
    "            sum += val\n",
    "            print(\"\\t\\t\", msg_type, len(group_msg_type))\n",
    "            if(msg_type not in added):\n",
    "                added.add(msg_type)\n",
    "                legend_elements.append(Line2D([0], [0], color=colors[i], lw=4, label=msg_type))\n",
    "            i += 1\n",
    "    ax.legend(handles=legend_elements)\n",
    "    ax.set_title(op_type)\n",
    "plt.show()"
   ]
  },
  {
   "cell_type": "code",
   "execution_count": null,
   "metadata": {},
   "outputs": [],
   "source": [
    "msg_df['in_out'].value_counts().plot(kind='pie', autopct='%1.0f%%', legend=True, title='Msgs sent/received')"
   ]
  },
  {
   "cell_type": "code",
   "execution_count": null,
   "metadata": {},
   "outputs": [],
   "source": [
    "import matplotlib.pyplot as plt\n",
    "\n",
    "sent = msg_df[msg_df['in_out'] == 'out']['node_id'].value_counts().to_dict()\n",
    "sent = {int(k):int(v) for k,v in sent.items()} #convert IDs to int\n",
    "\n",
    "received = msg_df[msg_df['in_out'] == 'out']['peer_id'].value_counts().to_dict()\n",
    "received = {int(k):int(v) for k,v in received.items()} #convert IDs to int\n",
    "\n",
    "width =0.3\n",
    "plt.bar(sent.keys(), sent.values(), width=width, label = 'sent')\n",
    "plt.bar([x + width for x in received.keys()], received.values(), width=width, label = 'received')\n",
    "plt.legend()\n",
    "plt.title('Messages exchanged')\n",
    "plt.xlabel('Node ID')\n",
    "plt.ylabel('#Messages')"
   ]
  },
  {
   "cell_type": "code",
   "execution_count": null,
   "metadata": {},
   "outputs": [],
   "source": [
    "import matplotlib.pyplot as plt\n",
    "import seaborn as sns\n",
    "\n",
    "fig, axes = plt.subplots()\n",
    "df_in = msg_df[msg_df['in_out']=='in']['node_id'].value_counts().rename_axis('node_id').reset_index(name='count')\n",
    "df_in['in_out'] = 'in'\n",
    "df_out = msg_df[msg_df['in_out']=='out']['node_id'].value_counts().rename_axis('node_id').reset_index(name='count')\n",
    "df_out['in_out'] = 'out'\n",
    "\n",
    "df = pd.concat([df_in, df_out], axis=0)\n",
    "sns.violinplot(x='in_out', y='count', data=df, ax = axes, cut=0, title='#Msg received/sent distribution per node')"
   ]
  },
  {
   "cell_type": "code",
   "execution_count": null,
   "metadata": {},
   "outputs": [],
   "source": [
    "msg_df['msg_type'].value_counts().plot(kind='bar')"
   ]
  },
  {
   "cell_type": "code",
   "execution_count": null,
   "metadata": {},
   "outputs": [],
   "source": [
    "import numpy as np\n",
    "import math\n",
    "import hashlib\n",
    "\n",
    "for op_type, group_op_type in msg_df.groupby('op_type'):\n",
    "    print(op_type)\n",
    "    fig, ax = plt.subplots()\n",
    "    group_op_type['topic'].value_counts().plot(kind='bar', title=op_type)\n",
    "    ax.set_ylabel(\"#Messages\")\n",
    "\n"
   ]
  },
  {
   "cell_type": "code",
   "execution_count": null,
   "metadata": {},
   "outputs": [],
   "source": [
    "op_df_exploded = op_df.copy()\n",
    "op_df_exploded = op_df_exploded.explode('result')\n",
    "fig, axes = plt.subplots()\n",
    "op_df_exploded['result'].value_counts().plot(ax = axes,kind='bar')\n",
    "axes.set_xticklabels([])\n",
    "axes.set_xlabel(\"Discovered Nodes\")\n",
    "axes.set_ylabel(\"Count\")\n",
    "axes.set_yticks(list(op_df_exploded['result'].value_counts()))"
   ]
  },
  {
   "cell_type": "code",
   "execution_count": null,
   "metadata": {},
   "outputs": [],
   "source": [
    "op_df_droppedNone = op_df_exploded.dropna(subset=['result'])\n",
    "fig, axes = plt.subplots()\n",
    "op_df_droppedNone['opid'].value_counts().plot(ax=axes, kind='bar')\n",
    "axes.set_xlabel(\"Topic search operation\")\n",
    "axes.set_ylabel(\"Number of results\")\n",
    "axes.set_yticks(list(op_df_droppedNone['opid'].value_counts()))"
   ]
  },
  {
   "cell_type": "code",
   "execution_count": null,
   "metadata": {},
   "outputs": [],
   "source": [
    "import numpy\n",
    "#consider only final regconfig message\n",
    "df = msg_df.dropna(subset=['ok'], inplace=False)\n",
    "fig, ax = plt.subplots()\n",
    "sns.violinplot(x='topic',y='total_wtime', data=df, ax = ax, cut = True)"
   ]
  }
 ],
 "metadata": {
  "kernelspec": {
   "display_name": "Python 3.9.6 64-bit",
   "language": "python",
   "name": "python3"
  },
  "language_info": {
   "codemirror_mode": {
    "name": "ipython",
    "version": 3
   },
   "file_extension": ".py",
   "mimetype": "text/x-python",
   "name": "python",
   "nbconvert_exporter": "python",
   "pygments_lexer": "ipython3",
   "version": "3.9.6"
  },
  "vscode": {
   "interpreter": {
    "hash": "31f2aee4e71d21fbe5cf8b01ff0e069b9275f58929596ceb00d14d90e3e16cd6"
   }
  }
 },
 "nbformat": 4,
 "nbformat_minor": 2
}
