{
 "cells": [
  {
   "cell_type": "code",
   "execution_count": null,
   "metadata": {},
   "outputs": [],
   "source": [
    "from analyse_logs import *\n",
    "\n",
    "op_df = get_op_df(log_path)\n",
    "\n"
   ]
  },
  {
   "cell_type": "code",
   "execution_count": null,
   "metadata": {},
   "outputs": [],
   "source": [
    "op_df['reply_received'].value_counts().plot(kind = 'pie')"
   ]
  },
  {
   "cell_type": "code",
   "execution_count": 2,
   "metadata": {},
   "outputs": [
    {
     "name": "stdout",
     "output_type": "stream",
     "text": [
      "Reading node-9.log\n",
      "Reading node-1.log\n",
      "Reading node-7.log\n",
      "Reading node-3.log\n",
      "Reading node-6.log\n",
      "Reading node-4.log\n",
      "Reading node-8.log\n",
      "Reading node-10.log\n",
      "Reading node-5.log\n",
      "Reading node-2.log\n"
     ]
    },
    {
     "data": {
      "text/html": [
       "<div>\n",
       "<style scoped>\n",
       "    .dataframe tbody tr th:only-of-type {\n",
       "        vertical-align: middle;\n",
       "    }\n",
       "\n",
       "    .dataframe tbody tr th {\n",
       "        vertical-align: top;\n",
       "    }\n",
       "\n",
       "    .dataframe thead th {\n",
       "        text-align: right;\n",
       "    }\n",
       "</style>\n",
       "<table border=\"1\" class=\"dataframe\">\n",
       "  <thead>\n",
       "    <tr style=\"text-align: right;\">\n",
       "      <th></th>\n",
       "      <th>node_id</th>\n",
       "      <th>peer_id</th>\n",
       "      <th>in_out</th>\n",
       "      <th>timestamp</th>\n",
       "      <th>msg_type</th>\n",
       "      <th>key</th>\n",
       "    </tr>\n",
       "  </thead>\n",
       "  <tbody>\n",
       "    <tr>\n",
       "      <th>0</th>\n",
       "      <td>9</td>\n",
       "      <td>1</td>\n",
       "      <td>out</td>\n",
       "      <td>2022-10-07 14:45:10.749298+01:00</td>\n",
       "      <td>FINDNODE/v5</td>\n",
       "      <td>NaN</td>\n",
       "    </tr>\n",
       "    <tr>\n",
       "      <th>1</th>\n",
       "      <td>9</td>\n",
       "      <td>1</td>\n",
       "      <td>in</td>\n",
       "      <td>2022-10-07 14:45:10.749319+01:00</td>\n",
       "      <td>WHOAREYOU/v5</td>\n",
       "      <td>NaN</td>\n",
       "    </tr>\n",
       "    <tr>\n",
       "      <th>2</th>\n",
       "      <td>9</td>\n",
       "      <td>1</td>\n",
       "      <td>out</td>\n",
       "      <td>2022-10-07 14:45:10.750188+01:00</td>\n",
       "      <td>FINDNODE/v5</td>\n",
       "      <td>NaN</td>\n",
       "    </tr>\n",
       "    <tr>\n",
       "      <th>3</th>\n",
       "      <td>9</td>\n",
       "      <td>1</td>\n",
       "      <td>in</td>\n",
       "      <td>2022-10-07 14:45:10.750250+01:00</td>\n",
       "      <td>NODES/v5</td>\n",
       "      <td>NaN</td>\n",
       "    </tr>\n",
       "    <tr>\n",
       "      <th>4</th>\n",
       "      <td>9</td>\n",
       "      <td>1</td>\n",
       "      <td>in</td>\n",
       "      <td>2022-10-07 14:45:10.750286+01:00</td>\n",
       "      <td>NODES/v5</td>\n",
       "      <td>NaN</td>\n",
       "    </tr>\n",
       "    <tr>\n",
       "      <th>...</th>\n",
       "      <td>...</td>\n",
       "      <td>...</td>\n",
       "      <td>...</td>\n",
       "      <td>...</td>\n",
       "      <td>...</td>\n",
       "      <td>...</td>\n",
       "    </tr>\n",
       "    <tr>\n",
       "      <th>13526</th>\n",
       "      <td>2</td>\n",
       "      <td>10</td>\n",
       "      <td>out</td>\n",
       "      <td>2022-10-07 14:45:53.467611+01:00</td>\n",
       "      <td>NODES/v5</td>\n",
       "      <td>NaN</td>\n",
       "    </tr>\n",
       "    <tr>\n",
       "      <th>13527</th>\n",
       "      <td>2</td>\n",
       "      <td>10</td>\n",
       "      <td>out</td>\n",
       "      <td>2022-10-07 14:45:53.467650+01:00</td>\n",
       "      <td>NODES/v5</td>\n",
       "      <td>NaN</td>\n",
       "    </tr>\n",
       "    <tr>\n",
       "      <th>13528</th>\n",
       "      <td>2</td>\n",
       "      <td>6</td>\n",
       "      <td>in</td>\n",
       "      <td>2022-10-07 14:45:53.501821+01:00</td>\n",
       "      <td>FINDNODE/v5</td>\n",
       "      <td>NaN</td>\n",
       "    </tr>\n",
       "    <tr>\n",
       "      <th>13529</th>\n",
       "      <td>2</td>\n",
       "      <td>6</td>\n",
       "      <td>out</td>\n",
       "      <td>2022-10-07 14:45:53.501883+01:00</td>\n",
       "      <td>NODES/v5</td>\n",
       "      <td>NaN</td>\n",
       "    </tr>\n",
       "    <tr>\n",
       "      <th>13530</th>\n",
       "      <td>2</td>\n",
       "      <td>6</td>\n",
       "      <td>out</td>\n",
       "      <td>2022-10-07 14:45:53.501910+01:00</td>\n",
       "      <td>NODES/v5</td>\n",
       "      <td>NaN</td>\n",
       "    </tr>\n",
       "  </tbody>\n",
       "</table>\n",
       "<p>13531 rows × 6 columns</p>\n",
       "</div>"
      ],
      "text/plain": [
       "      node_id  peer_id in_out                        timestamp      msg_type  \\\n",
       "0           9        1    out 2022-10-07 14:45:10.749298+01:00   FINDNODE/v5   \n",
       "1           9        1     in 2022-10-07 14:45:10.749319+01:00  WHOAREYOU/v5   \n",
       "2           9        1    out 2022-10-07 14:45:10.750188+01:00   FINDNODE/v5   \n",
       "3           9        1     in 2022-10-07 14:45:10.750250+01:00      NODES/v5   \n",
       "4           9        1     in 2022-10-07 14:45:10.750286+01:00      NODES/v5   \n",
       "...       ...      ...    ...                              ...           ...   \n",
       "13526       2       10    out 2022-10-07 14:45:53.467611+01:00      NODES/v5   \n",
       "13527       2       10    out 2022-10-07 14:45:53.467650+01:00      NODES/v5   \n",
       "13528       2        6     in 2022-10-07 14:45:53.501821+01:00   FINDNODE/v5   \n",
       "13529       2        6    out 2022-10-07 14:45:53.501883+01:00      NODES/v5   \n",
       "13530       2        6    out 2022-10-07 14:45:53.501910+01:00      NODES/v5   \n",
       "\n",
       "       key  \n",
       "0      NaN  \n",
       "1      NaN  \n",
       "2      NaN  \n",
       "3      NaN  \n",
       "4      NaN  \n",
       "...    ...  \n",
       "13526  NaN  \n",
       "13527  NaN  \n",
       "13528  NaN  \n",
       "13529  NaN  \n",
       "13530  NaN  \n",
       "\n",
       "[13531 rows x 6 columns]"
      ]
     },
     "execution_count": 2,
     "metadata": {},
     "output_type": "execute_result"
    }
   ],
   "source": [
    "from analyse_logs import *\n",
    "\n",
    "msg_df = get_msg_df(log_path)\n",
    "msg_df"
   ]
  },
  {
   "cell_type": "code",
   "execution_count": 3,
   "metadata": {},
   "outputs": [
    {
     "data": {
      "text/plain": [
       "Text(0, 0.5, '#Messages')"
      ]
     },
     "execution_count": 3,
     "metadata": {},
     "output_type": "execute_result"
    },
    {
     "data": {
      "image/png": "[encoded data removed]",
      "text/plain": [
       "<Figure size 432x288 with 1 Axes>"
      ]
     },
     "metadata": {
      "needs_background": "light"
     },
     "output_type": "display_data"
    }
   ],
   "source": [
    "import matplotlib.pyplot as plt\n",
    "\n",
    "sent = msg_df[msg_df['in_out'] == 'out']['node_id'].value_counts().to_dict()\n",
    "sent = {int(k):int(v) for k,v in sent.items()} #convert IDs to int\n",
    "received = msg_df[msg_df['in_out'] == 'in']['node_id'].value_counts().to_dict()\n",
    "received = {int(k):int(v) for k,v in received.items()} #convert IDs to int\n",
    "\n",
    "width =0.3\n",
    "plt.bar(sent.keys(), sent.values(), width=width, label = 'sent')\n",
    "plt.bar([x + width for x in received.keys()], received.values(), width=width, label = 'received')\n",
    "plt.legend()\n",
    "plt.title('Messages exchanged')\n",
    "plt.xlabel('Node ID')\n",
    "plt.ylabel('#Messages')"
   ]
  },
  {
   "cell_type": "code",
   "execution_count": 4,
   "metadata": {},
   "outputs": [
    {
     "data": {
      "text/plain": [
       "<AxesSubplot:>"
      ]
     },
     "execution_count": 4,
     "metadata": {},
     "output_type": "execute_result"
    },
    {
     "data": {
      "image/png": "[encoded data removed]",
      "text/plain": [
       "<Figure size 432x288 with 1 Axes>"
      ]
     },
     "metadata": {
      "needs_background": "light"
     },
     "output_type": "display_data"
    }
   ],
   "source": [
    "msg_df['msg_type'].value_counts().plot(kind='bar')"
   ]
  },
  {
   "cell_type": "code",
   "execution_count": 5,
   "metadata": {},
   "outputs": [
    {
     "data": {
      "text/plain": [
       "Text(0, 0.5, '#Messages')"
      ]
     },
     "execution_count": 5,
     "metadata": {},
     "output_type": "execute_result"
    },
    {
     "data": {
      "image/png": "[encoded data removed]",
      "text/plain": [
       "<Figure size 432x288 with 1 Axes>"
      ]
     },
     "metadata": {
      "needs_background": "light"
     },
     "output_type": "display_data"
    }
   ],
   "source": [
    "import numpy as np\n",
    "import math\n",
    "import hashlib\n",
    "\n",
    "df2 = msg_df.dropna()\n",
    "regs = df2[df2['msg_type'] == 'REGTOPIC/v5']['key'].value_counts().to_dict()\n",
    "#regs = {int(k):int(v) for k,v in sent.items()} #convert IDs to int\n",
    "queries = df2[df2['msg_type'] == 'TOPICQUERY/v5']['key'].value_counts().to_dict()\n",
    "#received = {int(k):int(v) for k,v in received.items()} #convert IDs to int\n",
    "\n",
    "width =0.3\n",
    "plt.bar(regs.keys(), regs.values(), width=width, label = 'Registrations')\n",
    "plt.bar([x + width for x in queries.keys()], queries.values(), width=width, label = 'Queries')\n",
    "plt.legend()\n",
    "plt.title('Messages exchanged')\n",
    "plt.xlabel('Topic')\n",
    "plt.ylabel('#Messages')\n",
    "\n"
   ]
  }
 ],
 "metadata": {
  "kernelspec": {
   "display_name": "Python 3.10.4 64-bit",
   "language": "python",
   "name": "python3"
  },
  "language_info": {
   "codemirror_mode": {
    "name": "ipython",
    "version": 3
   },
   "file_extension": ".py",
   "mimetype": "text/x-python",
   "name": "python",
   "nbconvert_exporter": "python",
   "pygments_lexer": "ipython3",
   "version": "3.10.6"
  },
  "orig_nbformat": 4,
  "vscode": {
   "interpreter": {
    "hash": "916dbcbb3f70747c44a77c7bcd40155683ae19c65e1c03b4aa3499c5328201f1"
   }
  }
 },
 "nbformat": 4,
 "nbformat_minor": 2
}
