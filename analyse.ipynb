{
 "cells": [
  {
   "cell_type": "code",
   "execution_count": 189,
   "metadata": {},
   "outputs": [
    {
     "name": "stdout",
     "output_type": "stream",
     "text": [
      "opid: 101 req\n",
      "opid: 102 req\n",
      "opid: 103 req\n",
      "opid: 104 req\n",
      "opid: 105 req\n",
      "opid: 106 req\n"
     ]
    },
    {
     "data": {
      "text/html": [
       "<div>\n",
       "<style scoped>\n",
       "    .dataframe tbody tr th:only-of-type {\n",
       "        vertical-align: middle;\n",
       "    }\n",
       "\n",
       "    .dataframe tbody tr th {\n",
       "        vertical-align: top;\n",
       "    }\n",
       "\n",
       "    .dataframe thead th {\n",
       "        text-align: right;\n",
       "    }\n",
       "</style>\n",
       "<table border=\"1\" class=\"dataframe\">\n",
       "  <thead>\n",
       "    <tr style=\"text-align: right;\">\n",
       "      <th></th>\n",
       "      <th>opid</th>\n",
       "      <th>method</th>\n",
       "      <th>reply_received</th>\n",
       "      <th>params</th>\n",
       "      <th>start_time</th>\n",
       "      <th>result</th>\n",
       "      <th>end_time</th>\n",
       "      <th>time</th>\n",
       "    </tr>\n",
       "  </thead>\n",
       "  <tbody>\n",
       "    <tr>\n",
       "      <th>0</th>\n",
       "      <td>101</td>\n",
       "      <td>discv5_registerTopic</td>\n",
       "      <td>False</td>\n",
       "      <td>[0x628b49d96dcde97a430dd4f597705899e09a968f793...</td>\n",
       "      <td>1665653953434</td>\n",
       "      <td>NaN</td>\n",
       "      <td>NaN</td>\n",
       "      <td>NaN</td>\n",
       "    </tr>\n",
       "    <tr>\n",
       "      <th>1</th>\n",
       "      <td>102</td>\n",
       "      <td>discv5_registerTopic</td>\n",
       "      <td>False</td>\n",
       "      <td>[0x628b49d96dcde97a430dd4f597705899e09a968f793...</td>\n",
       "      <td>1665653953530</td>\n",
       "      <td>NaN</td>\n",
       "      <td>NaN</td>\n",
       "      <td>NaN</td>\n",
       "    </tr>\n",
       "    <tr>\n",
       "      <th>2</th>\n",
       "      <td>103</td>\n",
       "      <td>discv5_registerTopic</td>\n",
       "      <td>False</td>\n",
       "      <td>[0x628b49d96dcde97a430dd4f597705899e09a968f793...</td>\n",
       "      <td>1665653953642</td>\n",
       "      <td>NaN</td>\n",
       "      <td>NaN</td>\n",
       "      <td>NaN</td>\n",
       "    </tr>\n",
       "    <tr>\n",
       "      <th>3</th>\n",
       "      <td>104</td>\n",
       "      <td>discv5_topicSearch</td>\n",
       "      <td>True</td>\n",
       "      <td>[0x628b49d96dcde97a430dd4f597705899e09a968f793...</td>\n",
       "      <td>1665653963655</td>\n",
       "      <td>[480f6ff3428c87081bc0720bd21ad93521610543de3a8...</td>\n",
       "      <td>1.665654e+12</td>\n",
       "      <td>22.0</td>\n",
       "    </tr>\n",
       "    <tr>\n",
       "      <th>4</th>\n",
       "      <td>105</td>\n",
       "      <td>discv5_topicSearch</td>\n",
       "      <td>True</td>\n",
       "      <td>[0x628b49d96dcde97a430dd4f597705899e09a968f793...</td>\n",
       "      <td>1665653963657</td>\n",
       "      <td>[277533ea2e875fa773c60be4db08413bfb2eefb01c390...</td>\n",
       "      <td>1.665654e+12</td>\n",
       "      <td>22.0</td>\n",
       "    </tr>\n",
       "    <tr>\n",
       "      <th>5</th>\n",
       "      <td>106</td>\n",
       "      <td>discv5_topicSearch</td>\n",
       "      <td>True</td>\n",
       "      <td>[0x628b49d96dcde97a430dd4f597705899e09a968f793...</td>\n",
       "      <td>1665653963658</td>\n",
       "      <td>[480f6ff3428c87081bc0720bd21ad93521610543de3a8...</td>\n",
       "      <td>1.665654e+12</td>\n",
       "      <td>21.0</td>\n",
       "    </tr>\n",
       "  </tbody>\n",
       "</table>\n",
       "</div>"
      ],
      "text/plain": [
       "   opid                method  reply_received  \\\n",
       "0   101  discv5_registerTopic           False   \n",
       "1   102  discv5_registerTopic           False   \n",
       "2   103  discv5_registerTopic           False   \n",
       "3   104    discv5_topicSearch            True   \n",
       "4   105    discv5_topicSearch            True   \n",
       "5   106    discv5_topicSearch            True   \n",
       "\n",
       "                                              params     start_time  \\\n",
       "0  [0x628b49d96dcde97a430dd4f597705899e09a968f793...  1665653953434   \n",
       "1  [0x628b49d96dcde97a430dd4f597705899e09a968f793...  1665653953530   \n",
       "2  [0x628b49d96dcde97a430dd4f597705899e09a968f793...  1665653953642   \n",
       "3  [0x628b49d96dcde97a430dd4f597705899e09a968f793...  1665653963655   \n",
       "4  [0x628b49d96dcde97a430dd4f597705899e09a968f793...  1665653963657   \n",
       "5  [0x628b49d96dcde97a430dd4f597705899e09a968f793...  1665653963658   \n",
       "\n",
       "                                              result      end_time  time  \n",
       "0                                                NaN           NaN   NaN  \n",
       "1                                                NaN           NaN   NaN  \n",
       "2                                                NaN           NaN   NaN  \n",
       "3  [480f6ff3428c87081bc0720bd21ad93521610543de3a8...  1.665654e+12  22.0  \n",
       "4  [277533ea2e875fa773c60be4db08413bfb2eefb01c390...  1.665654e+12  22.0  \n",
       "5  [480f6ff3428c87081bc0720bd21ad93521610543de3a8...  1.665654e+12  21.0  "
      ]
     },
     "execution_count": 189,
     "metadata": {},
     "output_type": "execute_result"
    }
   ],
   "source": [
    "from analyse_logs import *\n",
    "\n",
    "op_df = get_op_df(log_path)\n",
    "op_df\n"
   ]
  },
  {
   "cell_type": "code",
   "execution_count": 190,
   "metadata": {},
   "outputs": [
    {
     "data": {
      "text/plain": [
       "<AxesSubplot:title={'center':'Operation returned'}, ylabel='reply_received'>"
      ]
     },
     "execution_count": 190,
     "metadata": {},
     "output_type": "execute_result"
    },
    {
     "data": {
      "image/png": "[encoded data removed]",
      "text/plain": [
       "<Figure size 432x288 with 1 Axes>"
      ]
     },
     "metadata": {},
     "output_type": "display_data"
    }
   ],
   "source": [
    "op_df['reply_received'].value_counts().plot(kind = 'pie', autopct='%1.0f%%', legend=True, title='Operation returned')"
   ]
  },
  {
   "cell_type": "code",
   "execution_count": 191,
   "metadata": {},
   "outputs": [
    {
     "data": {
      "text/plain": [
       "<AxesSubplot:xlabel='method', ylabel='time'>"
      ]
     },
     "execution_count": 191,
     "metadata": {},
     "output_type": "execute_result"
    },
    {
     "data": {
      "image/png": "[encoded data removed]",
      "text/plain": [
       "<Figure size 432x288 with 1 Axes>"
      ]
     },
     "metadata": {
      "needs_background": "light"
     },
     "output_type": "display_data"
    }
   ],
   "source": [
    "import matplotlib.pyplot as plt\n",
    "import seaborn as sns\n",
    "\n",
    "fig, axes = plt.subplots()\n",
    "df = op_df[~op_df['time'].isna()]\n",
    "df\n",
    "sns.violinplot(x='method',y='time', data=df, ax = axes, cut=0)\n",
    "#axes.set_title('Day Ahead Market')"
   ]
  },
  {
   "cell_type": "code",
   "execution_count": 192,
   "metadata": {},
   "outputs": [
    {
     "name": "stdout",
     "output_type": "stream",
     "text": [
      "Reading node-9.log\n",
      "Reading node-1.log\n",
      "Reading node-7.log\n",
      "Reading node-3.log\n",
      "Reading node-6.log\n",
      "Reading node-4.log\n",
      "Reading node-8.log\n",
      "Reading node-10.log\n",
      "Reading node-5.log\n",
      "Reading node-2.log\n"
     ]
    },
    {
     "data": {
      "text/html": [
       "<div>\n",
       "<style scoped>\n",
       "    .dataframe tbody tr th:only-of-type {\n",
       "        vertical-align: middle;\n",
       "    }\n",
       "\n",
       "    .dataframe tbody tr th {\n",
       "        vertical-align: top;\n",
       "    }\n",
       "\n",
       "    .dataframe thead th {\n",
       "        text-align: right;\n",
       "    }\n",
       "</style>\n",
       "<table border=\"1\" class=\"dataframe\">\n",
       "  <thead>\n",
       "    <tr style=\"text-align: right;\">\n",
       "      <th></th>\n",
       "      <th>node_id</th>\n",
       "      <th>peer_id</th>\n",
       "      <th>in_out</th>\n",
       "      <th>timestamp</th>\n",
       "      <th>msg_type</th>\n",
       "      <th>req_id</th>\n",
       "      <th>key</th>\n",
       "      <th>opid</th>\n",
       "    </tr>\n",
       "  </thead>\n",
       "  <tbody>\n",
       "    <tr>\n",
       "      <th>0</th>\n",
       "      <td>9</td>\n",
       "      <td>1</td>\n",
       "      <td>out</td>\n",
       "      <td>2022-10-13 10:39:10.491216+01:00</td>\n",
       "      <td>FINDNODE/v5</td>\n",
       "      <td>0xa8a76aa1df0dea2d</td>\n",
       "      <td>NaN</td>\n",
       "      <td>NaN</td>\n",
       "    </tr>\n",
       "    <tr>\n",
       "      <th>1</th>\n",
       "      <td>9</td>\n",
       "      <td>1</td>\n",
       "      <td>in</td>\n",
       "      <td>2022-10-13 10:39:10.491289+01:00</td>\n",
       "      <td>WHOAREYOU/v5</td>\n",
       "      <td>NaN</td>\n",
       "      <td>NaN</td>\n",
       "      <td>NaN</td>\n",
       "    </tr>\n",
       "    <tr>\n",
       "      <th>2</th>\n",
       "      <td>9</td>\n",
       "      <td>1</td>\n",
       "      <td>out</td>\n",
       "      <td>2022-10-13 10:39:10.491649+01:00</td>\n",
       "      <td>FINDNODE/v5</td>\n",
       "      <td>0xa8a76aa1df0dea2d</td>\n",
       "      <td>NaN</td>\n",
       "      <td>NaN</td>\n",
       "    </tr>\n",
       "    <tr>\n",
       "      <th>3</th>\n",
       "      <td>9</td>\n",
       "      <td>1</td>\n",
       "      <td>in</td>\n",
       "      <td>2022-10-13 10:39:10.492038+01:00</td>\n",
       "      <td>NODES/v5</td>\n",
       "      <td>0xa8a76aa1df0dea2d</td>\n",
       "      <td>NaN</td>\n",
       "      <td>NaN</td>\n",
       "    </tr>\n",
       "    <tr>\n",
       "      <th>4</th>\n",
       "      <td>9</td>\n",
       "      <td>1</td>\n",
       "      <td>in</td>\n",
       "      <td>2022-10-13 10:39:10.492093+01:00</td>\n",
       "      <td>NODES/v5</td>\n",
       "      <td>0xa8a76aa1df0dea2d</td>\n",
       "      <td>NaN</td>\n",
       "      <td>NaN</td>\n",
       "    </tr>\n",
       "    <tr>\n",
       "      <th>...</th>\n",
       "      <td>...</td>\n",
       "      <td>...</td>\n",
       "      <td>...</td>\n",
       "      <td>...</td>\n",
       "      <td>...</td>\n",
       "      <td>...</td>\n",
       "      <td>...</td>\n",
       "      <td>...</td>\n",
       "    </tr>\n",
       "    <tr>\n",
       "      <th>4470</th>\n",
       "      <td>2</td>\n",
       "      <td>4</td>\n",
       "      <td>in</td>\n",
       "      <td>2022-10-13 10:39:45.783229+01:00</td>\n",
       "      <td>NODES/v5</td>\n",
       "      <td>0xade5c06b4bf77cce</td>\n",
       "      <td>NaN</td>\n",
       "      <td>NaN</td>\n",
       "    </tr>\n",
       "    <tr>\n",
       "      <th>4471</th>\n",
       "      <td>2</td>\n",
       "      <td>4</td>\n",
       "      <td>in</td>\n",
       "      <td>2022-10-13 10:39:45.783315+01:00</td>\n",
       "      <td>NODES/v5</td>\n",
       "      <td>0xade5c06b4bf77cce</td>\n",
       "      <td>NaN</td>\n",
       "      <td>NaN</td>\n",
       "    </tr>\n",
       "    <tr>\n",
       "      <th>4472</th>\n",
       "      <td>2</td>\n",
       "      <td>9</td>\n",
       "      <td>in</td>\n",
       "      <td>2022-10-13 10:39:45.783442+01:00</td>\n",
       "      <td>NODES/v5</td>\n",
       "      <td>0x2f7ea09b69cb2422</td>\n",
       "      <td>NaN</td>\n",
       "      <td>NaN</td>\n",
       "    </tr>\n",
       "    <tr>\n",
       "      <th>4473</th>\n",
       "      <td>2</td>\n",
       "      <td>9</td>\n",
       "      <td>in</td>\n",
       "      <td>2022-10-13 10:39:45.783556+01:00</td>\n",
       "      <td>NODES/v5</td>\n",
       "      <td>0x2f7ea09b69cb2422</td>\n",
       "      <td>NaN</td>\n",
       "      <td>NaN</td>\n",
       "    </tr>\n",
       "    <tr>\n",
       "      <th>4474</th>\n",
       "      <td>2</td>\n",
       "      <td>9</td>\n",
       "      <td>in</td>\n",
       "      <td>2022-10-13 10:39:45.783650+01:00</td>\n",
       "      <td>NODES/v5</td>\n",
       "      <td>0x2f7ea09b69cb2422</td>\n",
       "      <td>NaN</td>\n",
       "      <td>NaN</td>\n",
       "    </tr>\n",
       "  </tbody>\n",
       "</table>\n",
       "<p>4475 rows × 8 columns</p>\n",
       "</div>"
      ],
      "text/plain": [
       "     node_id  peer_id in_out                        timestamp      msg_type  \\\n",
       "0          9        1    out 2022-10-13 10:39:10.491216+01:00   FINDNODE/v5   \n",
       "1          9        1     in 2022-10-13 10:39:10.491289+01:00  WHOAREYOU/v5   \n",
       "2          9        1    out 2022-10-13 10:39:10.491649+01:00   FINDNODE/v5   \n",
       "3          9        1     in 2022-10-13 10:39:10.492038+01:00      NODES/v5   \n",
       "4          9        1     in 2022-10-13 10:39:10.492093+01:00      NODES/v5   \n",
       "...      ...      ...    ...                              ...           ...   \n",
       "4470       2        4     in 2022-10-13 10:39:45.783229+01:00      NODES/v5   \n",
       "4471       2        4     in 2022-10-13 10:39:45.783315+01:00      NODES/v5   \n",
       "4472       2        9     in 2022-10-13 10:39:45.783442+01:00      NODES/v5   \n",
       "4473       2        9     in 2022-10-13 10:39:45.783556+01:00      NODES/v5   \n",
       "4474       2        9     in 2022-10-13 10:39:45.783650+01:00      NODES/v5   \n",
       "\n",
       "                  req_id  key  opid  \n",
       "0     0xa8a76aa1df0dea2d  NaN   NaN  \n",
       "1                    NaN  NaN   NaN  \n",
       "2     0xa8a76aa1df0dea2d  NaN   NaN  \n",
       "3     0xa8a76aa1df0dea2d  NaN   NaN  \n",
       "4     0xa8a76aa1df0dea2d  NaN   NaN  \n",
       "...                  ...  ...   ...  \n",
       "4470  0xade5c06b4bf77cce  NaN   NaN  \n",
       "4471  0xade5c06b4bf77cce  NaN   NaN  \n",
       "4472  0x2f7ea09b69cb2422  NaN   NaN  \n",
       "4473  0x2f7ea09b69cb2422  NaN   NaN  \n",
       "4474  0x2f7ea09b69cb2422  NaN   NaN  \n",
       "\n",
       "[4475 rows x 8 columns]"
      ]
     },
     "execution_count": 192,
     "metadata": {},
     "output_type": "execute_result"
    }
   ],
   "source": [
    "from analyse_logs import *\n",
    "\n",
    "msg_df = get_msg_df(log_path)\n",
    "msg_df"
   ]
  },
  {
   "cell_type": "code",
   "execution_count": 193,
   "metadata": {},
   "outputs": [
    {
     "data": {
      "text/html": [
       "<div>\n",
       "<style scoped>\n",
       "    .dataframe tbody tr th:only-of-type {\n",
       "        vertical-align: middle;\n",
       "    }\n",
       "\n",
       "    .dataframe tbody tr th {\n",
       "        vertical-align: top;\n",
       "    }\n",
       "\n",
       "    .dataframe thead th {\n",
       "        text-align: right;\n",
       "    }\n",
       "</style>\n",
       "<table border=\"1\" class=\"dataframe\">\n",
       "  <thead>\n",
       "    <tr style=\"text-align: right;\">\n",
       "      <th></th>\n",
       "      <th>node_id</th>\n",
       "      <th>peer_id</th>\n",
       "      <th>in_out</th>\n",
       "      <th>timestamp</th>\n",
       "      <th>msg_type</th>\n",
       "      <th>req_id</th>\n",
       "      <th>key</th>\n",
       "      <th>opid</th>\n",
       "      <th>op_type</th>\n",
       "    </tr>\n",
       "  </thead>\n",
       "  <tbody>\n",
       "    <tr>\n",
       "      <th>105</th>\n",
       "      <td>9</td>\n",
       "      <td>1</td>\n",
       "      <td>in</td>\n",
       "      <td>2022-10-13 10:39:13.540506+01:00</td>\n",
       "      <td>FINDNODE/v5</td>\n",
       "      <td>0x3f34bad036752570</td>\n",
       "      <td>NaN</td>\n",
       "      <td>102.0</td>\n",
       "      <td>discv5_registerTopic</td>\n",
       "    </tr>\n",
       "    <tr>\n",
       "      <th>106</th>\n",
       "      <td>9</td>\n",
       "      <td>1</td>\n",
       "      <td>out</td>\n",
       "      <td>2022-10-13 10:39:13.540681+01:00</td>\n",
       "      <td>NODES/v5</td>\n",
       "      <td>0x3f34bad036752570</td>\n",
       "      <td>NaN</td>\n",
       "      <td>102.0</td>\n",
       "      <td>discv5_registerTopic</td>\n",
       "    </tr>\n",
       "    <tr>\n",
       "      <th>107</th>\n",
       "      <td>9</td>\n",
       "      <td>1</td>\n",
       "      <td>out</td>\n",
       "      <td>2022-10-13 10:39:13.540784+01:00</td>\n",
       "      <td>NODES/v5</td>\n",
       "      <td>0x3f34bad036752570</td>\n",
       "      <td>NaN</td>\n",
       "      <td>102.0</td>\n",
       "      <td>discv5_registerTopic</td>\n",
       "    </tr>\n",
       "    <tr>\n",
       "      <th>108</th>\n",
       "      <td>9</td>\n",
       "      <td>1</td>\n",
       "      <td>out</td>\n",
       "      <td>2022-10-13 10:39:13.540871+01:00</td>\n",
       "      <td>NODES/v5</td>\n",
       "      <td>0x3f34bad036752570</td>\n",
       "      <td>NaN</td>\n",
       "      <td>102.0</td>\n",
       "      <td>discv5_registerTopic</td>\n",
       "    </tr>\n",
       "    <tr>\n",
       "      <th>109</th>\n",
       "      <td>9</td>\n",
       "      <td>1</td>\n",
       "      <td>in</td>\n",
       "      <td>2022-10-13 10:39:13.547102+01:00</td>\n",
       "      <td>REGTOPIC/v5</td>\n",
       "      <td>0x147e3a18f6f997c8</td>\n",
       "      <td>1.0</td>\n",
       "      <td>102.0</td>\n",
       "      <td>discv5_registerTopic</td>\n",
       "    </tr>\n",
       "    <tr>\n",
       "      <th>...</th>\n",
       "      <td>...</td>\n",
       "      <td>...</td>\n",
       "      <td>...</td>\n",
       "      <td>...</td>\n",
       "      <td>...</td>\n",
       "      <td>...</td>\n",
       "      <td>...</td>\n",
       "      <td>...</td>\n",
       "      <td>...</td>\n",
       "    </tr>\n",
       "    <tr>\n",
       "      <th>4470</th>\n",
       "      <td>2</td>\n",
       "      <td>4</td>\n",
       "      <td>in</td>\n",
       "      <td>2022-10-13 10:39:45.783229+01:00</td>\n",
       "      <td>NODES/v5</td>\n",
       "      <td>0xade5c06b4bf77cce</td>\n",
       "      <td>NaN</td>\n",
       "      <td>103.0</td>\n",
       "      <td>discv5_registerTopic</td>\n",
       "    </tr>\n",
       "    <tr>\n",
       "      <th>4471</th>\n",
       "      <td>2</td>\n",
       "      <td>4</td>\n",
       "      <td>in</td>\n",
       "      <td>2022-10-13 10:39:45.783315+01:00</td>\n",
       "      <td>NODES/v5</td>\n",
       "      <td>0xade5c06b4bf77cce</td>\n",
       "      <td>NaN</td>\n",
       "      <td>103.0</td>\n",
       "      <td>discv5_registerTopic</td>\n",
       "    </tr>\n",
       "    <tr>\n",
       "      <th>4472</th>\n",
       "      <td>2</td>\n",
       "      <td>9</td>\n",
       "      <td>in</td>\n",
       "      <td>2022-10-13 10:39:45.783442+01:00</td>\n",
       "      <td>NODES/v5</td>\n",
       "      <td>0x2f7ea09b69cb2422</td>\n",
       "      <td>NaN</td>\n",
       "      <td>103.0</td>\n",
       "      <td>discv5_registerTopic</td>\n",
       "    </tr>\n",
       "    <tr>\n",
       "      <th>4473</th>\n",
       "      <td>2</td>\n",
       "      <td>9</td>\n",
       "      <td>in</td>\n",
       "      <td>2022-10-13 10:39:45.783556+01:00</td>\n",
       "      <td>NODES/v5</td>\n",
       "      <td>0x2f7ea09b69cb2422</td>\n",
       "      <td>NaN</td>\n",
       "      <td>103.0</td>\n",
       "      <td>discv5_registerTopic</td>\n",
       "    </tr>\n",
       "    <tr>\n",
       "      <th>4474</th>\n",
       "      <td>2</td>\n",
       "      <td>9</td>\n",
       "      <td>in</td>\n",
       "      <td>2022-10-13 10:39:45.783650+01:00</td>\n",
       "      <td>NODES/v5</td>\n",
       "      <td>0x2f7ea09b69cb2422</td>\n",
       "      <td>NaN</td>\n",
       "      <td>103.0</td>\n",
       "      <td>discv5_registerTopic</td>\n",
       "    </tr>\n",
       "  </tbody>\n",
       "</table>\n",
       "<p>3065 rows × 9 columns</p>\n",
       "</div>"
      ],
      "text/plain": [
       "     node_id  peer_id in_out                        timestamp     msg_type  \\\n",
       "105        9        1     in 2022-10-13 10:39:13.540506+01:00  FINDNODE/v5   \n",
       "106        9        1    out 2022-10-13 10:39:13.540681+01:00     NODES/v5   \n",
       "107        9        1    out 2022-10-13 10:39:13.540784+01:00     NODES/v5   \n",
       "108        9        1    out 2022-10-13 10:39:13.540871+01:00     NODES/v5   \n",
       "109        9        1     in 2022-10-13 10:39:13.547102+01:00  REGTOPIC/v5   \n",
       "...      ...      ...    ...                              ...          ...   \n",
       "4470       2        4     in 2022-10-13 10:39:45.783229+01:00     NODES/v5   \n",
       "4471       2        4     in 2022-10-13 10:39:45.783315+01:00     NODES/v5   \n",
       "4472       2        9     in 2022-10-13 10:39:45.783442+01:00     NODES/v5   \n",
       "4473       2        9     in 2022-10-13 10:39:45.783556+01:00     NODES/v5   \n",
       "4474       2        9     in 2022-10-13 10:39:45.783650+01:00     NODES/v5   \n",
       "\n",
       "                  req_id  key   opid               op_type  \n",
       "105   0x3f34bad036752570  NaN  102.0  discv5_registerTopic  \n",
       "106   0x3f34bad036752570  NaN  102.0  discv5_registerTopic  \n",
       "107   0x3f34bad036752570  NaN  102.0  discv5_registerTopic  \n",
       "108   0x3f34bad036752570  NaN  102.0  discv5_registerTopic  \n",
       "109   0x147e3a18f6f997c8  1.0  102.0  discv5_registerTopic  \n",
       "...                  ...  ...    ...                   ...  \n",
       "4470  0xade5c06b4bf77cce  NaN  103.0  discv5_registerTopic  \n",
       "4471  0xade5c06b4bf77cce  NaN  103.0  discv5_registerTopic  \n",
       "4472  0x2f7ea09b69cb2422  NaN  103.0  discv5_registerTopic  \n",
       "4473  0x2f7ea09b69cb2422  NaN  103.0  discv5_registerTopic  \n",
       "4474  0x2f7ea09b69cb2422  NaN  103.0  discv5_registerTopic  \n",
       "\n",
       "[3065 rows x 9 columns]"
      ]
     },
     "execution_count": 193,
     "metadata": {},
     "output_type": "execute_result"
    }
   ],
   "source": [
    "#set the missing opids and op_types to all the messages being part of operations\n",
    "for opid in set([i for i in op_df['opid']]):\n",
    "    op_type = op_df.loc[op_df['opid'] == opid, 'method'].values[0]\n",
    "    for req_id in set([i for i in msg_df[msg_df['opid'] == opid]['req_id']]):\n",
    "        msg_df.loc[msg_df[\"req_id\"] == req_id, \"opid\"] = opid\n",
    "        msg_df.loc[msg_df['req_id'] == req_id, 'op_type'] = op_type\n",
    "\n",
    "msg_df = msg_df.dropna(subset=['opid'])\n",
    "msg_df"
   ]
  },
  {
   "cell_type": "code",
   "execution_count": 194,
   "metadata": {},
   "outputs": [
    {
     "name": "stdout",
     "output_type": "stream",
     "text": [
      "discv5_registerTopic\n",
      "\t discv5_registerTopic\n",
      "\t\t FINDNODE/v5 270\n",
      "\t\t NODES/v5 538\n",
      "\t\t REGCONFIRMATION/v5 18\n",
      "\t\t REGTOPIC/v5 18\n",
      "\t discv5_registerTopic\n",
      "\t\t FINDNODE/v5 306\n",
      "\t\t NODES/v5 668\n",
      "\t\t REGCONFIRMATION/v5 18\n",
      "\t\t REGTOPIC/v5 18\n",
      "\t discv5_registerTopic\n",
      "\t\t FINDNODE/v5 306\n",
      "\t\t NODES/v5 670\n",
      "\t\t REGCONFIRMATION/v5 18\n",
      "\t\t REGTOPIC/v5 18\n",
      "discv5_topicSearch\n",
      "\t discv5_topicSearch\n",
      "\t\t FINDNODE/v5 18\n",
      "\t\t NODES/v5 42\n",
      "\t\t TOPICQUERY/v5 4\n",
      "\t discv5_topicSearch\n",
      "\t\t FINDNODE/v5 18\n",
      "\t\t NODES/v5 42\n",
      "\t\t TOPICQUERY/v5 4\n",
      "\t discv5_topicSearch\n",
      "\t\t FINDNODE/v5 21\n",
      "\t\t NODES/v5 46\n",
      "\t\t TOPICQUERY/v5 4\n"
     ]
    },
    {
     "data": {
      "image/png": "[encoded data removed]",
      "text/plain": [
       "<Figure size 432x288 with 1 Axes>"
      ]
     },
     "metadata": {
      "needs_background": "light"
     },
     "output_type": "display_data"
    },
    {
     "data": {
      "image/png": "[encoded data removed]",
      "text/plain": [
       "<Figure size 432x288 with 1 Axes>"
      ]
     },
     "metadata": {
      "needs_background": "light"
     },
     "output_type": "display_data"
    }
   ],
   "source": [
    "from matplotlib.lines import Line2D\n",
    "\n",
    "colors = ['red', 'green', 'blue', 'yellow']\n",
    "for op_type, group_op_type in msg_df.groupby('op_type'):\n",
    "    #if(op_type != 'discv5_registerTopic'):\n",
    "        #continue\n",
    "    print(op_type)\n",
    "    fig, ax = plt.subplots()\n",
    "    legend_elements = []\n",
    "    added = set()\n",
    "    for opid, group_opid in group_op_type.groupby('opid'):\n",
    "        print(\"\\t\", op_type)\n",
    "        i = 0\n",
    "        sum = 0\n",
    "        for msg_type, group_msg_type in group_opid.groupby('msg_type'):\n",
    "            val = len(group_msg_type)\n",
    "            ax.bar(opid, val, color=colors[i], bottom = sum)\n",
    "            sum += val\n",
    "            print(\"\\t\\t\", msg_type, len(group_msg_type))\n",
    "            if(msg_type not in added):\n",
    "                added.add(msg_type)\n",
    "                legend_elements.append(Line2D([0], [0], color=colors[i], lw=4, label=msg_type))\n",
    "            i += 1\n",
    "    ax.legend(handles=legend_elements)\n",
    "    ax.set_title(op_type)\n",
    "plt.show()"
   ]
  },
  {
   "cell_type": "code",
   "execution_count": 195,
   "metadata": {},
   "outputs": [
    {
     "data": {
      "text/plain": [
       "<AxesSubplot:title={'center':'Msgs sent/received'}, ylabel='in_out'>"
      ]
     },
     "execution_count": 195,
     "metadata": {},
     "output_type": "execute_result"
    },
    {
     "data": {
      "image/png": "[encoded data removed]",
      "text/plain": [
       "<Figure size 432x288 with 1 Axes>"
      ]
     },
     "metadata": {},
     "output_type": "display_data"
    }
   ],
   "source": [
    "msg_df['in_out'].value_counts().plot(kind='pie', autopct='%1.0f%%', legend=True, title='Msgs sent/received')"
   ]
  },
  {
   "cell_type": "code",
   "execution_count": 196,
   "metadata": {},
   "outputs": [
    {
     "data": {
      "text/plain": [
       "Text(0, 0.5, '#Messages')"
      ]
     },
     "execution_count": 196,
     "metadata": {},
     "output_type": "execute_result"
    },
    {
     "data": {
      "image/png": "[encoded data removed]",
      "text/plain": [
       "<Figure size 432x288 with 1 Axes>"
      ]
     },
     "metadata": {
      "needs_background": "light"
     },
     "output_type": "display_data"
    }
   ],
   "source": [
    "import matplotlib.pyplot as plt\n",
    "\n",
    "sent = msg_df[msg_df['in_out'] == 'out']['node_id'].value_counts().to_dict()\n",
    "sent = {int(k):int(v) for k,v in sent.items()} #convert IDs to int\n",
    "received = msg_df[msg_df['in_out'] == 'in']['node_id'].value_counts().to_dict()\n",
    "received = {int(k):int(v) for k,v in received.items()} #convert IDs to int\n",
    "\n",
    "width =0.3\n",
    "plt.bar(sent.keys(), sent.values(), width=width, label = 'sent')\n",
    "plt.bar([x + width for x in received.keys()], received.values(), width=width, label = 'received')\n",
    "plt.legend()\n",
    "plt.title('Messages exchanged')\n",
    "plt.xlabel('Node ID')\n",
    "plt.ylabel('#Messages')"
   ]
  },
  {
   "cell_type": "code",
   "execution_count": 197,
   "metadata": {},
   "outputs": [
    {
     "data": {
      "text/plain": [
       "<AxesSubplot:xlabel='in_out', ylabel='count'>"
      ]
     },
     "execution_count": 197,
     "metadata": {},
     "output_type": "execute_result"
    },
    {
     "data": {
      "image/png": "[encoded data removed]",
      "text/plain": [
       "<Figure size 432x288 with 1 Axes>"
      ]
     },
     "metadata": {
      "needs_background": "light"
     },
     "output_type": "display_data"
    }
   ],
   "source": [
    "import matplotlib.pyplot as plt\n",
    "import seaborn as sns\n",
    "\n",
    "fig, axes = plt.subplots()\n",
    "df_in = msg_df[msg_df['in_out']=='in']['node_id'].value_counts().rename_axis('node_id').reset_index(name='count')\n",
    "df_in['in_out'] = 'in'\n",
    "df_out = msg_df[msg_df['in_out']=='out']['node_id'].value_counts().rename_axis('node_id').reset_index(name='count')\n",
    "df_out['in_out'] = 'out'\n",
    "\n",
    "df = pd.concat([df_in, df_out], axis=0)\n",
    "sns.violinplot(x='in_out', y='count', data=df, ax = axes, cut=0)"
   ]
  },
  {
   "cell_type": "code",
   "execution_count": 198,
   "metadata": {},
   "outputs": [
    {
     "data": {
      "text/plain": [
       "<AxesSubplot:>"
      ]
     },
     "execution_count": 198,
     "metadata": {},
     "output_type": "execute_result"
    },
    {
     "data": {
      "image/png": "[encoded data removed]",
      "text/plain": [
       "<Figure size 432x288 with 1 Axes>"
      ]
     },
     "metadata": {
      "needs_background": "light"
     },
     "output_type": "display_data"
    }
   ],
   "source": [
    "msg_df['msg_type'].value_counts().plot(kind='bar')"
   ]
  },
  {
   "cell_type": "code",
   "execution_count": 199,
   "metadata": {},
   "outputs": [
    {
     "data": {
      "text/plain": [
       "Text(0, 0.5, '#Messages')"
      ]
     },
     "execution_count": 199,
     "metadata": {},
     "output_type": "execute_result"
    },
    {
     "data": {
      "image/png": "[encoded data removed]",
      "text/plain": [
       "<Figure size 432x288 with 1 Axes>"
      ]
     },
     "metadata": {
      "needs_background": "light"
     },
     "output_type": "display_data"
    }
   ],
   "source": [
    "import numpy as np\n",
    "import math\n",
    "import hashlib\n",
    "\n",
    "df2 = msg_df.dropna()\n",
    "regs = df2[df2['msg_type'] == 'REGTOPIC/v5']['key'].value_counts().to_dict()\n",
    "#regs = {int(k):int(v) for k,v in sent.items()} #convert IDs to int\n",
    "queries = df2[df2['msg_type'] == 'TOPICQUERY/v5']['key'].value_counts().to_dict()\n",
    "#received = {int(k):int(v) for k,v in received.items()} #convert IDs to int\n",
    "\n",
    "width =0.3\n",
    "plt.bar(regs.keys(), regs.values(), width=width, label = 'Registrations')\n",
    "plt.bar([x + width for x in queries.keys()], queries.values(), width=width, label = 'Queries')\n",
    "plt.legend()\n",
    "plt.title('Messages exchanged')\n",
    "plt.xlabel('Topic')\n",
    "plt.ylabel('#Messages')\n",
    "\n"
   ]
  }
 ],
 "metadata": {
  "kernelspec": {
   "display_name": "Python 3.10.4 64-bit",
   "language": "python",
   "name": "python3"
  },
  "language_info": {
   "codemirror_mode": {
    "name": "ipython",
    "version": 3
   },
   "file_extension": ".py",
   "mimetype": "text/x-python",
   "name": "python",
   "nbconvert_exporter": "python",
   "pygments_lexer": "ipython3",
   "version": "3.10.6"
  },
  "orig_nbformat": 4,
  "vscode": {
   "interpreter": {
    "hash": "916dbcbb3f70747c44a77c7bcd40155683ae19c65e1c03b4aa3499c5328201f1"
   }
  }
 },
 "nbformat": 4,
 "nbformat_minor": 2
}
