{
 "cells": [
  {
   "cell_type": "code",
   "execution_count": 1,
   "metadata": {},
   "outputs": [
    {
     "name": "stdout",
     "output_type": "stream",
     "text": [
      "opid: 101 req\n",
      "opid: 102 req\n",
      "opid: 103 req\n",
      "opid: 104 req\n",
      "opid: 105 req\n",
      "opid: 106 req\n"
     ]
    },
    {
     "data": {
      "text/html": [
       "<div>\n",
       "<style scoped>\n",
       "    .dataframe tbody tr th:only-of-type {\n",
       "        vertical-align: middle;\n",
       "    }\n",
       "\n",
       "    .dataframe tbody tr th {\n",
       "        vertical-align: top;\n",
       "    }\n",
       "\n",
       "    .dataframe thead th {\n",
       "        text-align: right;\n",
       "    }\n",
       "</style>\n",
       "<table border=\"1\" class=\"dataframe\">\n",
       "  <thead>\n",
       "    <tr style=\"text-align: right;\">\n",
       "      <th></th>\n",
       "      <th>opid</th>\n",
       "      <th>method</th>\n",
       "      <th>reply_received</th>\n",
       "      <th>params</th>\n",
       "      <th>start_time</th>\n",
       "      <th>result</th>\n",
       "      <th>end_time</th>\n",
       "      <th>time</th>\n",
       "    </tr>\n",
       "  </thead>\n",
       "  <tbody>\n",
       "    <tr>\n",
       "      <th>0</th>\n",
       "      <td>101</td>\n",
       "      <td>discv5_registerTopic</td>\n",
       "      <td>True</td>\n",
       "      <td>[1, 101]</td>\n",
       "      <td>1665737674779</td>\n",
       "      <td>None</td>\n",
       "      <td>1665737674786</td>\n",
       "      <td>7</td>\n",
       "    </tr>\n",
       "    <tr>\n",
       "      <th>1</th>\n",
       "      <td>102</td>\n",
       "      <td>discv5_registerTopic</td>\n",
       "      <td>True</td>\n",
       "      <td>[1, 102]</td>\n",
       "      <td>1665737674861</td>\n",
       "      <td>None</td>\n",
       "      <td>1665737674864</td>\n",
       "      <td>3</td>\n",
       "    </tr>\n",
       "    <tr>\n",
       "      <th>2</th>\n",
       "      <td>103</td>\n",
       "      <td>discv5_registerTopic</td>\n",
       "      <td>True</td>\n",
       "      <td>[1, 103]</td>\n",
       "      <td>1665737674878</td>\n",
       "      <td>None</td>\n",
       "      <td>1665737674881</td>\n",
       "      <td>3</td>\n",
       "    </tr>\n",
       "    <tr>\n",
       "      <th>3</th>\n",
       "      <td>104</td>\n",
       "      <td>discv5_topicSearch</td>\n",
       "      <td>True</td>\n",
       "      <td>[1, 1, 104]</td>\n",
       "      <td>1665737684885</td>\n",
       "      <td>[547fdac6e39965b6468e12d608595bedc3f8b0be07ed9...</td>\n",
       "      <td>1665737696901</td>\n",
       "      <td>12016</td>\n",
       "    </tr>\n",
       "    <tr>\n",
       "      <th>4</th>\n",
       "      <td>105</td>\n",
       "      <td>discv5_topicSearch</td>\n",
       "      <td>True</td>\n",
       "      <td>[1, 1, 105]</td>\n",
       "      <td>1665737684886</td>\n",
       "      <td>[e5f8632191d2ac03ff40d23934739f1a7db1297fdcd47...</td>\n",
       "      <td>1665737684892</td>\n",
       "      <td>6</td>\n",
       "    </tr>\n",
       "    <tr>\n",
       "      <th>5</th>\n",
       "      <td>106</td>\n",
       "      <td>discv5_topicSearch</td>\n",
       "      <td>True</td>\n",
       "      <td>[1, 1, 106]</td>\n",
       "      <td>1665737684886</td>\n",
       "      <td>[547fdac6e39965b6468e12d608595bedc3f8b0be07ed9...</td>\n",
       "      <td>1665737684892</td>\n",
       "      <td>6</td>\n",
       "    </tr>\n",
       "  </tbody>\n",
       "</table>\n",
       "</div>"
      ],
      "text/plain": [
       "   opid                method  reply_received       params     start_time  \\\n",
       "0   101  discv5_registerTopic            True     [1, 101]  1665737674779   \n",
       "1   102  discv5_registerTopic            True     [1, 102]  1665737674861   \n",
       "2   103  discv5_registerTopic            True     [1, 103]  1665737674878   \n",
       "3   104    discv5_topicSearch            True  [1, 1, 104]  1665737684885   \n",
       "4   105    discv5_topicSearch            True  [1, 1, 105]  1665737684886   \n",
       "5   106    discv5_topicSearch            True  [1, 1, 106]  1665737684886   \n",
       "\n",
       "                                              result       end_time   time  \n",
       "0                                               None  1665737674786      7  \n",
       "1                                               None  1665737674864      3  \n",
       "2                                               None  1665737674881      3  \n",
       "3  [547fdac6e39965b6468e12d608595bedc3f8b0be07ed9...  1665737696901  12016  \n",
       "4  [e5f8632191d2ac03ff40d23934739f1a7db1297fdcd47...  1665737684892      6  \n",
       "5  [547fdac6e39965b6468e12d608595bedc3f8b0be07ed9...  1665737684892      6  "
      ]
     },
     "execution_count": 1,
     "metadata": {},
     "output_type": "execute_result"
    }
   ],
   "source": [
    "from analyse_logs import *\n",
    "\n",
    "op_df = get_op_df(log_path)\n",
    "op_df\n"
   ]
  },
  {
   "cell_type": "code",
   "execution_count": 2,
   "metadata": {},
   "outputs": [
    {
     "data": {
      "text/html": [
       "<div>\n",
       "<style scoped>\n",
       "    .dataframe tbody tr th:only-of-type {\n",
       "        vertical-align: middle;\n",
       "    }\n",
       "\n",
       "    .dataframe tbody tr th {\n",
       "        vertical-align: top;\n",
       "    }\n",
       "\n",
       "    .dataframe thead th {\n",
       "        text-align: right;\n",
       "    }\n",
       "</style>\n",
       "<table border=\"1\" class=\"dataframe\">\n",
       "  <thead>\n",
       "    <tr style=\"text-align: right;\">\n",
       "      <th></th>\n",
       "      <th>opid</th>\n",
       "      <th>method</th>\n",
       "      <th>reply_received</th>\n",
       "      <th>params</th>\n",
       "      <th>start_time</th>\n",
       "      <th>result</th>\n",
       "      <th>end_time</th>\n",
       "      <th>time</th>\n",
       "      <th>topic</th>\n",
       "    </tr>\n",
       "  </thead>\n",
       "  <tbody>\n",
       "    <tr>\n",
       "      <th>0</th>\n",
       "      <td>101</td>\n",
       "      <td>discv5_registerTopic</td>\n",
       "      <td>True</td>\n",
       "      <td>[1, 101]</td>\n",
       "      <td>1665737674779</td>\n",
       "      <td>None</td>\n",
       "      <td>1665737674786</td>\n",
       "      <td>7</td>\n",
       "      <td>1.0</td>\n",
       "    </tr>\n",
       "    <tr>\n",
       "      <th>1</th>\n",
       "      <td>102</td>\n",
       "      <td>discv5_registerTopic</td>\n",
       "      <td>True</td>\n",
       "      <td>[1, 102]</td>\n",
       "      <td>1665737674861</td>\n",
       "      <td>None</td>\n",
       "      <td>1665737674864</td>\n",
       "      <td>3</td>\n",
       "      <td>1.0</td>\n",
       "    </tr>\n",
       "    <tr>\n",
       "      <th>2</th>\n",
       "      <td>103</td>\n",
       "      <td>discv5_registerTopic</td>\n",
       "      <td>True</td>\n",
       "      <td>[1, 103]</td>\n",
       "      <td>1665737674878</td>\n",
       "      <td>None</td>\n",
       "      <td>1665737674881</td>\n",
       "      <td>3</td>\n",
       "      <td>1.0</td>\n",
       "    </tr>\n",
       "    <tr>\n",
       "      <th>3</th>\n",
       "      <td>104</td>\n",
       "      <td>discv5_topicSearch</td>\n",
       "      <td>True</td>\n",
       "      <td>[1, 1, 104]</td>\n",
       "      <td>1665737684885</td>\n",
       "      <td>[547fdac6e39965b6468e12d608595bedc3f8b0be07ed9...</td>\n",
       "      <td>1665737696901</td>\n",
       "      <td>12016</td>\n",
       "      <td>1.0</td>\n",
       "    </tr>\n",
       "    <tr>\n",
       "      <th>4</th>\n",
       "      <td>105</td>\n",
       "      <td>discv5_topicSearch</td>\n",
       "      <td>True</td>\n",
       "      <td>[1, 1, 105]</td>\n",
       "      <td>1665737684886</td>\n",
       "      <td>[e5f8632191d2ac03ff40d23934739f1a7db1297fdcd47...</td>\n",
       "      <td>1665737684892</td>\n",
       "      <td>6</td>\n",
       "      <td>1.0</td>\n",
       "    </tr>\n",
       "    <tr>\n",
       "      <th>5</th>\n",
       "      <td>106</td>\n",
       "      <td>discv5_topicSearch</td>\n",
       "      <td>True</td>\n",
       "      <td>[1, 1, 106]</td>\n",
       "      <td>1665737684886</td>\n",
       "      <td>[547fdac6e39965b6468e12d608595bedc3f8b0be07ed9...</td>\n",
       "      <td>1665737684892</td>\n",
       "      <td>6</td>\n",
       "      <td>1.0</td>\n",
       "    </tr>\n",
       "  </tbody>\n",
       "</table>\n",
       "</div>"
      ],
      "text/plain": [
       "   opid                method  reply_received       params     start_time  \\\n",
       "0   101  discv5_registerTopic            True     [1, 101]  1665737674779   \n",
       "1   102  discv5_registerTopic            True     [1, 102]  1665737674861   \n",
       "2   103  discv5_registerTopic            True     [1, 103]  1665737674878   \n",
       "3   104    discv5_topicSearch            True  [1, 1, 104]  1665737684885   \n",
       "4   105    discv5_topicSearch            True  [1, 1, 105]  1665737684886   \n",
       "5   106    discv5_topicSearch            True  [1, 1, 106]  1665737684886   \n",
       "\n",
       "                                              result       end_time   time  \\\n",
       "0                                               None  1665737674786      7   \n",
       "1                                               None  1665737674864      3   \n",
       "2                                               None  1665737674881      3   \n",
       "3  [547fdac6e39965b6468e12d608595bedc3f8b0be07ed9...  1665737696901  12016   \n",
       "4  [e5f8632191d2ac03ff40d23934739f1a7db1297fdcd47...  1665737684892      6   \n",
       "5  [547fdac6e39965b6468e12d608595bedc3f8b0be07ed9...  1665737684892      6   \n",
       "\n",
       "   topic  \n",
       "0    1.0  \n",
       "1    1.0  \n",
       "2    1.0  \n",
       "3    1.0  \n",
       "4    1.0  \n",
       "5    1.0  "
      ]
     },
     "execution_count": 2,
     "metadata": {},
     "output_type": "execute_result"
    }
   ],
   "source": [
    "for i, row in op_df.iterrows():\n",
    "    #row['topic'] = \n",
    "    #print(row)\n",
    "    op_df.at[i, 'topic'] = row['params'][0]\n",
    "op_df\n",
    "\n",
    "#op_df.loc[op_df['stream'] == 2, cols ] = df1 / 2"
   ]
  },
  {
   "cell_type": "code",
   "execution_count": 3,
   "metadata": {},
   "outputs": [
    {
     "data": {
      "text/plain": [
       "<matplotlib.axes._subplots.AxesSubplot at 0x7fee024a40f0>"
      ]
     },
     "execution_count": 3,
     "metadata": {},
     "output_type": "execute_result"
    },
    {
     "data": {
      "image/png": "[encoded data removed]",
      "text/plain": [
       "<Figure size 432x288 with 1 Axes>"
      ]
     },
     "metadata": {},
     "output_type": "display_data"
    }
   ],
   "source": [
    "op_df['reply_received'].value_counts().plot(kind = 'pie', autopct='%1.0f%%', legend=True, title='Operation returned')"
   ]
  },
  {
   "cell_type": "code",
   "execution_count": 4,
   "metadata": {},
   "outputs": [
    {
     "data": {
      "text/plain": [
       "<matplotlib.axes._subplots.AxesSubplot at 0x7fee0310c1d0>"
      ]
     },
     "execution_count": 4,
     "metadata": {},
     "output_type": "execute_result"
    },
    {
     "data": {
      "image/png": "[encoded data removed]",
      "text/plain": [
       "<Figure size 432x288 with 1 Axes>"
      ]
     },
     "metadata": {
      "needs_background": "light"
     },
     "output_type": "display_data"
    }
   ],
   "source": [
    "import matplotlib.pyplot as plt\n",
    "import seaborn as sns\n",
    "\n",
    "fig, axes = plt.subplots()\n",
    "df = op_df[~op_df['time'].isna()]\n",
    "df\n",
    "sns.violinplot(x='method',y='time', data=df, ax = axes, cut=0)\n",
    "#axes.set_title('Day Ahead Market')"
   ]
  },
  {
   "cell_type": "code",
   "execution_count": 5,
   "metadata": {},
   "outputs": [
    {
     "name": "stdout",
     "output_type": "stream",
     "text": [
      "Reading node-2.log\n",
      "Reading node-3.log\n",
      "Reading node-1.log\n"
     ]
    },
    {
     "data": {
      "text/html": [
       "<div>\n",
       "<style scoped>\n",
       "    .dataframe tbody tr th:only-of-type {\n",
       "        vertical-align: middle;\n",
       "    }\n",
       "\n",
       "    .dataframe tbody tr th {\n",
       "        vertical-align: top;\n",
       "    }\n",
       "\n",
       "    .dataframe thead th {\n",
       "        text-align: right;\n",
       "    }\n",
       "</style>\n",
       "<table border=\"1\" class=\"dataframe\">\n",
       "  <thead>\n",
       "    <tr style=\"text-align: right;\">\n",
       "      <th></th>\n",
       "      <th>node_id</th>\n",
       "      <th>peer_id</th>\n",
       "      <th>in_out</th>\n",
       "      <th>timestamp</th>\n",
       "      <th>msg_type</th>\n",
       "      <th>req_id</th>\n",
       "      <th>key</th>\n",
       "      <th>opid</th>\n",
       "    </tr>\n",
       "  </thead>\n",
       "  <tbody>\n",
       "    <tr>\n",
       "      <th>0</th>\n",
       "      <td>2</td>\n",
       "      <td>1</td>\n",
       "      <td>out</td>\n",
       "      <td>2022-10-14 10:54:30.299670+02:00</td>\n",
       "      <td>FINDNODE/v5</td>\n",
       "      <td>0xa4aa4a0114050329</td>\n",
       "      <td>NaN</td>\n",
       "      <td>NaN</td>\n",
       "    </tr>\n",
       "    <tr>\n",
       "      <th>2</th>\n",
       "      <td>2</td>\n",
       "      <td>1</td>\n",
       "      <td>out</td>\n",
       "      <td>2022-10-14 10:54:30.300460+02:00</td>\n",
       "      <td>FINDNODE/v5</td>\n",
       "      <td>0xa4aa4a0114050329</td>\n",
       "      <td>NaN</td>\n",
       "      <td>NaN</td>\n",
       "    </tr>\n",
       "    <tr>\n",
       "      <th>4</th>\n",
       "      <td>2</td>\n",
       "      <td>1</td>\n",
       "      <td>out</td>\n",
       "      <td>2022-10-14 10:54:30.301342+02:00</td>\n",
       "      <td>FINDNODE/v5</td>\n",
       "      <td>0xc453862c281fe2ea</td>\n",
       "      <td>NaN</td>\n",
       "      <td>NaN</td>\n",
       "    </tr>\n",
       "    <tr>\n",
       "      <th>6</th>\n",
       "      <td>2</td>\n",
       "      <td>1</td>\n",
       "      <td>out</td>\n",
       "      <td>2022-10-14 10:54:30.301640+02:00</td>\n",
       "      <td>FINDNODE/v5</td>\n",
       "      <td>0xf3bfe7987931558e</td>\n",
       "      <td>NaN</td>\n",
       "      <td>NaN</td>\n",
       "    </tr>\n",
       "    <tr>\n",
       "      <th>8</th>\n",
       "      <td>2</td>\n",
       "      <td>1</td>\n",
       "      <td>out</td>\n",
       "      <td>2022-10-14 10:54:30.302030+02:00</td>\n",
       "      <td>FINDNODE/v5</td>\n",
       "      <td>0x22d983f7183d59e4</td>\n",
       "      <td>NaN</td>\n",
       "      <td>NaN</td>\n",
       "    </tr>\n",
       "    <tr>\n",
       "      <th>...</th>\n",
       "      <td>...</td>\n",
       "      <td>...</td>\n",
       "      <td>...</td>\n",
       "      <td>...</td>\n",
       "      <td>...</td>\n",
       "      <td>...</td>\n",
       "      <td>...</td>\n",
       "      <td>...</td>\n",
       "    </tr>\n",
       "    <tr>\n",
       "      <th>765</th>\n",
       "      <td>1</td>\n",
       "      <td>2</td>\n",
       "      <td>out</td>\n",
       "      <td>2022-10-14 10:55:04.901406+02:00</td>\n",
       "      <td>FINDNODE/v5</td>\n",
       "      <td>0x9ffb7b98d8af8e09</td>\n",
       "      <td>NaN</td>\n",
       "      <td>103.0</td>\n",
       "    </tr>\n",
       "    <tr>\n",
       "      <th>767</th>\n",
       "      <td>1</td>\n",
       "      <td>2</td>\n",
       "      <td>out</td>\n",
       "      <td>2022-10-14 10:55:04.901526+02:00</td>\n",
       "      <td>NODES/v5</td>\n",
       "      <td>0x5f90de2ff3fa328f</td>\n",
       "      <td>NaN</td>\n",
       "      <td>NaN</td>\n",
       "    </tr>\n",
       "    <tr>\n",
       "      <th>770</th>\n",
       "      <td>1</td>\n",
       "      <td>2</td>\n",
       "      <td>out</td>\n",
       "      <td>2022-10-14 10:55:04.901878+02:00</td>\n",
       "      <td>REGTOPIC/v5</td>\n",
       "      <td>0xff2db4d5e8f245e4</td>\n",
       "      <td>1.0</td>\n",
       "      <td>103.0</td>\n",
       "    </tr>\n",
       "    <tr>\n",
       "      <th>772</th>\n",
       "      <td>1</td>\n",
       "      <td>2</td>\n",
       "      <td>out</td>\n",
       "      <td>2022-10-14 10:55:04.902263+02:00</td>\n",
       "      <td>REGCONFIRMATION/v5</td>\n",
       "      <td>0x885cb525459cf0bc</td>\n",
       "      <td>NaN</td>\n",
       "      <td>NaN</td>\n",
       "    </tr>\n",
       "    <tr>\n",
       "      <th>774</th>\n",
       "      <td>1</td>\n",
       "      <td>3</td>\n",
       "      <td>out</td>\n",
       "      <td>2022-10-14 10:55:04.902442+02:00</td>\n",
       "      <td>REGTOPIC/v5</td>\n",
       "      <td>0x65702a72164341c4</td>\n",
       "      <td>1.0</td>\n",
       "      <td>103.0</td>\n",
       "    </tr>\n",
       "  </tbody>\n",
       "</table>\n",
       "<p>388 rows × 8 columns</p>\n",
       "</div>"
      ],
      "text/plain": [
       "    node_id  peer_id in_out                        timestamp  \\\n",
       "0         2        1    out 2022-10-14 10:54:30.299670+02:00   \n",
       "2         2        1    out 2022-10-14 10:54:30.300460+02:00   \n",
       "4         2        1    out 2022-10-14 10:54:30.301342+02:00   \n",
       "6         2        1    out 2022-10-14 10:54:30.301640+02:00   \n",
       "8         2        1    out 2022-10-14 10:54:30.302030+02:00   \n",
       "..      ...      ...    ...                              ...   \n",
       "765       1        2    out 2022-10-14 10:55:04.901406+02:00   \n",
       "767       1        2    out 2022-10-14 10:55:04.901526+02:00   \n",
       "770       1        2    out 2022-10-14 10:55:04.901878+02:00   \n",
       "772       1        2    out 2022-10-14 10:55:04.902263+02:00   \n",
       "774       1        3    out 2022-10-14 10:55:04.902442+02:00   \n",
       "\n",
       "               msg_type              req_id  key   opid  \n",
       "0           FINDNODE/v5  0xa4aa4a0114050329  NaN    NaN  \n",
       "2           FINDNODE/v5  0xa4aa4a0114050329  NaN    NaN  \n",
       "4           FINDNODE/v5  0xc453862c281fe2ea  NaN    NaN  \n",
       "6           FINDNODE/v5  0xf3bfe7987931558e  NaN    NaN  \n",
       "8           FINDNODE/v5  0x22d983f7183d59e4  NaN    NaN  \n",
       "..                  ...                 ...  ...    ...  \n",
       "765         FINDNODE/v5  0x9ffb7b98d8af8e09  NaN  103.0  \n",
       "767            NODES/v5  0x5f90de2ff3fa328f  NaN    NaN  \n",
       "770         REGTOPIC/v5  0xff2db4d5e8f245e4  1.0  103.0  \n",
       "772  REGCONFIRMATION/v5  0x885cb525459cf0bc  NaN    NaN  \n",
       "774         REGTOPIC/v5  0x65702a72164341c4  1.0  103.0  \n",
       "\n",
       "[388 rows x 8 columns]"
      ]
     },
     "execution_count": 5,
     "metadata": {},
     "output_type": "execute_result"
    }
   ],
   "source": [
    "from analyse_logs import *\n",
    "\n",
    "msg_df = get_msg_df(log_path)\n",
    "#drop received message and only keep the saved ones\n",
    "msg_df = msg_df[msg_df['in_out'] == 'out']\n",
    "msg_df"
   ]
  },
  {
   "cell_type": "code",
   "execution_count": 6,
   "metadata": {},
   "outputs": [
    {
     "name": "stdout",
     "output_type": "stream",
     "text": [
      "101\n",
      "102\n",
      "103\n",
      "104\n",
      "105\n",
      "106\n"
     ]
    },
    {
     "data": {
      "text/html": [
       "<div>\n",
       "<style scoped>\n",
       "    .dataframe tbody tr th:only-of-type {\n",
       "        vertical-align: middle;\n",
       "    }\n",
       "\n",
       "    .dataframe tbody tr th {\n",
       "        vertical-align: top;\n",
       "    }\n",
       "\n",
       "    .dataframe thead th {\n",
       "        text-align: right;\n",
       "    }\n",
       "</style>\n",
       "<table border=\"1\" class=\"dataframe\">\n",
       "  <thead>\n",
       "    <tr style=\"text-align: right;\">\n",
       "      <th></th>\n",
       "      <th>node_id</th>\n",
       "      <th>peer_id</th>\n",
       "      <th>in_out</th>\n",
       "      <th>timestamp</th>\n",
       "      <th>msg_type</th>\n",
       "      <th>req_id</th>\n",
       "      <th>key</th>\n",
       "      <th>opid</th>\n",
       "      <th>op_type</th>\n",
       "      <th>topic</th>\n",
       "    </tr>\n",
       "  </thead>\n",
       "  <tbody>\n",
       "    <tr>\n",
       "      <th>0</th>\n",
       "      <td>2</td>\n",
       "      <td>1</td>\n",
       "      <td>out</td>\n",
       "      <td>2022-10-14 10:54:30.299670+02:00</td>\n",
       "      <td>FINDNODE/v5</td>\n",
       "      <td>0xa4aa4a0114050329</td>\n",
       "      <td>NaN</td>\n",
       "      <td>NaN</td>\n",
       "      <td>NaN</td>\n",
       "      <td>NaN</td>\n",
       "    </tr>\n",
       "    <tr>\n",
       "      <th>2</th>\n",
       "      <td>2</td>\n",
       "      <td>1</td>\n",
       "      <td>out</td>\n",
       "      <td>2022-10-14 10:54:30.300460+02:00</td>\n",
       "      <td>FINDNODE/v5</td>\n",
       "      <td>0xa4aa4a0114050329</td>\n",
       "      <td>NaN</td>\n",
       "      <td>NaN</td>\n",
       "      <td>NaN</td>\n",
       "      <td>NaN</td>\n",
       "    </tr>\n",
       "    <tr>\n",
       "      <th>4</th>\n",
       "      <td>2</td>\n",
       "      <td>1</td>\n",
       "      <td>out</td>\n",
       "      <td>2022-10-14 10:54:30.301342+02:00</td>\n",
       "      <td>FINDNODE/v5</td>\n",
       "      <td>0xc453862c281fe2ea</td>\n",
       "      <td>NaN</td>\n",
       "      <td>NaN</td>\n",
       "      <td>NaN</td>\n",
       "      <td>NaN</td>\n",
       "    </tr>\n",
       "    <tr>\n",
       "      <th>6</th>\n",
       "      <td>2</td>\n",
       "      <td>1</td>\n",
       "      <td>out</td>\n",
       "      <td>2022-10-14 10:54:30.301640+02:00</td>\n",
       "      <td>FINDNODE/v5</td>\n",
       "      <td>0xf3bfe7987931558e</td>\n",
       "      <td>NaN</td>\n",
       "      <td>NaN</td>\n",
       "      <td>NaN</td>\n",
       "      <td>NaN</td>\n",
       "    </tr>\n",
       "    <tr>\n",
       "      <th>8</th>\n",
       "      <td>2</td>\n",
       "      <td>1</td>\n",
       "      <td>out</td>\n",
       "      <td>2022-10-14 10:54:30.302030+02:00</td>\n",
       "      <td>FINDNODE/v5</td>\n",
       "      <td>0x22d983f7183d59e4</td>\n",
       "      <td>NaN</td>\n",
       "      <td>NaN</td>\n",
       "      <td>NaN</td>\n",
       "      <td>NaN</td>\n",
       "    </tr>\n",
       "    <tr>\n",
       "      <th>...</th>\n",
       "      <td>...</td>\n",
       "      <td>...</td>\n",
       "      <td>...</td>\n",
       "      <td>...</td>\n",
       "      <td>...</td>\n",
       "      <td>...</td>\n",
       "      <td>...</td>\n",
       "      <td>...</td>\n",
       "      <td>...</td>\n",
       "      <td>...</td>\n",
       "    </tr>\n",
       "    <tr>\n",
       "      <th>765</th>\n",
       "      <td>1</td>\n",
       "      <td>2</td>\n",
       "      <td>out</td>\n",
       "      <td>2022-10-14 10:55:04.901406+02:00</td>\n",
       "      <td>FINDNODE/v5</td>\n",
       "      <td>0x9ffb7b98d8af8e09</td>\n",
       "      <td>NaN</td>\n",
       "      <td>103.0</td>\n",
       "      <td>discv5_registerTopic</td>\n",
       "      <td>1.0</td>\n",
       "    </tr>\n",
       "    <tr>\n",
       "      <th>767</th>\n",
       "      <td>1</td>\n",
       "      <td>2</td>\n",
       "      <td>out</td>\n",
       "      <td>2022-10-14 10:55:04.901526+02:00</td>\n",
       "      <td>NODES/v5</td>\n",
       "      <td>0x5f90de2ff3fa328f</td>\n",
       "      <td>NaN</td>\n",
       "      <td>102.0</td>\n",
       "      <td>discv5_registerTopic</td>\n",
       "      <td>1.0</td>\n",
       "    </tr>\n",
       "    <tr>\n",
       "      <th>770</th>\n",
       "      <td>1</td>\n",
       "      <td>2</td>\n",
       "      <td>out</td>\n",
       "      <td>2022-10-14 10:55:04.901878+02:00</td>\n",
       "      <td>REGTOPIC/v5</td>\n",
       "      <td>0xff2db4d5e8f245e4</td>\n",
       "      <td>1.0</td>\n",
       "      <td>103.0</td>\n",
       "      <td>discv5_registerTopic</td>\n",
       "      <td>1.0</td>\n",
       "    </tr>\n",
       "    <tr>\n",
       "      <th>772</th>\n",
       "      <td>1</td>\n",
       "      <td>2</td>\n",
       "      <td>out</td>\n",
       "      <td>2022-10-14 10:55:04.902263+02:00</td>\n",
       "      <td>REGCONFIRMATION/v5</td>\n",
       "      <td>0x885cb525459cf0bc</td>\n",
       "      <td>NaN</td>\n",
       "      <td>102.0</td>\n",
       "      <td>discv5_registerTopic</td>\n",
       "      <td>1.0</td>\n",
       "    </tr>\n",
       "    <tr>\n",
       "      <th>774</th>\n",
       "      <td>1</td>\n",
       "      <td>3</td>\n",
       "      <td>out</td>\n",
       "      <td>2022-10-14 10:55:04.902442+02:00</td>\n",
       "      <td>REGTOPIC/v5</td>\n",
       "      <td>0x65702a72164341c4</td>\n",
       "      <td>1.0</td>\n",
       "      <td>103.0</td>\n",
       "      <td>discv5_registerTopic</td>\n",
       "      <td>1.0</td>\n",
       "    </tr>\n",
       "  </tbody>\n",
       "</table>\n",
       "<p>388 rows × 10 columns</p>\n",
       "</div>"
      ],
      "text/plain": [
       "    node_id  peer_id in_out                        timestamp  \\\n",
       "0         2        1    out 2022-10-14 10:54:30.299670+02:00   \n",
       "2         2        1    out 2022-10-14 10:54:30.300460+02:00   \n",
       "4         2        1    out 2022-10-14 10:54:30.301342+02:00   \n",
       "6         2        1    out 2022-10-14 10:54:30.301640+02:00   \n",
       "8         2        1    out 2022-10-14 10:54:30.302030+02:00   \n",
       "..      ...      ...    ...                              ...   \n",
       "765       1        2    out 2022-10-14 10:55:04.901406+02:00   \n",
       "767       1        2    out 2022-10-14 10:55:04.901526+02:00   \n",
       "770       1        2    out 2022-10-14 10:55:04.901878+02:00   \n",
       "772       1        2    out 2022-10-14 10:55:04.902263+02:00   \n",
       "774       1        3    out 2022-10-14 10:55:04.902442+02:00   \n",
       "\n",
       "               msg_type              req_id  key   opid               op_type  \\\n",
       "0           FINDNODE/v5  0xa4aa4a0114050329  NaN    NaN                   NaN   \n",
       "2           FINDNODE/v5  0xa4aa4a0114050329  NaN    NaN                   NaN   \n",
       "4           FINDNODE/v5  0xc453862c281fe2ea  NaN    NaN                   NaN   \n",
       "6           FINDNODE/v5  0xf3bfe7987931558e  NaN    NaN                   NaN   \n",
       "8           FINDNODE/v5  0x22d983f7183d59e4  NaN    NaN                   NaN   \n",
       "..                  ...                 ...  ...    ...                   ...   \n",
       "765         FINDNODE/v5  0x9ffb7b98d8af8e09  NaN  103.0  discv5_registerTopic   \n",
       "767            NODES/v5  0x5f90de2ff3fa328f  NaN  102.0  discv5_registerTopic   \n",
       "770         REGTOPIC/v5  0xff2db4d5e8f245e4  1.0  103.0  discv5_registerTopic   \n",
       "772  REGCONFIRMATION/v5  0x885cb525459cf0bc  NaN  102.0  discv5_registerTopic   \n",
       "774         REGTOPIC/v5  0x65702a72164341c4  1.0  103.0  discv5_registerTopic   \n",
       "\n",
       "     topic  \n",
       "0      NaN  \n",
       "2      NaN  \n",
       "4      NaN  \n",
       "6      NaN  \n",
       "8      NaN  \n",
       "..     ...  \n",
       "765    1.0  \n",
       "767    1.0  \n",
       "770    1.0  \n",
       "772    1.0  \n",
       "774    1.0  \n",
       "\n",
       "[388 rows x 10 columns]"
      ]
     },
     "execution_count": 6,
     "metadata": {},
     "output_type": "execute_result"
    }
   ],
   "source": [
    "#set the missing opids and op_types to all the messages being part of operations\n",
    "#print(msg_df)\n",
    "for opid in set([i for i in op_df['opid']]):\n",
    "    print(opid)\n",
    "    op_type = op_df.loc[op_df['opid'] == opid, 'method'].values[0]\n",
    "    topic = op_df.loc[op_df['opid'] == opid, 'topic'].values[0]\n",
    "    for req_id in set([i for i in msg_df[msg_df['opid'] == opid]['req_id']]):\n",
    "        msg_df.loc[msg_df[\"req_id\"] == req_id, \"opid\"] = opid\n",
    "        msg_df.loc[msg_df['req_id'] == req_id, 'op_type'] = op_type\n",
    "        msg_df.loc[msg_df['req_id'] == req_id, 'topic'] = topic\n",
    "\n",
    "\n",
    "# TODO: this is very slow now! \n",
    "msg_df"
   ]
  },
  {
   "cell_type": "code",
   "execution_count": 7,
   "metadata": {},
   "outputs": [
    {
     "name": "stdout",
     "output_type": "stream",
     "text": [
      "Original DataFrame:\n",
      "    req_id  op_id\n",
      "0       1  101.0\n",
      "1       2    NaN\n",
      "2       3  103.0\n"
     ]
    },
    {
     "data": {
      "text/html": [
       "<div>\n",
       "<style scoped>\n",
       "    .dataframe tbody tr th:only-of-type {\n",
       "        vertical-align: middle;\n",
       "    }\n",
       "\n",
       "    .dataframe tbody tr th {\n",
       "        vertical-align: top;\n",
       "    }\n",
       "\n",
       "    .dataframe thead th {\n",
       "        text-align: right;\n",
       "    }\n",
       "</style>\n",
       "<table border=\"1\" class=\"dataframe\">\n",
       "  <thead>\n",
       "    <tr style=\"text-align: right;\">\n",
       "      <th></th>\n",
       "      <th>req_id</th>\n",
       "      <th>op_id</th>\n",
       "      <th>add</th>\n",
       "    </tr>\n",
       "  </thead>\n",
       "  <tbody>\n",
       "    <tr>\n",
       "      <th>0</th>\n",
       "      <td>1</td>\n",
       "      <td>101.0</td>\n",
       "      <td>102.0</td>\n",
       "    </tr>\n",
       "    <tr>\n",
       "      <th>1</th>\n",
       "      <td>2</td>\n",
       "      <td>NaN</td>\n",
       "      <td>NaN</td>\n",
       "    </tr>\n",
       "    <tr>\n",
       "      <th>2</th>\n",
       "      <td>3</td>\n",
       "      <td>103.0</td>\n",
       "      <td>106.0</td>\n",
       "    </tr>\n",
       "  </tbody>\n",
       "</table>\n",
       "</div>"
      ],
      "text/plain": [
       "   req_id  op_id    add\n",
       "0       1  101.0  102.0\n",
       "1       2    NaN    NaN\n",
       "2       3  103.0  106.0"
      ]
     },
     "execution_count": 7,
     "metadata": {},
     "output_type": "execute_result"
    }
   ],
   "source": [
    "from numpy import NaN\n",
    "\n",
    "\n",
    "data = {\n",
    "            'req_id':[1, 2, 3],\n",
    "            'op_id':[101, NaN, 103]}\n",
    "     \n",
    "    # Convert the dictionary into DataFrame\n",
    "df = pd.DataFrame(data)\n",
    "print(\"Original DataFrame:\\n\", df)\n",
    "\n",
    "def add(a, b):\n",
    "    return a + b\n",
    "     \n",
    "df['add'] = df.apply(lambda row : add(row['op_id'],\n",
    "                     row['req_id']), axis = 1)\n",
    "df"
   ]
  },
  {
   "cell_type": "code",
   "execution_count": 8,
   "metadata": {},
   "outputs": [
    {
     "name": "stdout",
     "output_type": "stream",
     "text": [
      "discv5_registerTopic\n",
      "\t discv5_registerTopic\n",
      "\t\t FINDNODE/v5 32\n",
      "\t\t NODES/v5 32\n",
      "\t\t REGCONFIRMATION/v5 8\n",
      "\t\t REGTOPIC/v5 8\n",
      "\t discv5_registerTopic\n",
      "\t\t FINDNODE/v5 32\n",
      "\t\t NODES/v5 32\n",
      "\t\t REGCONFIRMATION/v5 8\n",
      "\t\t REGTOPIC/v5 8\n",
      "\t discv5_registerTopic\n",
      "\t\t FINDNODE/v5 32\n",
      "\t\t NODES/v5 32\n",
      "\t\t REGCONFIRMATION/v5 8\n",
      "\t\t REGTOPIC/v5 8\n",
      "discv5_topicSearch\n",
      "\t discv5_topicSearch\n",
      "\t\t FINDNODE/v5 14\n",
      "\t\t NODES/v5 20\n",
      "\t\t TOPICQUERY/v5 6\n",
      "\t discv5_topicSearch\n",
      "\t\t FINDNODE/v5 2\n",
      "\t\t NODES/v5 4\n",
      "\t\t TOPICQUERY/v5 2\n",
      "\t discv5_topicSearch\n",
      "\t\t FINDNODE/v5 2\n",
      "\t\t NODES/v5 4\n",
      "\t\t TOPICQUERY/v5 2\n"
     ]
    },
    {
     "data": {
      "image/png": "[encoded data removed]",
      "text/plain": [
       "<Figure size 432x288 with 1 Axes>"
      ]
     },
     "metadata": {
      "needs_background": "light"
     },
     "output_type": "display_data"
    },
    {
     "data": {
      "image/png": "[encoded data removed]",
      "text/plain": [
       "<Figure size 432x288 with 1 Axes>"
      ]
     },
     "metadata": {
      "needs_background": "light"
     },
     "output_type": "display_data"
    }
   ],
   "source": [
    "from matplotlib.lines import Line2D\n",
    "\n",
    "msg_df = msg_df.dropna(subset=['opid'])\n",
    "\n",
    "colors = ['red', 'green', 'blue', 'yellow']\n",
    "for op_type, group_op_type in msg_df.groupby('op_type'):\n",
    "    #if(op_type != 'discv5_registerTopic'):\n",
    "        #continue\n",
    "    print(op_type)\n",
    "    fig, ax = plt.subplots()\n",
    "    legend_elements = []\n",
    "    added = set()\n",
    "    for opid, group_opid in group_op_type.groupby('opid'):\n",
    "        print(\"\\t\", op_type)\n",
    "        i = 0\n",
    "        sum = 0\n",
    "        for msg_type, group_msg_type in group_opid.groupby('msg_type'):\n",
    "            val = len(group_msg_type)\n",
    "            ax.bar(opid, val, color=colors[i], bottom = sum)\n",
    "            sum += val\n",
    "            print(\"\\t\\t\", msg_type, len(group_msg_type))\n",
    "            if(msg_type not in added):\n",
    "                added.add(msg_type)\n",
    "                legend_elements.append(Line2D([0], [0], color=colors[i], lw=4, label=msg_type))\n",
    "            i += 1\n",
    "    ax.legend(handles=legend_elements)\n",
    "    ax.set_title(op_type)\n",
    "plt.show()"
   ]
  },
  {
   "cell_type": "code",
   "execution_count": 9,
   "metadata": {},
   "outputs": [
    {
     "data": {
      "text/plain": [
       "<matplotlib.axes._subplots.AxesSubplot at 0x7fee031885c0>"
      ]
     },
     "execution_count": 9,
     "metadata": {},
     "output_type": "execute_result"
    },
    {
     "data": {
      "image/png": "[encoded data removed]",
      "text/plain": [
       "<Figure size 432x288 with 1 Axes>"
      ]
     },
     "metadata": {},
     "output_type": "display_data"
    }
   ],
   "source": [
    "msg_df['in_out'].value_counts().plot(kind='pie', autopct='%1.0f%%', legend=True, title='Msgs sent/received')"
   ]
  },
  {
   "cell_type": "code",
   "execution_count": 10,
   "metadata": {},
   "outputs": [
    {
     "data": {
      "text/plain": [
       "Text(0, 0.5, '#Messages')"
      ]
     },
     "execution_count": 10,
     "metadata": {},
     "output_type": "execute_result"
    },
    {
     "data": {
      "image/png": "[encoded data removed]",
      "text/plain": [
       "<Figure size 432x288 with 1 Axes>"
      ]
     },
     "metadata": {
      "needs_background": "light"
     },
     "output_type": "display_data"
    }
   ],
   "source": [
    "import matplotlib.pyplot as plt\n",
    "\n",
    "sent = msg_df[msg_df['in_out'] == 'out']['node_id'].value_counts().to_dict()\n",
    "sent = {int(k):int(v) for k,v in sent.items()} #convert IDs to int\n",
    "\n",
    "received = msg_df[msg_df['in_out'] == 'out']['peer_id'].value_counts().to_dict()\n",
    "received = {int(k):int(v) for k,v in received.items()} #convert IDs to int\n",
    "\n",
    "width =0.3\n",
    "plt.bar(sent.keys(), sent.values(), width=width, label = 'sent')\n",
    "plt.bar([x + width for x in received.keys()], received.values(), width=width, label = 'received')\n",
    "plt.legend()\n",
    "plt.title('Messages exchanged')\n",
    "plt.xlabel('Node ID')\n",
    "plt.ylabel('#Messages')"
   ]
  },
  {
   "cell_type": "code",
   "execution_count": 11,
   "metadata": {},
   "outputs": [
    {
     "data": {
      "text/plain": [
       "<matplotlib.axes._subplots.AxesSubplot at 0x7fee03732550>"
      ]
     },
     "execution_count": 11,
     "metadata": {},
     "output_type": "execute_result"
    },
    {
     "data": {
      "image/png": "[encoded data removed]",
      "text/plain": [
       "<Figure size 432x288 with 1 Axes>"
      ]
     },
     "metadata": {
      "needs_background": "light"
     },
     "output_type": "display_data"
    }
   ],
   "source": [
    "import matplotlib.pyplot as plt\n",
    "import seaborn as sns\n",
    "\n",
    "fig, axes = plt.subplots()\n",
    "df_in = msg_df[msg_df['in_out']=='in']['node_id'].value_counts().rename_axis('node_id').reset_index(name='count')\n",
    "df_in['in_out'] = 'in'\n",
    "df_out = msg_df[msg_df['in_out']=='out']['node_id'].value_counts().rename_axis('node_id').reset_index(name='count')\n",
    "df_out['in_out'] = 'out'\n",
    "\n",
    "df = pd.concat([df_in, df_out], axis=0)\n",
    "sns.violinplot(x='in_out', y='count', data=df, ax = axes, cut=0, title='#Msg received/sent per node')"
   ]
  },
  {
   "cell_type": "code",
   "execution_count": 12,
   "metadata": {},
   "outputs": [
    {
     "data": {
      "text/plain": [
       "<matplotlib.axes._subplots.AxesSubplot at 0x7fee032d0550>"
      ]
     },
     "execution_count": 12,
     "metadata": {},
     "output_type": "execute_result"
    },
    {
     "data": {
      "image/png": "[encoded data removed]",
      "text/plain": [
       "<Figure size 432x288 with 1 Axes>"
      ]
     },
     "metadata": {
      "needs_background": "light"
     },
     "output_type": "display_data"
    }
   ],
   "source": [
    "msg_df['msg_type'].value_counts().plot(kind='bar')"
   ]
  },
  {
   "cell_type": "code",
   "execution_count": 13,
   "metadata": {},
   "outputs": [
    {
     "name": "stdout",
     "output_type": "stream",
     "text": [
      "discv5_registerTopic\n",
      "discv5_topicSearch\n"
     ]
    },
    {
     "data": {
      "image/png": "[encoded data removed]",
      "text/plain": [
       "<Figure size 432x288 with 1 Axes>"
      ]
     },
     "metadata": {
      "needs_background": "light"
     },
     "output_type": "display_data"
    },
    {
     "data": {
      "image/png": "[encoded data removed]",
      "text/plain": [
       "<Figure size 432x288 with 1 Axes>"
      ]
     },
     "metadata": {
      "needs_background": "light"
     },
     "output_type": "display_data"
    }
   ],
   "source": [
    "import numpy as np\n",
    "import math\n",
    "import hashlib\n",
    "\n",
    "#df2 = msg_df.dropna()\n",
    "#regs = msg_df[msg_df['msg_type'] == 'REGTOPIC/v5']['key'].value_counts().to_dict()\n",
    "#regs = {int(k):int(v) for k,v in sent.items()} #convert IDs to int\n",
    "#queries = msg_df[msg_df['msg_type'] == 'TOPICQUERY/v5']['key'].value_counts().to_dict()\n",
    "#received = {int(k):int(v) for k,v in received.items()} #convert IDs to int\n",
    "\n",
    "\n",
    "\n",
    "for op_type, group_op_type in msg_df.groupby('op_type'):\n",
    "    print(op_type)\n",
    "    fig, ax = plt.subplots()\n",
    "    group_op_type['topic'].value_counts().plot(kind='bar', title=op_type)\n",
    "    ax.set_ylabel(\"#Messages\")\n",
    "    #for topic, group_topic in group_op_type.groupby('topic'):\n",
    "    #    print(\"\\t\", topic, len(group_topic))\n",
    "        #ax.bar(opid, val, color=colors[i], bottom = sum)\n",
    "        \n",
    "    \n",
    "        \n",
    "        \n",
    "\n",
    "#width =0.3\n",
    "#plt.bar(regs.keys(), regs.values(), width=width, label = 'Registrations')\n",
    "#plt.bar([x + width for x in queries.keys()], queries.values(), width=width, label = 'Queries')\n",
    "#plt.legend()\n",
    "#plt.title('Messages exchanged')\n",
    "#plt.xlabel('Topic')\n",
    "#plt.ylabel('#Messages')\n",
    "\n",
    "\n",
    "\n"
   ]
  },
  {
   "cell_type": "code",
   "execution_count": 14,
   "metadata": {},
   "outputs": [
    {
     "data": {
      "text/plain": [
       "[<matplotlib.axis.YTick at 0x7fee035d68d0>,\n",
       " <matplotlib.axis.YTick at 0x7fee035faa58>]"
      ]
     },
     "execution_count": 14,
     "metadata": {},
     "output_type": "execute_result"
    },
    {
     "data": {
      "image/png": "[encoded data removed]",
      "text/plain": [
       "<Figure size 432x288 with 1 Axes>"
      ]
     },
     "metadata": {
      "needs_background": "light"
     },
     "output_type": "display_data"
    }
   ],
   "source": [
    "op_df_exploded = op_df.copy()\n",
    "op_df_exploded = op_df_exploded.explode('result')\n",
    "fig, axes = plt.subplots()\n",
    "op_df_exploded['result'].value_counts().plot(ax = axes,kind='bar')\n",
    "axes.set_xticklabels([])\n",
    "axes.set_xlabel(\"Discovered Nodes\")\n",
    "axes.set_ylabel(\"Count\")\n",
    "axes.set_yticks(list(op_df_exploded['result'].value_counts()))"
   ]
  },
  {
   "cell_type": "code",
   "execution_count": 15,
   "metadata": {},
   "outputs": [
    {
     "data": {
      "text/plain": [
       "[<matplotlib.axis.YTick at 0x7fee035e8320>,\n",
       " <matplotlib.axis.YTick at 0x7fee03942c18>,\n",
       " <matplotlib.axis.YTick at 0x7fee039dff28>]"
      ]
     },
     "execution_count": 15,
     "metadata": {},
     "output_type": "execute_result"
    },
    {
     "data": {
      "image/png": "[encoded data removed]",
      "text/plain": [
       "<Figure size 432x288 with 1 Axes>"
      ]
     },
     "metadata": {
      "needs_background": "light"
     },
     "output_type": "display_data"
    }
   ],
   "source": [
    "op_df_droppedNone = op_df_exploded.dropna(subset=['result'])\n",
    "fig, axes = plt.subplots()\n",
    "op_df_droppedNone['opid'].value_counts().plot(ax=axes, kind='bar')\n",
    "axes.set_xlabel(\"Topic search operation\")\n",
    "axes.set_ylabel(\"Number of results\")\n",
    "axes.set_yticks(list(op_df_droppedNone['opid'].value_counts()))\n"
   ]
  },
  {
   "cell_type": "code",
   "execution_count": null,
   "metadata": {},
   "outputs": [],
   "source": []
  }
 ],
 "metadata": {
  "kernelspec": {
   "display_name": "Python 3",
   "language": "python",
   "name": "python3"
  },
  "language_info": {
   "codemirror_mode": {
    "name": "ipython",
    "version": 3
   },
   "file_extension": ".py",
   "mimetype": "text/x-python",
   "name": "python",
   "nbconvert_exporter": "python",
   "pygments_lexer": "ipython3",
   "version": "3.6.10"
  },
  "vscode": {
   "interpreter": {
    "hash": "916dbcbb3f70747c44a77c7bcd40155683ae19c65e1c03b4aa3499c5328201f1"
   }
  }
 },
 "nbformat": 4,
 "nbformat_minor": 2
}
