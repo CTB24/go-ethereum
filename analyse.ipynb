{
 "cells": [
  {
   "cell_type": "code",
   "execution_count": 1,
   "metadata": {},
   "outputs": [
    {
     "data": {
      "text/html": [
       "<div>\n",
       "<style scoped>\n",
       "    .dataframe tbody tr th:only-of-type {\n",
       "        vertical-align: middle;\n",
       "    }\n",
       "\n",
       "    .dataframe tbody tr th {\n",
       "        vertical-align: top;\n",
       "    }\n",
       "\n",
       "    .dataframe thead th {\n",
       "        text-align: right;\n",
       "    }\n",
       "</style>\n",
       "<table border=\"1\" class=\"dataframe\">\n",
       "  <thead>\n",
       "    <tr style=\"text-align: right;\">\n",
       "      <th></th>\n",
       "      <th>opid</th>\n",
       "      <th>method</th>\n",
       "      <th>reply_received</th>\n",
       "      <th>params</th>\n",
       "      <th>start_time</th>\n",
       "      <th>result</th>\n",
       "      <th>end_time</th>\n",
       "      <th>time</th>\n",
       "      <th>topic</th>\n",
       "    </tr>\n",
       "  </thead>\n",
       "  <tbody>\n",
       "    <tr>\n",
       "      <th>0</th>\n",
       "      <td>101</td>\n",
       "      <td>discv5_registerTopic</td>\n",
       "      <td>True</td>\n",
       "      <td>[4, 101]</td>\n",
       "      <td>1665677823580</td>\n",
       "      <td>None</td>\n",
       "      <td>1665677823587</td>\n",
       "      <td>7</td>\n",
       "      <td>4.0</td>\n",
       "    </tr>\n",
       "    <tr>\n",
       "      <th>1</th>\n",
       "      <td>102</td>\n",
       "      <td>discv5_registerTopic</td>\n",
       "      <td>True</td>\n",
       "      <td>[3, 102]</td>\n",
       "      <td>1665677823710</td>\n",
       "      <td>None</td>\n",
       "      <td>1665677823715</td>\n",
       "      <td>5</td>\n",
       "      <td>3.0</td>\n",
       "    </tr>\n",
       "    <tr>\n",
       "      <th>2</th>\n",
       "      <td>103</td>\n",
       "      <td>discv5_registerTopic</td>\n",
       "      <td>True</td>\n",
       "      <td>[1, 103]</td>\n",
       "      <td>1665677823841</td>\n",
       "      <td>None</td>\n",
       "      <td>1665677823846</td>\n",
       "      <td>5</td>\n",
       "      <td>1.0</td>\n",
       "    </tr>\n",
       "    <tr>\n",
       "      <th>3</th>\n",
       "      <td>104</td>\n",
       "      <td>discv5_registerTopic</td>\n",
       "      <td>True</td>\n",
       "      <td>[1, 104]</td>\n",
       "      <td>1665677823853</td>\n",
       "      <td>None</td>\n",
       "      <td>1665677823858</td>\n",
       "      <td>5</td>\n",
       "      <td>1.0</td>\n",
       "    </tr>\n",
       "    <tr>\n",
       "      <th>4</th>\n",
       "      <td>105</td>\n",
       "      <td>discv5_registerTopic</td>\n",
       "      <td>True</td>\n",
       "      <td>[1, 105]</td>\n",
       "      <td>1665677823895</td>\n",
       "      <td>None</td>\n",
       "      <td>1665677823897</td>\n",
       "      <td>2</td>\n",
       "      <td>1.0</td>\n",
       "    </tr>\n",
       "    <tr>\n",
       "      <th>5</th>\n",
       "      <td>106</td>\n",
       "      <td>discv5_registerTopic</td>\n",
       "      <td>True</td>\n",
       "      <td>[1, 106]</td>\n",
       "      <td>1665677823927</td>\n",
       "      <td>None</td>\n",
       "      <td>1665677823929</td>\n",
       "      <td>2</td>\n",
       "      <td>1.0</td>\n",
       "    </tr>\n",
       "    <tr>\n",
       "      <th>6</th>\n",
       "      <td>107</td>\n",
       "      <td>discv5_registerTopic</td>\n",
       "      <td>True</td>\n",
       "      <td>[1, 107]</td>\n",
       "      <td>1665677824016</td>\n",
       "      <td>None</td>\n",
       "      <td>1665677824021</td>\n",
       "      <td>5</td>\n",
       "      <td>1.0</td>\n",
       "    </tr>\n",
       "    <tr>\n",
       "      <th>7</th>\n",
       "      <td>108</td>\n",
       "      <td>discv5_registerTopic</td>\n",
       "      <td>True</td>\n",
       "      <td>[3, 108]</td>\n",
       "      <td>1665677824144</td>\n",
       "      <td>None</td>\n",
       "      <td>1665677824149</td>\n",
       "      <td>5</td>\n",
       "      <td>3.0</td>\n",
       "    </tr>\n",
       "    <tr>\n",
       "      <th>8</th>\n",
       "      <td>109</td>\n",
       "      <td>discv5_registerTopic</td>\n",
       "      <td>True</td>\n",
       "      <td>[3, 109]</td>\n",
       "      <td>1665677824263</td>\n",
       "      <td>None</td>\n",
       "      <td>1665677824268</td>\n",
       "      <td>5</td>\n",
       "      <td>3.0</td>\n",
       "    </tr>\n",
       "    <tr>\n",
       "      <th>9</th>\n",
       "      <td>110</td>\n",
       "      <td>discv5_registerTopic</td>\n",
       "      <td>True</td>\n",
       "      <td>[4, 110]</td>\n",
       "      <td>1665677824357</td>\n",
       "      <td>None</td>\n",
       "      <td>1665677824362</td>\n",
       "      <td>5</td>\n",
       "      <td>4.0</td>\n",
       "    </tr>\n",
       "    <tr>\n",
       "      <th>10</th>\n",
       "      <td>111</td>\n",
       "      <td>discv5_topicSearch</td>\n",
       "      <td>True</td>\n",
       "      <td>[1, 1, 111]</td>\n",
       "      <td>1665677834371</td>\n",
       "      <td>[7b27e1211f4743a23fe09b6c18370280c0acef5a508ef...</td>\n",
       "      <td>1665677834399</td>\n",
       "      <td>28</td>\n",
       "      <td>1.0</td>\n",
       "    </tr>\n",
       "    <tr>\n",
       "      <th>11</th>\n",
       "      <td>112</td>\n",
       "      <td>discv5_topicSearch</td>\n",
       "      <td>True</td>\n",
       "      <td>[3, 1, 112]</td>\n",
       "      <td>1665677834374</td>\n",
       "      <td>[b29c7be613d005398031189c840ca829db6a4fb211f88...</td>\n",
       "      <td>1665677834398</td>\n",
       "      <td>24</td>\n",
       "      <td>3.0</td>\n",
       "    </tr>\n",
       "    <tr>\n",
       "      <th>12</th>\n",
       "      <td>113</td>\n",
       "      <td>discv5_topicSearch</td>\n",
       "      <td>True</td>\n",
       "      <td>[1, 1, 113]</td>\n",
       "      <td>1665677834375</td>\n",
       "      <td>[7b27e1211f4743a23fe09b6c18370280c0acef5a508ef...</td>\n",
       "      <td>1665677834399</td>\n",
       "      <td>24</td>\n",
       "      <td>1.0</td>\n",
       "    </tr>\n",
       "    <tr>\n",
       "      <th>13</th>\n",
       "      <td>114</td>\n",
       "      <td>discv5_topicSearch</td>\n",
       "      <td>True</td>\n",
       "      <td>[3, 1, 114]</td>\n",
       "      <td>1665677834381</td>\n",
       "      <td>[7bf4fe5ba958402187f3b0dc7a54e836b4f92037dd330...</td>\n",
       "      <td>1665677834400</td>\n",
       "      <td>19</td>\n",
       "      <td>3.0</td>\n",
       "    </tr>\n",
       "    <tr>\n",
       "      <th>14</th>\n",
       "      <td>115</td>\n",
       "      <td>discv5_topicSearch</td>\n",
       "      <td>True</td>\n",
       "      <td>[1, 1, 115]</td>\n",
       "      <td>1665677834391</td>\n",
       "      <td>[b7e1002af9d2863aaff43696a9a2bb099cb1c17ff6489...</td>\n",
       "      <td>1665677834407</td>\n",
       "      <td>16</td>\n",
       "      <td>1.0</td>\n",
       "    </tr>\n",
       "    <tr>\n",
       "      <th>15</th>\n",
       "      <td>116</td>\n",
       "      <td>discv5_topicSearch</td>\n",
       "      <td>True</td>\n",
       "      <td>[1, 1, 116]</td>\n",
       "      <td>1665677834392</td>\n",
       "      <td>[7b27e1211f4743a23fe09b6c18370280c0acef5a508ef...</td>\n",
       "      <td>1665677834402</td>\n",
       "      <td>10</td>\n",
       "      <td>1.0</td>\n",
       "    </tr>\n",
       "    <tr>\n",
       "      <th>16</th>\n",
       "      <td>117</td>\n",
       "      <td>discv5_topicSearch</td>\n",
       "      <td>True</td>\n",
       "      <td>[4, 1, 117]</td>\n",
       "      <td>1665677834394</td>\n",
       "      <td>[0e9b9a1de242a64db8952ceb1a660a0b53cf2b5dd57df...</td>\n",
       "      <td>1665677834409</td>\n",
       "      <td>15</td>\n",
       "      <td>4.0</td>\n",
       "    </tr>\n",
       "    <tr>\n",
       "      <th>17</th>\n",
       "      <td>118</td>\n",
       "      <td>discv5_topicSearch</td>\n",
       "      <td>True</td>\n",
       "      <td>[3, 1, 118]</td>\n",
       "      <td>1665677834396</td>\n",
       "      <td>[b29c7be613d005398031189c840ca829db6a4fb211f88...</td>\n",
       "      <td>1665677834408</td>\n",
       "      <td>12</td>\n",
       "      <td>3.0</td>\n",
       "    </tr>\n",
       "    <tr>\n",
       "      <th>18</th>\n",
       "      <td>119</td>\n",
       "      <td>discv5_topicSearch</td>\n",
       "      <td>True</td>\n",
       "      <td>[1, 1, 119]</td>\n",
       "      <td>1665677834397</td>\n",
       "      <td>[7b27e1211f4743a23fe09b6c18370280c0acef5a508ef...</td>\n",
       "      <td>1665677834411</td>\n",
       "      <td>14</td>\n",
       "      <td>1.0</td>\n",
       "    </tr>\n",
       "    <tr>\n",
       "      <th>19</th>\n",
       "      <td>120</td>\n",
       "      <td>discv5_topicSearch</td>\n",
       "      <td>True</td>\n",
       "      <td>[4, 1, 120]</td>\n",
       "      <td>1665677834399</td>\n",
       "      <td>[26af1aed49f3fa42979da719a66dcc67d25fc32e7e2b3...</td>\n",
       "      <td>1665677834412</td>\n",
       "      <td>13</td>\n",
       "      <td>4.0</td>\n",
       "    </tr>\n",
       "  </tbody>\n",
       "</table>\n",
       "</div>"
      ],
      "text/plain": [
       "    opid                method  reply_received       params     start_time  \\\n",
       "0    101  discv5_registerTopic            True     [4, 101]  1665677823580   \n",
       "1    102  discv5_registerTopic            True     [3, 102]  1665677823710   \n",
       "2    103  discv5_registerTopic            True     [1, 103]  1665677823841   \n",
       "3    104  discv5_registerTopic            True     [1, 104]  1665677823853   \n",
       "4    105  discv5_registerTopic            True     [1, 105]  1665677823895   \n",
       "5    106  discv5_registerTopic            True     [1, 106]  1665677823927   \n",
       "6    107  discv5_registerTopic            True     [1, 107]  1665677824016   \n",
       "7    108  discv5_registerTopic            True     [3, 108]  1665677824144   \n",
       "8    109  discv5_registerTopic            True     [3, 109]  1665677824263   \n",
       "9    110  discv5_registerTopic            True     [4, 110]  1665677824357   \n",
       "10   111    discv5_topicSearch            True  [1, 1, 111]  1665677834371   \n",
       "11   112    discv5_topicSearch            True  [3, 1, 112]  1665677834374   \n",
       "12   113    discv5_topicSearch            True  [1, 1, 113]  1665677834375   \n",
       "13   114    discv5_topicSearch            True  [3, 1, 114]  1665677834381   \n",
       "14   115    discv5_topicSearch            True  [1, 1, 115]  1665677834391   \n",
       "15   116    discv5_topicSearch            True  [1, 1, 116]  1665677834392   \n",
       "16   117    discv5_topicSearch            True  [4, 1, 117]  1665677834394   \n",
       "17   118    discv5_topicSearch            True  [3, 1, 118]  1665677834396   \n",
       "18   119    discv5_topicSearch            True  [1, 1, 119]  1665677834397   \n",
       "19   120    discv5_topicSearch            True  [4, 1, 120]  1665677834399   \n",
       "\n",
       "                                               result       end_time  time  \\\n",
       "0                                                None  1665677823587     7   \n",
       "1                                                None  1665677823715     5   \n",
       "2                                                None  1665677823846     5   \n",
       "3                                                None  1665677823858     5   \n",
       "4                                                None  1665677823897     2   \n",
       "5                                                None  1665677823929     2   \n",
       "6                                                None  1665677824021     5   \n",
       "7                                                None  1665677824149     5   \n",
       "8                                                None  1665677824268     5   \n",
       "9                                                None  1665677824362     5   \n",
       "10  [7b27e1211f4743a23fe09b6c18370280c0acef5a508ef...  1665677834399    28   \n",
       "11  [b29c7be613d005398031189c840ca829db6a4fb211f88...  1665677834398    24   \n",
       "12  [7b27e1211f4743a23fe09b6c18370280c0acef5a508ef...  1665677834399    24   \n",
       "13  [7bf4fe5ba958402187f3b0dc7a54e836b4f92037dd330...  1665677834400    19   \n",
       "14  [b7e1002af9d2863aaff43696a9a2bb099cb1c17ff6489...  1665677834407    16   \n",
       "15  [7b27e1211f4743a23fe09b6c18370280c0acef5a508ef...  1665677834402    10   \n",
       "16  [0e9b9a1de242a64db8952ceb1a660a0b53cf2b5dd57df...  1665677834409    15   \n",
       "17  [b29c7be613d005398031189c840ca829db6a4fb211f88...  1665677834408    12   \n",
       "18  [7b27e1211f4743a23fe09b6c18370280c0acef5a508ef...  1665677834411    14   \n",
       "19  [26af1aed49f3fa42979da719a66dcc67d25fc32e7e2b3...  1665677834412    13   \n",
       "\n",
       "    topic  \n",
       "0     4.0  \n",
       "1     3.0  \n",
       "2     1.0  \n",
       "3     1.0  \n",
       "4     1.0  \n",
       "5     1.0  \n",
       "6     1.0  \n",
       "7     3.0  \n",
       "8     3.0  \n",
       "9     4.0  \n",
       "10    1.0  \n",
       "11    3.0  \n",
       "12    1.0  \n",
       "13    3.0  \n",
       "14    1.0  \n",
       "15    1.0  \n",
       "16    4.0  \n",
       "17    3.0  \n",
       "18    1.0  \n",
       "19    4.0  "
      ]
     },
     "execution_count": 1,
     "metadata": {},
     "output_type": "execute_result"
    }
   ],
   "source": [
    "from analyse_logs import *\n",
    "\n",
    "op_df = get_op_df(log_path)\n",
    "op_df\n"
   ]
  },
  {
   "cell_type": "code",
   "execution_count": 3,
   "metadata": {},
   "outputs": [
    {
     "data": {
      "text/plain": [
       "<AxesSubplot:title={'center':'Operation returned'}, ylabel='reply_received'>"
      ]
     },
     "execution_count": 3,
     "metadata": {},
     "output_type": "execute_result"
    },
    {
     "data": {
      "image/png": "[encoded data removed]",
      "text/plain": [
       "<Figure size 432x288 with 1 Axes>"
      ]
     },
     "metadata": {},
     "output_type": "display_data"
    }
   ],
   "source": [
    "op_df['reply_received'].value_counts().plot(kind = 'pie', autopct='%1.0f%%', legend=True, title='Operation returned')"
   ]
  },
  {
   "cell_type": "code",
   "execution_count": 4,
   "metadata": {},
   "outputs": [
    {
     "name": "stderr",
     "output_type": "stream",
     "text": [
      "/home/harnen/.local/lib/python3.10/site-packages/scipy/__init__.py:146: UserWarning: A NumPy version >=1.16.5 and <1.23.0 is required for this version of SciPy (detected version 1.23.3\n",
      "  warnings.warn(f\"A NumPy version >={np_minversion} and <{np_maxversion}\"\n"
     ]
    },
    {
     "data": {
      "text/plain": [
       "<AxesSubplot:xlabel='method', ylabel='time'>"
      ]
     },
     "execution_count": 4,
     "metadata": {},
     "output_type": "execute_result"
    },
    {
     "data": {
      "image/png": "[encoded data removed]",
      "text/plain": [
       "<Figure size 432x288 with 1 Axes>"
      ]
     },
     "metadata": {
      "needs_background": "light"
     },
     "output_type": "display_data"
    }
   ],
   "source": [
    "import matplotlib.pyplot as plt\n",
    "import seaborn as sns\n",
    "\n",
    "fig, axes = plt.subplots()\n",
    "df = op_df[~op_df['time'].isna()]\n",
    "df\n",
    "sns.violinplot(x='method',y='time', data=df, ax = axes, cut=0)\n",
    "#axes.set_title('Day Ahead Market')"
   ]
  },
  {
   "cell_type": "code",
   "execution_count": 6,
   "metadata": {},
   "outputs": [
    {
     "name": "stdout",
     "output_type": "stream",
     "text": [
      "Reading node-1.log\n",
      "Reading node-2.log\n"
     ]
    },
    {
     "data": {
      "text/html": [
       "<div>\n",
       "<style scoped>\n",
       "    .dataframe tbody tr th:only-of-type {\n",
       "        vertical-align: middle;\n",
       "    }\n",
       "\n",
       "    .dataframe tbody tr th {\n",
       "        vertical-align: top;\n",
       "    }\n",
       "\n",
       "    .dataframe thead th {\n",
       "        text-align: right;\n",
       "    }\n",
       "</style>\n",
       "<table border=\"1\" class=\"dataframe\">\n",
       "  <thead>\n",
       "    <tr style=\"text-align: right;\">\n",
       "      <th></th>\n",
       "      <th>node_id</th>\n",
       "      <th>peer_id</th>\n",
       "      <th>in_out</th>\n",
       "      <th>timestamp</th>\n",
       "      <th>msg_type</th>\n",
       "      <th>req_id</th>\n",
       "      <th>key</th>\n",
       "      <th>opid</th>\n",
       "      <th>topic</th>\n",
       "      <th>op_type</th>\n",
       "    </tr>\n",
       "  </thead>\n",
       "  <tbody>\n",
       "    <tr>\n",
       "      <th>112</th>\n",
       "      <td>1</td>\n",
       "      <td>2</td>\n",
       "      <td>out</td>\n",
       "      <td>2022-10-13 17:17:03.844811+01:00</td>\n",
       "      <td>FINDNODE/v5</td>\n",
       "      <td>0x1c34021a534677ad</td>\n",
       "      <td>NaN</td>\n",
       "      <td>103.0</td>\n",
       "      <td>1.0</td>\n",
       "      <td>discv5_registerTopic</td>\n",
       "    </tr>\n",
       "    <tr>\n",
       "      <th>222</th>\n",
       "      <td>2</td>\n",
       "      <td>1</td>\n",
       "      <td>out</td>\n",
       "      <td>2022-10-13 17:17:03.845087+01:00</td>\n",
       "      <td>NODES/v5</td>\n",
       "      <td>0x1c34021a534677ad</td>\n",
       "      <td>NaN</td>\n",
       "      <td>103.0</td>\n",
       "      <td>1.0</td>\n",
       "      <td>discv5_registerTopic</td>\n",
       "    </tr>\n",
       "    <tr>\n",
       "      <th>223</th>\n",
       "      <td>2</td>\n",
       "      <td>1</td>\n",
       "      <td>out</td>\n",
       "      <td>2022-10-13 17:17:03.845188+01:00</td>\n",
       "      <td>NODES/v5</td>\n",
       "      <td>0x1c34021a534677ad</td>\n",
       "      <td>NaN</td>\n",
       "      <td>103.0</td>\n",
       "      <td>1.0</td>\n",
       "      <td>discv5_registerTopic</td>\n",
       "    </tr>\n",
       "    <tr>\n",
       "      <th>246</th>\n",
       "      <td>2</td>\n",
       "      <td>9</td>\n",
       "      <td>out</td>\n",
       "      <td>2022-10-13 17:17:04.148012+01:00</td>\n",
       "      <td>FINDNODE/v5</td>\n",
       "      <td>0xe98ac2aedd00f686</td>\n",
       "      <td>NaN</td>\n",
       "      <td>108.0</td>\n",
       "      <td>3.0</td>\n",
       "      <td>discv5_registerTopic</td>\n",
       "    </tr>\n",
       "    <tr>\n",
       "      <th>247</th>\n",
       "      <td>2</td>\n",
       "      <td>6</td>\n",
       "      <td>out</td>\n",
       "      <td>2022-10-13 17:17:04.148171+01:00</td>\n",
       "      <td>FINDNODE/v5</td>\n",
       "      <td>0xcb638eedd17a4f40</td>\n",
       "      <td>NaN</td>\n",
       "      <td>108.0</td>\n",
       "      <td>3.0</td>\n",
       "      <td>discv5_registerTopic</td>\n",
       "    </tr>\n",
       "    <tr>\n",
       "      <th>248</th>\n",
       "      <td>2</td>\n",
       "      <td>3</td>\n",
       "      <td>out</td>\n",
       "      <td>2022-10-13 17:17:04.148287+01:00</td>\n",
       "      <td>FINDNODE/v5</td>\n",
       "      <td>0x366b39aa2047aea0</td>\n",
       "      <td>NaN</td>\n",
       "      <td>108.0</td>\n",
       "      <td>3.0</td>\n",
       "      <td>discv5_registerTopic</td>\n",
       "    </tr>\n",
       "    <tr>\n",
       "      <th>252</th>\n",
       "      <td>2</td>\n",
       "      <td>6</td>\n",
       "      <td>out</td>\n",
       "      <td>2022-10-13 17:17:04.149150+01:00</td>\n",
       "      <td>REGTOPIC/v5</td>\n",
       "      <td>0x8cfd73a8c5f4c7ea</td>\n",
       "      <td>3.0</td>\n",
       "      <td>108.0</td>\n",
       "      <td>3.0</td>\n",
       "      <td>discv5_registerTopic</td>\n",
       "    </tr>\n",
       "    <tr>\n",
       "      <th>253</th>\n",
       "      <td>2</td>\n",
       "      <td>4</td>\n",
       "      <td>out</td>\n",
       "      <td>2022-10-13 17:17:04.149250+01:00</td>\n",
       "      <td>FINDNODE/v5</td>\n",
       "      <td>0xb0972a22267c6ca7</td>\n",
       "      <td>NaN</td>\n",
       "      <td>108.0</td>\n",
       "      <td>3.0</td>\n",
       "      <td>discv5_registerTopic</td>\n",
       "    </tr>\n",
       "    <tr>\n",
       "      <th>254</th>\n",
       "      <td>2</td>\n",
       "      <td>5</td>\n",
       "      <td>out</td>\n",
       "      <td>2022-10-13 17:17:04.149404+01:00</td>\n",
       "      <td>FINDNODE/v5</td>\n",
       "      <td>0x421008036e96ff2e</td>\n",
       "      <td>NaN</td>\n",
       "      <td>108.0</td>\n",
       "      <td>3.0</td>\n",
       "      <td>discv5_registerTopic</td>\n",
       "    </tr>\n",
       "    <tr>\n",
       "      <th>255</th>\n",
       "      <td>2</td>\n",
       "      <td>8</td>\n",
       "      <td>out</td>\n",
       "      <td>2022-10-13 17:17:04.149507+01:00</td>\n",
       "      <td>FINDNODE/v5</td>\n",
       "      <td>0x5566de30ea23882a</td>\n",
       "      <td>NaN</td>\n",
       "      <td>108.0</td>\n",
       "      <td>3.0</td>\n",
       "      <td>discv5_registerTopic</td>\n",
       "    </tr>\n",
       "    <tr>\n",
       "      <th>264</th>\n",
       "      <td>2</td>\n",
       "      <td>3</td>\n",
       "      <td>out</td>\n",
       "      <td>2022-10-13 17:17:04.151262+01:00</td>\n",
       "      <td>REGTOPIC/v5</td>\n",
       "      <td>0x996fbcd22e984780</td>\n",
       "      <td>3.0</td>\n",
       "      <td>108.0</td>\n",
       "      <td>3.0</td>\n",
       "      <td>discv5_registerTopic</td>\n",
       "    </tr>\n",
       "    <tr>\n",
       "      <th>266</th>\n",
       "      <td>2</td>\n",
       "      <td>9</td>\n",
       "      <td>out</td>\n",
       "      <td>2022-10-13 17:17:04.152183+01:00</td>\n",
       "      <td>REGTOPIC/v5</td>\n",
       "      <td>0x8dbad8506b56f193</td>\n",
       "      <td>3.0</td>\n",
       "      <td>108.0</td>\n",
       "      <td>3.0</td>\n",
       "      <td>discv5_registerTopic</td>\n",
       "    </tr>\n",
       "    <tr>\n",
       "      <th>267</th>\n",
       "      <td>2</td>\n",
       "      <td>10</td>\n",
       "      <td>out</td>\n",
       "      <td>2022-10-13 17:17:04.152302+01:00</td>\n",
       "      <td>FINDNODE/v5</td>\n",
       "      <td>0xce1c5a672017c80b</td>\n",
       "      <td>NaN</td>\n",
       "      <td>108.0</td>\n",
       "      <td>3.0</td>\n",
       "      <td>discv5_registerTopic</td>\n",
       "    </tr>\n",
       "    <tr>\n",
       "      <th>268</th>\n",
       "      <td>2</td>\n",
       "      <td>7</td>\n",
       "      <td>out</td>\n",
       "      <td>2022-10-13 17:17:04.152558+01:00</td>\n",
       "      <td>FINDNODE/v5</td>\n",
       "      <td>0xfa7a6146717f190e</td>\n",
       "      <td>NaN</td>\n",
       "      <td>108.0</td>\n",
       "      <td>3.0</td>\n",
       "      <td>discv5_registerTopic</td>\n",
       "    </tr>\n",
       "    <tr>\n",
       "      <th>269</th>\n",
       "      <td>2</td>\n",
       "      <td>1</td>\n",
       "      <td>out</td>\n",
       "      <td>2022-10-13 17:17:04.152660+01:00</td>\n",
       "      <td>FINDNODE/v5</td>\n",
       "      <td>0x37ea7d4b90b8ad8a</td>\n",
       "      <td>NaN</td>\n",
       "      <td>108.0</td>\n",
       "      <td>3.0</td>\n",
       "      <td>discv5_registerTopic</td>\n",
       "    </tr>\n",
       "    <tr>\n",
       "      <th>275</th>\n",
       "      <td>2</td>\n",
       "      <td>4</td>\n",
       "      <td>out</td>\n",
       "      <td>2022-10-13 17:17:04.154131+01:00</td>\n",
       "      <td>REGTOPIC/v5</td>\n",
       "      <td>0xd588487145c1a7ed</td>\n",
       "      <td>3.0</td>\n",
       "      <td>108.0</td>\n",
       "      <td>3.0</td>\n",
       "      <td>discv5_registerTopic</td>\n",
       "    </tr>\n",
       "  </tbody>\n",
       "</table>\n",
       "</div>"
      ],
      "text/plain": [
       "    node_id  peer_id in_out                        timestamp     msg_type  \\\n",
       "112       1        2    out 2022-10-13 17:17:03.844811+01:00  FINDNODE/v5   \n",
       "222       2        1    out 2022-10-13 17:17:03.845087+01:00     NODES/v5   \n",
       "223       2        1    out 2022-10-13 17:17:03.845188+01:00     NODES/v5   \n",
       "246       2        9    out 2022-10-13 17:17:04.148012+01:00  FINDNODE/v5   \n",
       "247       2        6    out 2022-10-13 17:17:04.148171+01:00  FINDNODE/v5   \n",
       "248       2        3    out 2022-10-13 17:17:04.148287+01:00  FINDNODE/v5   \n",
       "252       2        6    out 2022-10-13 17:17:04.149150+01:00  REGTOPIC/v5   \n",
       "253       2        4    out 2022-10-13 17:17:04.149250+01:00  FINDNODE/v5   \n",
       "254       2        5    out 2022-10-13 17:17:04.149404+01:00  FINDNODE/v5   \n",
       "255       2        8    out 2022-10-13 17:17:04.149507+01:00  FINDNODE/v5   \n",
       "264       2        3    out 2022-10-13 17:17:04.151262+01:00  REGTOPIC/v5   \n",
       "266       2        9    out 2022-10-13 17:17:04.152183+01:00  REGTOPIC/v5   \n",
       "267       2       10    out 2022-10-13 17:17:04.152302+01:00  FINDNODE/v5   \n",
       "268       2        7    out 2022-10-13 17:17:04.152558+01:00  FINDNODE/v5   \n",
       "269       2        1    out 2022-10-13 17:17:04.152660+01:00  FINDNODE/v5   \n",
       "275       2        4    out 2022-10-13 17:17:04.154131+01:00  REGTOPIC/v5   \n",
       "\n",
       "                 req_id  key   opid  topic               op_type  \n",
       "112  0x1c34021a534677ad  NaN  103.0    1.0  discv5_registerTopic  \n",
       "222  0x1c34021a534677ad  NaN  103.0    1.0  discv5_registerTopic  \n",
       "223  0x1c34021a534677ad  NaN  103.0    1.0  discv5_registerTopic  \n",
       "246  0xe98ac2aedd00f686  NaN  108.0    3.0  discv5_registerTopic  \n",
       "247  0xcb638eedd17a4f40  NaN  108.0    3.0  discv5_registerTopic  \n",
       "248  0x366b39aa2047aea0  NaN  108.0    3.0  discv5_registerTopic  \n",
       "252  0x8cfd73a8c5f4c7ea  3.0  108.0    3.0  discv5_registerTopic  \n",
       "253  0xb0972a22267c6ca7  NaN  108.0    3.0  discv5_registerTopic  \n",
       "254  0x421008036e96ff2e  NaN  108.0    3.0  discv5_registerTopic  \n",
       "255  0x5566de30ea23882a  NaN  108.0    3.0  discv5_registerTopic  \n",
       "264  0x996fbcd22e984780  3.0  108.0    3.0  discv5_registerTopic  \n",
       "266  0x8dbad8506b56f193  3.0  108.0    3.0  discv5_registerTopic  \n",
       "267  0xce1c5a672017c80b  NaN  108.0    3.0  discv5_registerTopic  \n",
       "268  0xfa7a6146717f190e  NaN  108.0    3.0  discv5_registerTopic  \n",
       "269  0x37ea7d4b90b8ad8a  NaN  108.0    3.0  discv5_registerTopic  \n",
       "275  0xd588487145c1a7ed  3.0  108.0    3.0  discv5_registerTopic  "
      ]
     },
     "execution_count": 6,
     "metadata": {},
     "output_type": "execute_result"
    }
   ],
   "source": [
    "from analyse_logs import *\n",
    "\n",
    "msg_df = get_msg_df(log_path, op_df)\n",
    "msg_df"
   ]
  },
  {
   "cell_type": "code",
   "execution_count": 7,
   "metadata": {},
   "outputs": [],
   "source": [
    "#set the missing opids and op_types to all the messages being part of operations\n",
    "#print(msg_df)\n",
    "#for opid in set([i for i in op_df['opid']]):\n",
    "#    print(opid)\n",
    "#    op_type = op_df.loc[op_df['opid'] == opid, 'method'].values[0]\n",
    "#    topic = op_df.loc[op_df['opid'] == opid, 'topic'].values[0]\n",
    "#    for req_id in set([i for i in msg_df[msg_df['opid'] == opid]['req_id']]):\n",
    "#        msg_df.loc[msg_df[\"req_id\"] == req_id, \"opid\"] = opid\n",
    "#        msg_df.loc[msg_df['req_id'] == req_id, 'op_type'] = op_type\n",
    "#        msg_df.loc[msg_df['req_id'] == req_id, 'topic'] = topic\n",
    "\n",
    "\n",
    "# TODO: this is very slow now! \n",
    "#msg_df"
   ]
  },
  {
   "cell_type": "code",
   "execution_count": 9,
   "metadata": {},
   "outputs": [
    {
     "name": "stdout",
     "output_type": "stream",
     "text": [
      "discv5_registerTopic\n",
      "\t discv5_registerTopic\n",
      "\t\t FINDNODE/v5 1\n",
      "\t\t NODES/v5 2\n",
      "\t discv5_registerTopic\n",
      "\t\t FINDNODE/v5 9\n",
      "\t\t REGTOPIC/v5 4\n"
     ]
    },
    {
     "data": {
      "image/png": "[encoded data removed]",
      "text/plain": [
       "<Figure size 432x288 with 1 Axes>"
      ]
     },
     "metadata": {
      "needs_background": "light"
     },
     "output_type": "display_data"
    }
   ],
   "source": [
    "from matplotlib.lines import Line2D\n",
    "\n",
    "msg_df = msg_df.dropna(subset=['opid'])\n",
    "\n",
    "colors = ['red', 'green', 'blue', 'yellow']\n",
    "for op_type, group_op_type in msg_df.groupby('op_type'):\n",
    "    #if(op_type != 'discv5_registerTopic'):\n",
    "        #continue\n",
    "    print(op_type)\n",
    "    fig, ax = plt.subplots()\n",
    "    legend_elements = []\n",
    "    added = set()\n",
    "    for opid, group_opid in group_op_type.groupby('opid'):\n",
    "        print(\"\\t\", op_type)\n",
    "        i = 0\n",
    "        sum = 0\n",
    "        for msg_type, group_msg_type in group_opid.groupby('msg_type'):\n",
    "            val = len(group_msg_type)\n",
    "            ax.bar(opid, val, color=colors[i], bottom = sum)\n",
    "            sum += val\n",
    "            print(\"\\t\\t\", msg_type, len(group_msg_type))\n",
    "            if(msg_type not in added):\n",
    "                added.add(msg_type)\n",
    "                legend_elements.append(Line2D([0], [0], color=colors[i], lw=4, label=msg_type))\n",
    "            i += 1\n",
    "    ax.legend(handles=legend_elements)\n",
    "    ax.set_title(op_type)\n",
    "plt.show()"
   ]
  },
  {
   "cell_type": "code",
   "execution_count": 10,
   "metadata": {},
   "outputs": [
    {
     "data": {
      "text/plain": [
       "<AxesSubplot:title={'center':'Msgs sent/received'}, ylabel='in_out'>"
      ]
     },
     "execution_count": 10,
     "metadata": {},
     "output_type": "execute_result"
    },
    {
     "data": {
      "image/png": "[encoded data removed]",
      "text/plain": [
       "<Figure size 432x288 with 1 Axes>"
      ]
     },
     "metadata": {},
     "output_type": "display_data"
    }
   ],
   "source": [
    "msg_df['in_out'].value_counts().plot(kind='pie', autopct='%1.0f%%', legend=True, title='Msgs sent/received')"
   ]
  },
  {
   "cell_type": "code",
   "execution_count": 11,
   "metadata": {},
   "outputs": [
    {
     "data": {
      "text/plain": [
       "Text(0, 0.5, '#Messages')"
      ]
     },
     "execution_count": 11,
     "metadata": {},
     "output_type": "execute_result"
    },
    {
     "data": {
      "image/png": "[encoded data removed]",
      "text/plain": [
       "<Figure size 432x288 with 1 Axes>"
      ]
     },
     "metadata": {
      "needs_background": "light"
     },
     "output_type": "display_data"
    }
   ],
   "source": [
    "import matplotlib.pyplot as plt\n",
    "\n",
    "sent = msg_df[msg_df['in_out'] == 'out']['node_id'].value_counts().to_dict()\n",
    "sent = {int(k):int(v) for k,v in sent.items()} #convert IDs to int\n",
    "\n",
    "received = msg_df[msg_df['in_out'] == 'out']['peer_id'].value_counts().to_dict()\n",
    "received = {int(k):int(v) for k,v in received.items()} #convert IDs to int\n",
    "\n",
    "width =0.3\n",
    "plt.bar(sent.keys(), sent.values(), width=width, label = 'sent')\n",
    "plt.bar([x + width for x in received.keys()], received.values(), width=width, label = 'received')\n",
    "plt.legend()\n",
    "plt.title('Messages exchanged')\n",
    "plt.xlabel('Node ID')\n",
    "plt.ylabel('#Messages')"
   ]
  },
  {
   "cell_type": "code",
   "execution_count": 13,
   "metadata": {},
   "outputs": [
    {
     "data": {
      "text/plain": [
       "<AxesSubplot:xlabel='in_out', ylabel='count'>"
      ]
     },
     "execution_count": 13,
     "metadata": {},
     "output_type": "execute_result"
    },
    {
     "data": {
      "image/png": "[encoded data removed]",
      "text/plain": [
       "<Figure size 432x288 with 1 Axes>"
      ]
     },
     "metadata": {
      "needs_background": "light"
     },
     "output_type": "display_data"
    }
   ],
   "source": [
    "import matplotlib.pyplot as plt\n",
    "import seaborn as sns\n",
    "\n",
    "fig, axes = plt.subplots()\n",
    "df_in = msg_df[msg_df['in_out']=='in']['node_id'].value_counts().rename_axis('node_id').reset_index(name='count')\n",
    "df_in['in_out'] = 'in'\n",
    "df_out = msg_df[msg_df['in_out']=='out']['node_id'].value_counts().rename_axis('node_id').reset_index(name='count')\n",
    "df_out['in_out'] = 'out'\n",
    "\n",
    "df = pd.concat([df_in, df_out], axis=0)\n",
    "sns.violinplot(x='in_out', y='count', data=df, ax = axes, cut=0, title='#Msg received/sent distribution per node')"
   ]
  },
  {
   "cell_type": "code",
   "execution_count": 14,
   "metadata": {},
   "outputs": [
    {
     "data": {
      "text/plain": [
       "<AxesSubplot:>"
      ]
     },
     "execution_count": 14,
     "metadata": {},
     "output_type": "execute_result"
    },
    {
     "data": {
      "image/png": "[encoded data removed]",
      "text/plain": [
       "<Figure size 432x288 with 1 Axes>"
      ]
     },
     "metadata": {
      "needs_background": "light"
     },
     "output_type": "display_data"
    }
   ],
   "source": [
    "msg_df['msg_type'].value_counts().plot(kind='bar')"
   ]
  },
  {
   "cell_type": "code",
   "execution_count": 15,
   "metadata": {},
   "outputs": [
    {
     "name": "stdout",
     "output_type": "stream",
     "text": [
      "discv5_registerTopic\n"
     ]
    },
    {
     "data": {
      "image/png": "[encoded data removed]",
      "text/plain": [
       "<Figure size 432x288 with 1 Axes>"
      ]
     },
     "metadata": {
      "needs_background": "light"
     },
     "output_type": "display_data"
    }
   ],
   "source": [
    "import numpy as np\n",
    "import math\n",
    "import hashlib\n",
    "\n",
    "for op_type, group_op_type in msg_df.groupby('op_type'):\n",
    "    print(op_type)\n",
    "    fig, ax = plt.subplots()\n",
    "    group_op_type['topic'].value_counts().plot(kind='bar', title=op_type)\n",
    "    ax.set_ylabel(\"#Messages\")\n",
    "\n"
   ]
  },
  {
   "cell_type": "code",
   "execution_count": 16,
   "metadata": {},
   "outputs": [
    {
     "data": {
      "text/plain": [
       "[<matplotlib.axis.YTick at 0x7f566a98b1f0>,\n",
       " <matplotlib.axis.YTick at 0x7f566a98add0>,\n",
       " <matplotlib.axis.YTick at 0x7f566a999f60>,\n",
       " <matplotlib.axis.YTick at 0x7f566a9cd3c0>,\n",
       " <matplotlib.axis.YTick at 0x7f566a9cd8d0>,\n",
       " <matplotlib.axis.YTick at 0x7f566a9cdde0>]"
      ]
     },
     "execution_count": 16,
     "metadata": {},
     "output_type": "execute_result"
    },
    {
     "data": {
      "image/png": "[encoded data removed]",
      "text/plain": [
       "<Figure size 432x288 with 1 Axes>"
      ]
     },
     "metadata": {
      "needs_background": "light"
     },
     "output_type": "display_data"
    }
   ],
   "source": [
    "op_df_exploded = op_df.copy()\n",
    "op_df_exploded = op_df_exploded.explode('result')\n",
    "fig, axes = plt.subplots()\n",
    "op_df_exploded['result'].value_counts().plot(ax = axes,kind='bar')\n",
    "axes.set_xticklabels([])\n",
    "axes.set_xlabel(\"Discovered Nodes\")\n",
    "axes.set_ylabel(\"Count\")\n",
    "axes.set_yticks(list(op_df_exploded['result'].value_counts()))"
   ]
  },
  {
   "cell_type": "code",
   "execution_count": 17,
   "metadata": {},
   "outputs": [
    {
     "data": {
      "text/plain": [
       "[<matplotlib.axis.YTick at 0x7f566a99a1a0>,\n",
       " <matplotlib.axis.YTick at 0x7f566abb36d0>,\n",
       " <matplotlib.axis.YTick at 0x7f566a9ecc70>,\n",
       " <matplotlib.axis.YTick at 0x7f566a816e30>,\n",
       " <matplotlib.axis.YTick at 0x7f566a844490>,\n",
       " <matplotlib.axis.YTick at 0x7f566a8453c0>,\n",
       " <matplotlib.axis.YTick at 0x7f566a8458d0>,\n",
       " <matplotlib.axis.YTick at 0x7f566a845de0>,\n",
       " <matplotlib.axis.YTick at 0x7f566a8462f0>,\n",
       " <matplotlib.axis.YTick at 0x7f566a846800>]"
      ]
     },
     "execution_count": 17,
     "metadata": {},
     "output_type": "execute_result"
    },
    {
     "data": {
      "image/png": "[encoded data removed]",
      "text/plain": [
       "<Figure size 432x288 with 1 Axes>"
      ]
     },
     "metadata": {
      "needs_background": "light"
     },
     "output_type": "display_data"
    }
   ],
   "source": [
    "op_df_droppedNone = op_df_exploded.dropna(subset=['result'])\n",
    "fig, axes = plt.subplots()\n",
    "op_df_droppedNone['opid'].value_counts().plot(ax=axes, kind='bar')\n",
    "axes.set_xlabel(\"Topic search operation\")\n",
    "axes.set_ylabel(\"Number of results\")\n",
    "axes.set_yticks(list(op_df_droppedNone['opid'].value_counts()))"
   ]
  }
 ],
 "metadata": {
  "kernelspec": {
   "display_name": "Python 3",
   "language": "python",
   "name": "python3"
  },
  "language_info": {
   "codemirror_mode": {
    "name": "ipython",
    "version": 3
   },
   "file_extension": ".py",
   "mimetype": "text/x-python",
   "name": "python",
   "nbconvert_exporter": "python",
   "pygments_lexer": "ipython3",
   "version": "3.6.10"
  },
  "vscode": {
   "interpreter": {
    "hash": "916dbcbb3f70747c44a77c7bcd40155683ae19c65e1c03b4aa3499c5328201f1"
   }
  }
 },
 "nbformat": 4,
 "nbformat_minor": 2
}
