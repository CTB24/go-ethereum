{
 "cells": [
  {
   "cell_type": "code",
   "execution_count": 1,
   "metadata": {},
   "outputs": [
    {
     "data": {
      "text/html": [
       "<div>\n",
       "<style scoped>\n",
       "    .dataframe tbody tr th:only-of-type {\n",
       "        vertical-align: middle;\n",
       "    }\n",
       "\n",
       "    .dataframe tbody tr th {\n",
       "        vertical-align: top;\n",
       "    }\n",
       "\n",
       "    .dataframe thead th {\n",
       "        text-align: right;\n",
       "    }\n",
       "</style>\n",
       "<table border=\"1\" class=\"dataframe\">\n",
       "  <thead>\n",
       "    <tr style=\"text-align: right;\">\n",
       "      <th></th>\n",
       "      <th>opid</th>\n",
       "      <th>method</th>\n",
       "      <th>reply_received</th>\n",
       "      <th>params</th>\n",
       "      <th>start_time</th>\n",
       "      <th>result</th>\n",
       "      <th>end_time</th>\n",
       "      <th>time</th>\n",
       "      <th>topic</th>\n",
       "    </tr>\n",
       "  </thead>\n",
       "  <tbody>\n",
       "    <tr>\n",
       "      <th>0</th>\n",
       "      <td>101</td>\n",
       "      <td>discv5_registerTopic</td>\n",
       "      <td>True</td>\n",
       "      <td>[1, 101]</td>\n",
       "      <td>1665753040798</td>\n",
       "      <td>None</td>\n",
       "      <td>1665753040805</td>\n",
       "      <td>7</td>\n",
       "      <td>1.0</td>\n",
       "    </tr>\n",
       "    <tr>\n",
       "      <th>1</th>\n",
       "      <td>102</td>\n",
       "      <td>discv5_registerTopic</td>\n",
       "      <td>True</td>\n",
       "      <td>[2, 102]</td>\n",
       "      <td>1665753040807</td>\n",
       "      <td>None</td>\n",
       "      <td>1665753040811</td>\n",
       "      <td>4</td>\n",
       "      <td>2.0</td>\n",
       "    </tr>\n",
       "    <tr>\n",
       "      <th>2</th>\n",
       "      <td>103</td>\n",
       "      <td>discv5_registerTopic</td>\n",
       "      <td>True</td>\n",
       "      <td>[1, 103]</td>\n",
       "      <td>1665753041127</td>\n",
       "      <td>None</td>\n",
       "      <td>1665753041132</td>\n",
       "      <td>5</td>\n",
       "      <td>1.0</td>\n",
       "    </tr>\n",
       "    <tr>\n",
       "      <th>3</th>\n",
       "      <td>104</td>\n",
       "      <td>discv5_registerTopic</td>\n",
       "      <td>True</td>\n",
       "      <td>[1, 104]</td>\n",
       "      <td>1665753041169</td>\n",
       "      <td>None</td>\n",
       "      <td>1665753041174</td>\n",
       "      <td>5</td>\n",
       "      <td>1.0</td>\n",
       "    </tr>\n",
       "    <tr>\n",
       "      <th>4</th>\n",
       "      <td>105</td>\n",
       "      <td>discv5_registerTopic</td>\n",
       "      <td>True</td>\n",
       "      <td>[1, 105]</td>\n",
       "      <td>1665753041211</td>\n",
       "      <td>None</td>\n",
       "      <td>1665753041215</td>\n",
       "      <td>4</td>\n",
       "      <td>1.0</td>\n",
       "    </tr>\n",
       "    <tr>\n",
       "      <th>5</th>\n",
       "      <td>106</td>\n",
       "      <td>discv5_registerTopic</td>\n",
       "      <td>True</td>\n",
       "      <td>[1, 106]</td>\n",
       "      <td>1665753041310</td>\n",
       "      <td>None</td>\n",
       "      <td>1665753041315</td>\n",
       "      <td>5</td>\n",
       "      <td>1.0</td>\n",
       "    </tr>\n",
       "    <tr>\n",
       "      <th>6</th>\n",
       "      <td>107</td>\n",
       "      <td>discv5_registerTopic</td>\n",
       "      <td>True</td>\n",
       "      <td>[2, 107]</td>\n",
       "      <td>1665753041474</td>\n",
       "      <td>None</td>\n",
       "      <td>1665753041478</td>\n",
       "      <td>4</td>\n",
       "      <td>2.0</td>\n",
       "    </tr>\n",
       "    <tr>\n",
       "      <th>7</th>\n",
       "      <td>108</td>\n",
       "      <td>discv5_registerTopic</td>\n",
       "      <td>True</td>\n",
       "      <td>[1, 108]</td>\n",
       "      <td>1665753041515</td>\n",
       "      <td>None</td>\n",
       "      <td>1665753041520</td>\n",
       "      <td>5</td>\n",
       "      <td>1.0</td>\n",
       "    </tr>\n",
       "    <tr>\n",
       "      <th>8</th>\n",
       "      <td>109</td>\n",
       "      <td>discv5_registerTopic</td>\n",
       "      <td>True</td>\n",
       "      <td>[2, 109]</td>\n",
       "      <td>1665753041799</td>\n",
       "      <td>None</td>\n",
       "      <td>1665753041804</td>\n",
       "      <td>5</td>\n",
       "      <td>2.0</td>\n",
       "    </tr>\n",
       "    <tr>\n",
       "      <th>9</th>\n",
       "      <td>110</td>\n",
       "      <td>discv5_registerTopic</td>\n",
       "      <td>True</td>\n",
       "      <td>[2, 110]</td>\n",
       "      <td>1665753041884</td>\n",
       "      <td>None</td>\n",
       "      <td>1665753041887</td>\n",
       "      <td>3</td>\n",
       "      <td>2.0</td>\n",
       "    </tr>\n",
       "    <tr>\n",
       "      <th>10</th>\n",
       "      <td>111</td>\n",
       "      <td>discv5_topicSearch</td>\n",
       "      <td>True</td>\n",
       "      <td>[1, 1, 111]</td>\n",
       "      <td>1665753051896</td>\n",
       "      <td>[26af1aed49f3fa42979da719a66dcc67d25fc32e7e2b3...</td>\n",
       "      <td>1665753051921</td>\n",
       "      <td>25</td>\n",
       "      <td>1.0</td>\n",
       "    </tr>\n",
       "    <tr>\n",
       "      <th>11</th>\n",
       "      <td>112</td>\n",
       "      <td>discv5_topicSearch</td>\n",
       "      <td>True</td>\n",
       "      <td>[1, 1, 112]</td>\n",
       "      <td>1665753051899</td>\n",
       "      <td>[26af1aed49f3fa42979da719a66dcc67d25fc32e7e2b3...</td>\n",
       "      <td>1665753051922</td>\n",
       "      <td>23</td>\n",
       "      <td>1.0</td>\n",
       "    </tr>\n",
       "    <tr>\n",
       "      <th>12</th>\n",
       "      <td>113</td>\n",
       "      <td>discv5_topicSearch</td>\n",
       "      <td>True</td>\n",
       "      <td>[1, 1, 113]</td>\n",
       "      <td>1665753051903</td>\n",
       "      <td>[26af1aed49f3fa42979da719a66dcc67d25fc32e7e2b3...</td>\n",
       "      <td>1665753051927</td>\n",
       "      <td>24</td>\n",
       "      <td>1.0</td>\n",
       "    </tr>\n",
       "    <tr>\n",
       "      <th>13</th>\n",
       "      <td>114</td>\n",
       "      <td>discv5_topicSearch</td>\n",
       "      <td>True</td>\n",
       "      <td>[2, 1, 114]</td>\n",
       "      <td>1665753051904</td>\n",
       "      <td>[7bf4fe5ba958402187f3b0dc7a54e836b4f92037dd330...</td>\n",
       "      <td>1665753051929</td>\n",
       "      <td>25</td>\n",
       "      <td>2.0</td>\n",
       "    </tr>\n",
       "    <tr>\n",
       "      <th>14</th>\n",
       "      <td>115</td>\n",
       "      <td>discv5_topicSearch</td>\n",
       "      <td>True</td>\n",
       "      <td>[2, 1, 115]</td>\n",
       "      <td>1665753051907</td>\n",
       "      <td>[7bf4fe5ba958402187f3b0dc7a54e836b4f92037dd330...</td>\n",
       "      <td>1665753051935</td>\n",
       "      <td>28</td>\n",
       "      <td>2.0</td>\n",
       "    </tr>\n",
       "    <tr>\n",
       "      <th>15</th>\n",
       "      <td>116</td>\n",
       "      <td>discv5_topicSearch</td>\n",
       "      <td>True</td>\n",
       "      <td>[1, 1, 116]</td>\n",
       "      <td>1665753051909</td>\n",
       "      <td>[26af1aed49f3fa42979da719a66dcc67d25fc32e7e2b3...</td>\n",
       "      <td>1665753051927</td>\n",
       "      <td>18</td>\n",
       "      <td>1.0</td>\n",
       "    </tr>\n",
       "    <tr>\n",
       "      <th>16</th>\n",
       "      <td>117</td>\n",
       "      <td>discv5_topicSearch</td>\n",
       "      <td>True</td>\n",
       "      <td>[1, 1, 117]</td>\n",
       "      <td>1665753051909</td>\n",
       "      <td>[b61aa6f401326819c97e5b6016aff00cd3802460d771a...</td>\n",
       "      <td>1665753051934</td>\n",
       "      <td>25</td>\n",
       "      <td>1.0</td>\n",
       "    </tr>\n",
       "    <tr>\n",
       "      <th>17</th>\n",
       "      <td>118</td>\n",
       "      <td>discv5_topicSearch</td>\n",
       "      <td>True</td>\n",
       "      <td>[2, 1, 118]</td>\n",
       "      <td>1665753051922</td>\n",
       "      <td>[b29c7be613d005398031189c840ca829db6a4fb211f88...</td>\n",
       "      <td>1665753051938</td>\n",
       "      <td>16</td>\n",
       "      <td>2.0</td>\n",
       "    </tr>\n",
       "    <tr>\n",
       "      <th>18</th>\n",
       "      <td>119</td>\n",
       "      <td>discv5_topicSearch</td>\n",
       "      <td>True</td>\n",
       "      <td>[1, 1, 119]</td>\n",
       "      <td>1665753051922</td>\n",
       "      <td>[26af1aed49f3fa42979da719a66dcc67d25fc32e7e2b3...</td>\n",
       "      <td>1665753051939</td>\n",
       "      <td>17</td>\n",
       "      <td>1.0</td>\n",
       "    </tr>\n",
       "    <tr>\n",
       "      <th>19</th>\n",
       "      <td>120</td>\n",
       "      <td>discv5_topicSearch</td>\n",
       "      <td>True</td>\n",
       "      <td>[2, 1, 120]</td>\n",
       "      <td>1665753051924</td>\n",
       "      <td>[7bf4fe5ba958402187f3b0dc7a54e836b4f92037dd330...</td>\n",
       "      <td>1665753051939</td>\n",
       "      <td>15</td>\n",
       "      <td>2.0</td>\n",
       "    </tr>\n",
       "  </tbody>\n",
       "</table>\n",
       "</div>"
      ],
      "text/plain": [
       "    opid                method  reply_received       params     start_time  \\\n",
       "0    101  discv5_registerTopic            True     [1, 101]  1665753040798   \n",
       "1    102  discv5_registerTopic            True     [2, 102]  1665753040807   \n",
       "2    103  discv5_registerTopic            True     [1, 103]  1665753041127   \n",
       "3    104  discv5_registerTopic            True     [1, 104]  1665753041169   \n",
       "4    105  discv5_registerTopic            True     [1, 105]  1665753041211   \n",
       "5    106  discv5_registerTopic            True     [1, 106]  1665753041310   \n",
       "6    107  discv5_registerTopic            True     [2, 107]  1665753041474   \n",
       "7    108  discv5_registerTopic            True     [1, 108]  1665753041515   \n",
       "8    109  discv5_registerTopic            True     [2, 109]  1665753041799   \n",
       "9    110  discv5_registerTopic            True     [2, 110]  1665753041884   \n",
       "10   111    discv5_topicSearch            True  [1, 1, 111]  1665753051896   \n",
       "11   112    discv5_topicSearch            True  [1, 1, 112]  1665753051899   \n",
       "12   113    discv5_topicSearch            True  [1, 1, 113]  1665753051903   \n",
       "13   114    discv5_topicSearch            True  [2, 1, 114]  1665753051904   \n",
       "14   115    discv5_topicSearch            True  [2, 1, 115]  1665753051907   \n",
       "15   116    discv5_topicSearch            True  [1, 1, 116]  1665753051909   \n",
       "16   117    discv5_topicSearch            True  [1, 1, 117]  1665753051909   \n",
       "17   118    discv5_topicSearch            True  [2, 1, 118]  1665753051922   \n",
       "18   119    discv5_topicSearch            True  [1, 1, 119]  1665753051922   \n",
       "19   120    discv5_topicSearch            True  [2, 1, 120]  1665753051924   \n",
       "\n",
       "                                               result       end_time  time  \\\n",
       "0                                                None  1665753040805     7   \n",
       "1                                                None  1665753040811     4   \n",
       "2                                                None  1665753041132     5   \n",
       "3                                                None  1665753041174     5   \n",
       "4                                                None  1665753041215     4   \n",
       "5                                                None  1665753041315     5   \n",
       "6                                                None  1665753041478     4   \n",
       "7                                                None  1665753041520     5   \n",
       "8                                                None  1665753041804     5   \n",
       "9                                                None  1665753041887     3   \n",
       "10  [26af1aed49f3fa42979da719a66dcc67d25fc32e7e2b3...  1665753051921    25   \n",
       "11  [26af1aed49f3fa42979da719a66dcc67d25fc32e7e2b3...  1665753051922    23   \n",
       "12  [26af1aed49f3fa42979da719a66dcc67d25fc32e7e2b3...  1665753051927    24   \n",
       "13  [7bf4fe5ba958402187f3b0dc7a54e836b4f92037dd330...  1665753051929    25   \n",
       "14  [7bf4fe5ba958402187f3b0dc7a54e836b4f92037dd330...  1665753051935    28   \n",
       "15  [26af1aed49f3fa42979da719a66dcc67d25fc32e7e2b3...  1665753051927    18   \n",
       "16  [b61aa6f401326819c97e5b6016aff00cd3802460d771a...  1665753051934    25   \n",
       "17  [b29c7be613d005398031189c840ca829db6a4fb211f88...  1665753051938    16   \n",
       "18  [26af1aed49f3fa42979da719a66dcc67d25fc32e7e2b3...  1665753051939    17   \n",
       "19  [7bf4fe5ba958402187f3b0dc7a54e836b4f92037dd330...  1665753051939    15   \n",
       "\n",
       "    topic  \n",
       "0     1.0  \n",
       "1     2.0  \n",
       "2     1.0  \n",
       "3     1.0  \n",
       "4     1.0  \n",
       "5     1.0  \n",
       "6     2.0  \n",
       "7     1.0  \n",
       "8     2.0  \n",
       "9     2.0  \n",
       "10    1.0  \n",
       "11    1.0  \n",
       "12    1.0  \n",
       "13    2.0  \n",
       "14    2.0  \n",
       "15    1.0  \n",
       "16    1.0  \n",
       "17    2.0  \n",
       "18    1.0  \n",
       "19    2.0  "
      ]
     },
     "execution_count": 1,
     "metadata": {},
     "output_type": "execute_result"
    }
   ],
   "source": [
    "from analyse_logs import *\n",
    "\n",
    "op_df = get_op_df(log_path)\n",
    "op_df\n"
   ]
  },
  {
   "cell_type": "code",
   "execution_count": 2,
   "metadata": {},
   "outputs": [
    {
     "data": {
      "text/plain": [
       "<AxesSubplot:title={'center':'Operation returned'}, ylabel='reply_received'>"
      ]
     },
     "execution_count": 2,
     "metadata": {},
     "output_type": "execute_result"
    },
    {
     "data": {
      "image/png": "[encoded data removed]",
      "text/plain": [
       "<Figure size 432x288 with 1 Axes>"
      ]
     },
     "metadata": {},
     "output_type": "display_data"
    }
   ],
   "source": [
    "op_df['reply_received'].value_counts().plot(kind = 'pie', autopct='%1.0f%%', legend=True, title='Operation returned')"
   ]
  },
  {
   "cell_type": "code",
   "execution_count": 3,
   "metadata": {},
   "outputs": [
    {
     "name": "stderr",
     "output_type": "stream",
     "text": [
      "/home/harnen/.local/lib/python3.10/site-packages/scipy/__init__.py:146: UserWarning: A NumPy version >=1.16.5 and <1.23.0 is required for this version of SciPy (detected version 1.23.3\n",
      "  warnings.warn(f\"A NumPy version >={np_minversion} and <{np_maxversion}\"\n"
     ]
    },
    {
     "data": {
      "text/plain": [
       "<AxesSubplot:xlabel='method', ylabel='time'>"
      ]
     },
     "execution_count": 3,
     "metadata": {},
     "output_type": "execute_result"
    },
    {
     "data": {
      "image/png": "[encoded data removed]",
      "text/plain": [
       "<Figure size 432x288 with 1 Axes>"
      ]
     },
     "metadata": {
      "needs_background": "light"
     },
     "output_type": "display_data"
    }
   ],
   "source": [
    "import matplotlib.pyplot as plt\n",
    "import seaborn as sns\n",
    "\n",
    "fig, axes = plt.subplots()\n",
    "df = op_df[~op_df['time'].isna()]\n",
    "df\n",
    "sns.violinplot(x='method',y='time', data=df, ax = axes, cut=0)\n",
    "#axes.set_title('Day Ahead Market')"
   ]
  },
  {
   "cell_type": "code",
   "execution_count": 4,
   "metadata": {},
   "outputs": [
    {
     "name": "stdout",
     "output_type": "stream",
     "text": [
      "Reading node-9.log\n",
      "Reading node-1.log\n",
      "Reading node-7.log\n",
      "Reading node-3.log\n",
      "Reading node-6.log\n",
      "Reading node-4.log\n",
      "Reading node-8.log\n",
      "Reading node-10.log\n",
      "Reading node-5.log\n",
      "Reading node-2.log\n"
     ]
    },
    {
     "data": {
      "text/html": [
       "<div>\n",
       "<style scoped>\n",
       "    .dataframe tbody tr th:only-of-type {\n",
       "        vertical-align: middle;\n",
       "    }\n",
       "\n",
       "    .dataframe tbody tr th {\n",
       "        vertical-align: top;\n",
       "    }\n",
       "\n",
       "    .dataframe thead th {\n",
       "        text-align: right;\n",
       "    }\n",
       "</style>\n",
       "<table border=\"1\" class=\"dataframe\">\n",
       "  <thead>\n",
       "    <tr style=\"text-align: right;\">\n",
       "      <th></th>\n",
       "      <th>node_id</th>\n",
       "      <th>peer_id</th>\n",
       "      <th>in_out</th>\n",
       "      <th>timestamp</th>\n",
       "      <th>msg_type</th>\n",
       "      <th>req_id</th>\n",
       "      <th>key</th>\n",
       "      <th>total_wtime</th>\n",
       "      <th>ok</th>\n",
       "      <th>opid</th>\n",
       "      <th>topic</th>\n",
       "      <th>op_type</th>\n",
       "    </tr>\n",
       "  </thead>\n",
       "  <tbody>\n",
       "    <tr>\n",
       "      <th>192</th>\n",
       "      <td>9</td>\n",
       "      <td>3</td>\n",
       "      <td>out</td>\n",
       "      <td>2022-10-14 14:10:41.131338+01:00</td>\n",
       "      <td>REGTOPIC/v5</td>\n",
       "      <td>0xb0172f7a65783e6c</td>\n",
       "      <td>1.0</td>\n",
       "      <td>NaN</td>\n",
       "      <td>NaN</td>\n",
       "      <td>103.0</td>\n",
       "      <td>1.0</td>\n",
       "      <td>discv5_registerTopic</td>\n",
       "    </tr>\n",
       "    <tr>\n",
       "      <th>197</th>\n",
       "      <td>9</td>\n",
       "      <td>4</td>\n",
       "      <td>out</td>\n",
       "      <td>2022-10-14 14:10:41.134976+01:00</td>\n",
       "      <td>REGTOPIC/v5</td>\n",
       "      <td>0x526c504f3ca25e19</td>\n",
       "      <td>1.0</td>\n",
       "      <td>NaN</td>\n",
       "      <td>NaN</td>\n",
       "      <td>103.0</td>\n",
       "      <td>1.0</td>\n",
       "      <td>discv5_registerTopic</td>\n",
       "    </tr>\n",
       "    <tr>\n",
       "      <th>200</th>\n",
       "      <td>9</td>\n",
       "      <td>6</td>\n",
       "      <td>out</td>\n",
       "      <td>2022-10-14 14:10:41.136213+01:00</td>\n",
       "      <td>REGTOPIC/v5</td>\n",
       "      <td>0xd024a3c2be859d82</td>\n",
       "      <td>1.0</td>\n",
       "      <td>NaN</td>\n",
       "      <td>NaN</td>\n",
       "      <td>103.0</td>\n",
       "      <td>1.0</td>\n",
       "      <td>discv5_registerTopic</td>\n",
       "    </tr>\n",
       "    <tr>\n",
       "      <th>203</th>\n",
       "      <td>9</td>\n",
       "      <td>1</td>\n",
       "      <td>out</td>\n",
       "      <td>2022-10-14 14:10:41.137622+01:00</td>\n",
       "      <td>REGTOPIC/v5</td>\n",
       "      <td>0xfd2d0ec596f4fac0</td>\n",
       "      <td>1.0</td>\n",
       "      <td>NaN</td>\n",
       "      <td>NaN</td>\n",
       "      <td>103.0</td>\n",
       "      <td>1.0</td>\n",
       "      <td>discv5_registerTopic</td>\n",
       "    </tr>\n",
       "    <tr>\n",
       "      <th>208</th>\n",
       "      <td>9</td>\n",
       "      <td>8</td>\n",
       "      <td>out</td>\n",
       "      <td>2022-10-14 14:10:41.141095+01:00</td>\n",
       "      <td>REGTOPIC/v5</td>\n",
       "      <td>0xb81436b8ca76364e</td>\n",
       "      <td>1.0</td>\n",
       "      <td>NaN</td>\n",
       "      <td>NaN</td>\n",
       "      <td>103.0</td>\n",
       "      <td>1.0</td>\n",
       "      <td>discv5_registerTopic</td>\n",
       "    </tr>\n",
       "    <tr>\n",
       "      <th>...</th>\n",
       "      <td>...</td>\n",
       "      <td>...</td>\n",
       "      <td>...</td>\n",
       "      <td>...</td>\n",
       "      <td>...</td>\n",
       "      <td>...</td>\n",
       "      <td>...</td>\n",
       "      <td>...</td>\n",
       "      <td>...</td>\n",
       "      <td>...</td>\n",
       "      <td>...</td>\n",
       "      <td>...</td>\n",
       "    </tr>\n",
       "    <tr>\n",
       "      <th>12950</th>\n",
       "      <td>2</td>\n",
       "      <td>4</td>\n",
       "      <td>out</td>\n",
       "      <td>2022-10-14 14:17:41.872269+01:00</td>\n",
       "      <td>NODES/v5</td>\n",
       "      <td>0x4631afe23d338cc2</td>\n",
       "      <td>NaN</td>\n",
       "      <td>NaN</td>\n",
       "      <td>NaN</td>\n",
       "      <td>109.0</td>\n",
       "      <td>2.0</td>\n",
       "      <td>discv5_registerTopic</td>\n",
       "    </tr>\n",
       "    <tr>\n",
       "      <th>12952</th>\n",
       "      <td>2</td>\n",
       "      <td>8</td>\n",
       "      <td>out</td>\n",
       "      <td>2022-10-14 14:17:41.950903+01:00</td>\n",
       "      <td>REGCONFIRMATION/v5</td>\n",
       "      <td>0x3172b106134a5748</td>\n",
       "      <td>NaN</td>\n",
       "      <td>85341.0</td>\n",
       "      <td>true</td>\n",
       "      <td>110.0</td>\n",
       "      <td>2.0</td>\n",
       "      <td>discv5_registerTopic</td>\n",
       "    </tr>\n",
       "    <tr>\n",
       "      <th>12953</th>\n",
       "      <td>2</td>\n",
       "      <td>8</td>\n",
       "      <td>out</td>\n",
       "      <td>2022-10-14 14:17:41.950941+01:00</td>\n",
       "      <td>NODES/v5</td>\n",
       "      <td>0x3172b106134a5748</td>\n",
       "      <td>NaN</td>\n",
       "      <td>NaN</td>\n",
       "      <td>NaN</td>\n",
       "      <td>110.0</td>\n",
       "      <td>2.0</td>\n",
       "      <td>discv5_registerTopic</td>\n",
       "    </tr>\n",
       "    <tr>\n",
       "      <th>12954</th>\n",
       "      <td>2</td>\n",
       "      <td>8</td>\n",
       "      <td>out</td>\n",
       "      <td>2022-10-14 14:17:41.950966+01:00</td>\n",
       "      <td>NODES/v5</td>\n",
       "      <td>0x3172b106134a5748</td>\n",
       "      <td>NaN</td>\n",
       "      <td>NaN</td>\n",
       "      <td>NaN</td>\n",
       "      <td>110.0</td>\n",
       "      <td>2.0</td>\n",
       "      <td>discv5_registerTopic</td>\n",
       "    </tr>\n",
       "    <tr>\n",
       "      <th>12955</th>\n",
       "      <td>2</td>\n",
       "      <td>8</td>\n",
       "      <td>out</td>\n",
       "      <td>2022-10-14 14:17:41.950989+01:00</td>\n",
       "      <td>NODES/v5</td>\n",
       "      <td>0x3172b106134a5748</td>\n",
       "      <td>NaN</td>\n",
       "      <td>NaN</td>\n",
       "      <td>NaN</td>\n",
       "      <td>110.0</td>\n",
       "      <td>2.0</td>\n",
       "      <td>discv5_registerTopic</td>\n",
       "    </tr>\n",
       "  </tbody>\n",
       "</table>\n",
       "<p>2324 rows × 12 columns</p>\n",
       "</div>"
      ],
      "text/plain": [
       "      node_id  peer_id in_out                        timestamp  \\\n",
       "192         9        3    out 2022-10-14 14:10:41.131338+01:00   \n",
       "197         9        4    out 2022-10-14 14:10:41.134976+01:00   \n",
       "200         9        6    out 2022-10-14 14:10:41.136213+01:00   \n",
       "203         9        1    out 2022-10-14 14:10:41.137622+01:00   \n",
       "208         9        8    out 2022-10-14 14:10:41.141095+01:00   \n",
       "...       ...      ...    ...                              ...   \n",
       "12950       2        4    out 2022-10-14 14:17:41.872269+01:00   \n",
       "12952       2        8    out 2022-10-14 14:17:41.950903+01:00   \n",
       "12953       2        8    out 2022-10-14 14:17:41.950941+01:00   \n",
       "12954       2        8    out 2022-10-14 14:17:41.950966+01:00   \n",
       "12955       2        8    out 2022-10-14 14:17:41.950989+01:00   \n",
       "\n",
       "                 msg_type              req_id  key  total_wtime    ok   opid  \\\n",
       "192           REGTOPIC/v5  0xb0172f7a65783e6c  1.0          NaN   NaN  103.0   \n",
       "197           REGTOPIC/v5  0x526c504f3ca25e19  1.0          NaN   NaN  103.0   \n",
       "200           REGTOPIC/v5  0xd024a3c2be859d82  1.0          NaN   NaN  103.0   \n",
       "203           REGTOPIC/v5  0xfd2d0ec596f4fac0  1.0          NaN   NaN  103.0   \n",
       "208           REGTOPIC/v5  0xb81436b8ca76364e  1.0          NaN   NaN  103.0   \n",
       "...                   ...                 ...  ...          ...   ...    ...   \n",
       "12950            NODES/v5  0x4631afe23d338cc2  NaN          NaN   NaN  109.0   \n",
       "12952  REGCONFIRMATION/v5  0x3172b106134a5748  NaN      85341.0  true  110.0   \n",
       "12953            NODES/v5  0x3172b106134a5748  NaN          NaN   NaN  110.0   \n",
       "12954            NODES/v5  0x3172b106134a5748  NaN          NaN   NaN  110.0   \n",
       "12955            NODES/v5  0x3172b106134a5748  NaN          NaN   NaN  110.0   \n",
       "\n",
       "       topic               op_type  \n",
       "192      1.0  discv5_registerTopic  \n",
       "197      1.0  discv5_registerTopic  \n",
       "200      1.0  discv5_registerTopic  \n",
       "203      1.0  discv5_registerTopic  \n",
       "208      1.0  discv5_registerTopic  \n",
       "...      ...                   ...  \n",
       "12950    2.0  discv5_registerTopic  \n",
       "12952    2.0  discv5_registerTopic  \n",
       "12953    2.0  discv5_registerTopic  \n",
       "12954    2.0  discv5_registerTopic  \n",
       "12955    2.0  discv5_registerTopic  \n",
       "\n",
       "[2324 rows x 12 columns]"
      ]
     },
     "execution_count": 4,
     "metadata": {},
     "output_type": "execute_result"
    }
   ],
   "source": [
    "from analyse_logs import *\n",
    "\n",
    "msg_df = get_msg_df(log_path, op_df)\n",
    "msg_df"
   ]
  },
  {
   "cell_type": "code",
   "execution_count": 5,
   "metadata": {},
   "outputs": [],
   "source": [
    "#set the missing opids and op_types to all the messages being part of operations\n",
    "#print(msg_df)\n",
    "#for opid in set([i for i in op_df['opid']]):\n",
    "#    print(opid)\n",
    "#    op_type = op_df.loc[op_df['opid'] == opid, 'method'].values[0]\n",
    "#    topic = op_df.loc[op_df['opid'] == opid, 'topic'].values[0]\n",
    "#    for req_id in set([i for i in msg_df[msg_df['opid'] == opid]['req_id']]):\n",
    "#        msg_df.loc[msg_df[\"req_id\"] == req_id, \"opid\"] = opid\n",
    "#        msg_df.loc[msg_df['req_id'] == req_id, 'op_type'] = op_type\n",
    "#        msg_df.loc[msg_df['req_id'] == req_id, 'topic'] = topic\n",
    "\n",
    "\n",
    "# TODO: this is very slow now! \n",
    "#msg_df"
   ]
  },
  {
   "cell_type": "code",
   "execution_count": 6,
   "metadata": {},
   "outputs": [
    {
     "name": "stdout",
     "output_type": "stream",
     "text": [
      "discv5_registerTopic\n",
      "\t discv5_registerTopic\n",
      "\t\t NODES/v5 181\n",
      "\t\t REGCONFIRMATION/v5 64\n",
      "\t\t REGTOPIC/v5 72\n",
      "\t discv5_registerTopic\n",
      "\t\t NODES/v5 44\n",
      "\t\t REGCONFIRMATION/v5 16\n",
      "\t\t REGTOPIC/v5 72\n",
      "\t discv5_registerTopic\n",
      "\t\t NODES/v5 204\n",
      "\t\t REGCONFIRMATION/v5 72\n",
      "\t\t REGTOPIC/v5 72\n",
      "\t discv5_registerTopic\n",
      "\t\t REGTOPIC/v5 72\n",
      "\t discv5_registerTopic\n",
      "\t\t NODES/v5 113\n",
      "\t\t REGCONFIRMATION/v5 40\n",
      "\t\t REGTOPIC/v5 72\n",
      "\t discv5_registerTopic\n",
      "\t\t NODES/v5 135\n",
      "\t\t REGCONFIRMATION/v5 48\n",
      "\t\t REGTOPIC/v5 72\n",
      "\t discv5_registerTopic\n",
      "\t\t NODES/v5 22\n",
      "\t\t REGCONFIRMATION/v5 8\n",
      "\t\t REGTOPIC/v5 72\n",
      "\t discv5_registerTopic\n",
      "\t\t NODES/v5 157\n",
      "\t\t REGCONFIRMATION/v5 56\n",
      "\t\t REGTOPIC/v5 72\n",
      "\t discv5_registerTopic\n",
      "\t\t NODES/v5 89\n",
      "\t\t REGCONFIRMATION/v5 32\n",
      "\t\t REGTOPIC/v5 72\n",
      "\t discv5_registerTopic\n",
      "\t\t NODES/v5 66\n",
      "\t\t REGCONFIRMATION/v5 24\n",
      "\t\t REGTOPIC/v5 72\n",
      "discv5_topicSearch\n",
      "\t discv5_topicSearch\n",
      "\t\t FINDNODE/v5 9\n",
      "\t\t NODES/v5 22\n",
      "\t\t TOPICQUERY/v5 2\n",
      "\t discv5_topicSearch\n",
      "\t\t FINDNODE/v5 9\n",
      "\t\t TOPICQUERY/v5 2\n",
      "\t discv5_topicSearch\n",
      "\t\t FINDNODE/v5 9\n",
      "\t\t NODES/v5 16\n",
      "\t\t TOPICQUERY/v5 2\n",
      "\t discv5_topicSearch\n",
      "\t\t FINDNODE/v5 9\n",
      "\t\t NODES/v5 10\n",
      "\t\t TOPICQUERY/v5 2\n",
      "\t discv5_topicSearch\n",
      "\t\t FINDNODE/v5 9\n",
      "\t\t NODES/v5 3\n",
      "\t\t TOPICQUERY/v5 2\n",
      "\t discv5_topicSearch\n",
      "\t\t FINDNODE/v5 9\n",
      "\t\t NODES/v5 15\n",
      "\t\t TOPICQUERY/v5 2\n",
      "\t discv5_topicSearch\n",
      "\t\t FINDNODE/v5 9\n",
      "\t\t NODES/v5 19\n",
      "\t\t TOPICQUERY/v5 2\n",
      "\t discv5_topicSearch\n",
      "\t\t FINDNODE/v5 9\n",
      "\t\t NODES/v5 8\n",
      "\t\t TOPICQUERY/v5 2\n",
      "\t discv5_topicSearch\n",
      "\t\t FINDNODE/v5 9\n",
      "\t\t NODES/v5 25\n",
      "\t\t TOPICQUERY/v5 2\n",
      "\t discv5_topicSearch\n",
      "\t\t FINDNODE/v5 9\n",
      "\t\t NODES/v5 5\n",
      "\t\t TOPICQUERY/v5 2\n"
     ]
    },
    {
     "data": {
      "image/png": "[encoded data removed]",
      "text/plain": [
       "<Figure size 432x288 with 1 Axes>"
      ]
     },
     "metadata": {
      "needs_background": "light"
     },
     "output_type": "display_data"
    },
    {
     "data": {
      "image/png": "[encoded data removed]",
      "text/plain": [
       "<Figure size 432x288 with 1 Axes>"
      ]
     },
     "metadata": {
      "needs_background": "light"
     },
     "output_type": "display_data"
    }
   ],
   "source": [
    "from matplotlib.lines import Line2D\n",
    "\n",
    "msg_df = msg_df.dropna(subset=['opid'])\n",
    "\n",
    "colors = ['red', 'green', 'blue', 'yellow']\n",
    "for op_type, group_op_type in msg_df.groupby('op_type'):\n",
    "    #if(op_type != 'discv5_registerTopic'):\n",
    "        #continue\n",
    "    print(op_type)\n",
    "    fig, ax = plt.subplots()\n",
    "    legend_elements = []\n",
    "    added = set()\n",
    "    for opid, group_opid in group_op_type.groupby('opid'):\n",
    "        print(\"\\t\", op_type)\n",
    "        i = 0\n",
    "        sum = 0\n",
    "        for msg_type, group_msg_type in group_opid.groupby('msg_type'):\n",
    "            val = len(group_msg_type)\n",
    "            ax.bar(opid, val, color=colors[i], bottom = sum)\n",
    "            sum += val\n",
    "            print(\"\\t\\t\", msg_type, len(group_msg_type))\n",
    "            if(msg_type not in added):\n",
    "                added.add(msg_type)\n",
    "                legend_elements.append(Line2D([0], [0], color=colors[i], lw=4, label=msg_type))\n",
    "            i += 1\n",
    "    ax.legend(handles=legend_elements)\n",
    "    ax.set_title(op_type)\n",
    "plt.show()"
   ]
  },
  {
   "cell_type": "code",
   "execution_count": 7,
   "metadata": {},
   "outputs": [
    {
     "data": {
      "text/plain": [
       "<AxesSubplot:title={'center':'Msgs sent/received'}, ylabel='in_out'>"
      ]
     },
     "execution_count": 7,
     "metadata": {},
     "output_type": "execute_result"
    },
    {
     "data": {
      "image/png": "[encoded data removed]",
      "text/plain": [
       "<Figure size 432x288 with 1 Axes>"
      ]
     },
     "metadata": {},
     "output_type": "display_data"
    }
   ],
   "source": [
    "msg_df['in_out'].value_counts().plot(kind='pie', autopct='%1.0f%%', legend=True, title='Msgs sent/received')"
   ]
  },
  {
   "cell_type": "code",
   "execution_count": 8,
   "metadata": {},
   "outputs": [
    {
     "data": {
      "text/plain": [
       "Text(0, 0.5, '#Messages')"
      ]
     },
     "execution_count": 8,
     "metadata": {},
     "output_type": "execute_result"
    },
    {
     "data": {
      "image/png": "[encoded data removed]",
      "text/plain": [
       "<Figure size 432x288 with 1 Axes>"
      ]
     },
     "metadata": {
      "needs_background": "light"
     },
     "output_type": "display_data"
    }
   ],
   "source": [
    "import matplotlib.pyplot as plt\n",
    "\n",
    "sent = msg_df[msg_df['in_out'] == 'out']['node_id'].value_counts().to_dict()\n",
    "sent = {int(k):int(v) for k,v in sent.items()} #convert IDs to int\n",
    "\n",
    "received = msg_df[msg_df['in_out'] == 'out']['peer_id'].value_counts().to_dict()\n",
    "received = {int(k):int(v) for k,v in received.items()} #convert IDs to int\n",
    "\n",
    "width =0.3\n",
    "plt.bar(sent.keys(), sent.values(), width=width, label = 'sent')\n",
    "plt.bar([x + width for x in received.keys()], received.values(), width=width, label = 'received')\n",
    "plt.legend()\n",
    "plt.title('Messages exchanged')\n",
    "plt.xlabel('Node ID')\n",
    "plt.ylabel('#Messages')"
   ]
  },
  {
   "cell_type": "code",
   "execution_count": 9,
   "metadata": {},
   "outputs": [
    {
     "data": {
      "text/plain": [
       "<AxesSubplot:xlabel='in_out', ylabel='count'>"
      ]
     },
     "execution_count": 9,
     "metadata": {},
     "output_type": "execute_result"
    },
    {
     "data": {
      "image/png": "[encoded data removed]",
      "text/plain": [
       "<Figure size 432x288 with 1 Axes>"
      ]
     },
     "metadata": {
      "needs_background": "light"
     },
     "output_type": "display_data"
    }
   ],
   "source": [
    "import matplotlib.pyplot as plt\n",
    "import seaborn as sns\n",
    "\n",
    "fig, axes = plt.subplots()\n",
    "df_in = msg_df[msg_df['in_out']=='in']['node_id'].value_counts().rename_axis('node_id').reset_index(name='count')\n",
    "df_in['in_out'] = 'in'\n",
    "df_out = msg_df[msg_df['in_out']=='out']['node_id'].value_counts().rename_axis('node_id').reset_index(name='count')\n",
    "df_out['in_out'] = 'out'\n",
    "\n",
    "df = pd.concat([df_in, df_out], axis=0)\n",
    "sns.violinplot(x='in_out', y='count', data=df, ax = axes, cut=0, title='#Msg received/sent distribution per node')"
   ]
  },
  {
   "cell_type": "code",
   "execution_count": 10,
   "metadata": {},
   "outputs": [
    {
     "data": {
      "text/plain": [
       "<AxesSubplot:>"
      ]
     },
     "execution_count": 10,
     "metadata": {},
     "output_type": "execute_result"
    },
    {
     "data": {
      "image/png": "[encoded data removed]",
      "text/plain": [
       "<Figure size 432x288 with 1 Axes>"
      ]
     },
     "metadata": {
      "needs_background": "light"
     },
     "output_type": "display_data"
    }
   ],
   "source": [
    "msg_df['msg_type'].value_counts().plot(kind='bar')"
   ]
  },
  {
   "cell_type": "code",
   "execution_count": 11,
   "metadata": {},
   "outputs": [
    {
     "name": "stdout",
     "output_type": "stream",
     "text": [
      "discv5_registerTopic\n",
      "discv5_topicSearch\n"
     ]
    },
    {
     "data": {
      "image/png": "[encoded data removed]",
      "text/plain": [
       "<Figure size 432x288 with 1 Axes>"
      ]
     },
     "metadata": {
      "needs_background": "light"
     },
     "output_type": "display_data"
    },
    {
     "data": {
      "image/png": "[encoded data removed]",
      "text/plain": [
       "<Figure size 432x288 with 1 Axes>"
      ]
     },
     "metadata": {
      "needs_background": "light"
     },
     "output_type": "display_data"
    }
   ],
   "source": [
    "import numpy as np\n",
    "import math\n",
    "import hashlib\n",
    "\n",
    "for op_type, group_op_type in msg_df.groupby('op_type'):\n",
    "    print(op_type)\n",
    "    fig, ax = plt.subplots()\n",
    "    group_op_type['topic'].value_counts().plot(kind='bar', title=op_type)\n",
    "    ax.set_ylabel(\"#Messages\")\n",
    "\n"
   ]
  },
  {
   "cell_type": "code",
   "execution_count": 12,
   "metadata": {},
   "outputs": [
    {
     "data": {
      "text/plain": [
       "[<matplotlib.axis.YTick at 0x7f221050c970>,\n",
       " <matplotlib.axis.YTick at 0x7f21f4317400>,\n",
       " <matplotlib.axis.YTick at 0x7f21f4444250>,\n",
       " <matplotlib.axis.YTick at 0x7f21f44ca920>]"
      ]
     },
     "execution_count": 12,
     "metadata": {},
     "output_type": "execute_result"
    },
    {
     "data": {
      "image/png": "[encoded data removed]",
      "text/plain": [
       "<Figure size 432x288 with 1 Axes>"
      ]
     },
     "metadata": {
      "needs_background": "light"
     },
     "output_type": "display_data"
    }
   ],
   "source": [
    "op_df_exploded = op_df.copy()\n",
    "op_df_exploded = op_df_exploded.explode('result')\n",
    "fig, axes = plt.subplots()\n",
    "op_df_exploded['result'].value_counts().plot(ax = axes,kind='bar')\n",
    "axes.set_xticklabels([])\n",
    "axes.set_xlabel(\"Discovered Nodes\")\n",
    "axes.set_ylabel(\"Count\")\n",
    "axes.set_yticks(list(op_df_exploded['result'].value_counts()))"
   ]
  },
  {
   "cell_type": "code",
   "execution_count": 13,
   "metadata": {},
   "outputs": [
    {
     "data": {
      "text/plain": [
       "[<matplotlib.axis.YTick at 0x7f21f3c2cac0>,\n",
       " <matplotlib.axis.YTick at 0x7f21f3c2ccd0>,\n",
       " <matplotlib.axis.YTick at 0x7f21f46464d0>,\n",
       " <matplotlib.axis.YTick at 0x7f21f4ab7880>,\n",
       " <matplotlib.axis.YTick at 0x7f21f4ab4ee0>,\n",
       " <matplotlib.axis.YTick at 0x7f21f4af0760>,\n",
       " <matplotlib.axis.YTick at 0x7f21f4af1540>,\n",
       " <matplotlib.axis.YTick at 0x7f21f4af1a50>,\n",
       " <matplotlib.axis.YTick at 0x7f21f4af1f60>,\n",
       " <matplotlib.axis.YTick at 0x7f21f4af2470>]"
      ]
     },
     "execution_count": 13,
     "metadata": {},
     "output_type": "execute_result"
    },
    {
     "data": {
      "image/png": "[encoded data removed]",
      "text/plain": [
       "<Figure size 432x288 with 1 Axes>"
      ]
     },
     "metadata": {
      "needs_background": "light"
     },
     "output_type": "display_data"
    }
   ],
   "source": [
    "op_df_droppedNone = op_df_exploded.dropna(subset=['result'])\n",
    "fig, axes = plt.subplots()\n",
    "op_df_droppedNone['opid'].value_counts().plot(ax=axes, kind='bar')\n",
    "axes.set_xlabel(\"Topic search operation\")\n",
    "axes.set_ylabel(\"Number of results\")\n",
    "axes.set_yticks(list(op_df_droppedNone['opid'].value_counts()))"
   ]
  },
  {
   "cell_type": "code",
   "execution_count": 17,
   "metadata": {},
   "outputs": [
    {
     "ename": "TypeError",
     "evalue": "Index(...) must be called with a collection of some kind, 'ok' was passed",
     "output_type": "error",
     "traceback": [
      "\u001b[0;31m---------------------------------------------------------------------------\u001b[0m",
      "\u001b[0;31mTypeError\u001b[0m                                 Traceback (most recent call last)",
      "\u001b[1;32m/home/harnen/work/city/topdisc/go-ethereum/analyse.ipynb Cell 14\u001b[0m in \u001b[0;36m<cell line: 3>\u001b[0;34m()\u001b[0m\n\u001b[1;32m      <a href='vscode-notebook-cell:/home/harnen/work/city/topdisc/go-ethereum/analyse.ipynb#X54sZmlsZQ%3D%3D?line=0'>1</a>\u001b[0m \u001b[39mimport\u001b[39;00m \u001b[39mnumpy\u001b[39;00m\n\u001b[0;32m----> <a href='vscode-notebook-cell:/home/harnen/work/city/topdisc/go-ethereum/analyse.ipynb#X54sZmlsZQ%3D%3D?line=2'>3</a>\u001b[0m df \u001b[39m=\u001b[39m msg_df\u001b[39m.\u001b[39;49mdropna(subset\u001b[39m=\u001b[39;49m\u001b[39m'\u001b[39;49m\u001b[39mok\u001b[39;49m\u001b[39m'\u001b[39;49m, inplace\u001b[39m=\u001b[39;49m\u001b[39mFalse\u001b[39;49;00m)\n\u001b[1;32m      <a href='vscode-notebook-cell:/home/harnen/work/city/topdisc/go-ethereum/analyse.ipynb#X54sZmlsZQ%3D%3D?line=3'>4</a>\u001b[0m df\n",
      "File \u001b[0;32m~/.local/lib/python3.10/site-packages/pandas/core/frame.py:5001\u001b[0m, in \u001b[0;36mDataFrame.dropna\u001b[0;34m(self, axis, how, thresh, subset, inplace)\u001b[0m\n\u001b[1;32m   4999\u001b[0m \u001b[39mif\u001b[39;00m subset \u001b[39mis\u001b[39;00m \u001b[39mnot\u001b[39;00m \u001b[39mNone\u001b[39;00m:\n\u001b[1;32m   5000\u001b[0m     ax \u001b[39m=\u001b[39m \u001b[39mself\u001b[39m\u001b[39m.\u001b[39m_get_axis(agg_axis)\n\u001b[0;32m-> 5001\u001b[0m     indices \u001b[39m=\u001b[39m ax\u001b[39m.\u001b[39;49mget_indexer_for(subset)\n\u001b[1;32m   5002\u001b[0m     check \u001b[39m=\u001b[39m indices \u001b[39m==\u001b[39m \u001b[39m-\u001b[39m\u001b[39m1\u001b[39m\n\u001b[1;32m   5003\u001b[0m     \u001b[39mif\u001b[39;00m check\u001b[39m.\u001b[39many():\n",
      "File \u001b[0;32m~/.local/lib/python3.10/site-packages/pandas/core/indexes/base.py:4716\u001b[0m, in \u001b[0;36mIndex.get_indexer_for\u001b[0;34m(self, target, **kwargs)\u001b[0m\n\u001b[1;32m   4704\u001b[0m \u001b[39m\"\"\"\u001b[39;00m\n\u001b[1;32m   4705\u001b[0m \u001b[39mGuaranteed return of an indexer even when non-unique.\u001b[39;00m\n\u001b[1;32m   4706\u001b[0m \n\u001b[0;32m   (...)\u001b[0m\n\u001b[1;32m   4713\u001b[0m \u001b[39m    List of indices.\u001b[39;00m\n\u001b[1;32m   4714\u001b[0m \u001b[39m\"\"\"\u001b[39;00m\n\u001b[1;32m   4715\u001b[0m \u001b[39mif\u001b[39;00m \u001b[39mself\u001b[39m\u001b[39m.\u001b[39mis_unique:\n\u001b[0;32m-> 4716\u001b[0m     \u001b[39mreturn\u001b[39;00m \u001b[39mself\u001b[39;49m\u001b[39m.\u001b[39;49mget_indexer(target, \u001b[39m*\u001b[39;49m\u001b[39m*\u001b[39;49mkwargs)\n\u001b[1;32m   4717\u001b[0m indexer, _ \u001b[39m=\u001b[39m \u001b[39mself\u001b[39m\u001b[39m.\u001b[39mget_indexer_non_unique(target, \u001b[39m*\u001b[39m\u001b[39m*\u001b[39mkwargs)\n\u001b[1;32m   4718\u001b[0m \u001b[39mreturn\u001b[39;00m indexer\n",
      "File \u001b[0;32m~/.local/lib/python3.10/site-packages/pandas/core/indexes/base.py:2965\u001b[0m, in \u001b[0;36mIndex.get_indexer\u001b[0;34m(self, target, method, limit, tolerance)\u001b[0m\n\u001b[1;32m   2960\u001b[0m \u001b[39m@Appender\u001b[39m(_index_shared_docs[\u001b[39m\"\u001b[39m\u001b[39mget_indexer\u001b[39m\u001b[39m\"\u001b[39m] \u001b[39m%\u001b[39m _index_doc_kwargs)\n\u001b[1;32m   2961\u001b[0m \u001b[39mdef\u001b[39;00m \u001b[39mget_indexer\u001b[39m(\n\u001b[1;32m   2962\u001b[0m     \u001b[39mself\u001b[39m, target, method\u001b[39m=\u001b[39m\u001b[39mNone\u001b[39;00m, limit\u001b[39m=\u001b[39m\u001b[39mNone\u001b[39;00m, tolerance\u001b[39m=\u001b[39m\u001b[39mNone\u001b[39;00m\n\u001b[1;32m   2963\u001b[0m ) \u001b[39m-\u001b[39m\u001b[39m>\u001b[39m np\u001b[39m.\u001b[39mndarray:\n\u001b[1;32m   2964\u001b[0m     method \u001b[39m=\u001b[39m missing\u001b[39m.\u001b[39mclean_reindex_fill_method(method)\n\u001b[0;32m-> 2965\u001b[0m     target \u001b[39m=\u001b[39m ensure_index(target)\n\u001b[1;32m   2966\u001b[0m     \u001b[39mif\u001b[39;00m tolerance \u001b[39mis\u001b[39;00m \u001b[39mnot\u001b[39;00m \u001b[39mNone\u001b[39;00m:\n\u001b[1;32m   2967\u001b[0m         tolerance \u001b[39m=\u001b[39m \u001b[39mself\u001b[39m\u001b[39m.\u001b[39m_convert_tolerance(tolerance, target)\n",
      "File \u001b[0;32m~/.local/lib/python3.10/site-packages/pandas/core/indexes/base.py:5623\u001b[0m, in \u001b[0;36mensure_index\u001b[0;34m(index_like, copy)\u001b[0m\n\u001b[1;32m   5620\u001b[0m     \u001b[39mif\u001b[39;00m copy:\n\u001b[1;32m   5621\u001b[0m         index_like \u001b[39m=\u001b[39m copy_func(index_like)\n\u001b[0;32m-> 5623\u001b[0m \u001b[39mreturn\u001b[39;00m Index(index_like)\n",
      "File \u001b[0;32m~/.local/lib/python3.10/site-packages/pandas/core/indexes/base.py:415\u001b[0m, in \u001b[0;36mIndex.__new__\u001b[0;34m(cls, data, dtype, copy, name, tupleize_cols, **kwargs)\u001b[0m\n\u001b[1;32m    412\u001b[0m     \u001b[39mreturn\u001b[39;00m \u001b[39mcls\u001b[39m\u001b[39m.\u001b[39m_simple_new(subarr, name)\n\u001b[1;32m    414\u001b[0m \u001b[39melif\u001b[39;00m data \u001b[39mis\u001b[39;00m \u001b[39mNone\u001b[39;00m \u001b[39mor\u001b[39;00m is_scalar(data):\n\u001b[0;32m--> 415\u001b[0m     \u001b[39mraise\u001b[39;00m \u001b[39mcls\u001b[39m\u001b[39m.\u001b[39m_scalar_data_error(data)\n\u001b[1;32m    416\u001b[0m \u001b[39melif\u001b[39;00m \u001b[39mhasattr\u001b[39m(data, \u001b[39m\"\u001b[39m\u001b[39m__array__\u001b[39m\u001b[39m\"\u001b[39m):\n\u001b[1;32m    417\u001b[0m     \u001b[39mreturn\u001b[39;00m Index(np\u001b[39m.\u001b[39masarray(data), dtype\u001b[39m=\u001b[39mdtype, copy\u001b[39m=\u001b[39mcopy, name\u001b[39m=\u001b[39mname, \u001b[39m*\u001b[39m\u001b[39m*\u001b[39mkwargs)\n",
      "\u001b[0;31mTypeError\u001b[0m: Index(...) must be called with a collection of some kind, 'ok' was passed"
     ]
    }
   ],
   "source": [
    "import numpy\n",
    "\n",
    "df = msg_df.dropna(subset=['ok'], inplace=False)\n",
    "df"
   ]
  }
 ],
 "metadata": {
  "kernelspec": {
   "display_name": "Python 3",
   "language": "python",
   "name": "python3"
  },
  "language_info": {
   "codemirror_mode": {
    "name": "ipython",
    "version": 3
   },
   "file_extension": ".py",
   "mimetype": "text/x-python",
   "name": "python",
   "nbconvert_exporter": "python",
   "pygments_lexer": "ipython3",
   "version": "3.6.10"
  },
  "vscode": {
   "interpreter": {
    "hash": "916dbcbb3f70747c44a77c7bcd40155683ae19c65e1c03b4aa3499c5328201f1"
   }
  }
 },
 "nbformat": 4,
 "nbformat_minor": 2
}
